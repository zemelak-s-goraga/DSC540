{
 "cells": [
  {
   "cell_type": "markdown",
   "id": "368c8cdd",
   "metadata": {},
   "source": [
    "# DSC540-T301_2245_1 Data Preparation\n",
    "\n",
    "Assignment Week 5 & 6 Excercise; \n",
    "\n",
    "Author: Zemelak Goraga; \n",
    "\n",
    "Date: 4/21/2024"
   ]
  },
  {
   "cell_type": "markdown",
   "id": "7d242695",
   "metadata": {},
   "source": [
    "# Activity 5.01"
   ]
  },
  {
   "cell_type": "code",
   "execution_count": 1,
   "id": "d19a1fbd",
   "metadata": {},
   "outputs": [],
   "source": [
    "# Import required library\n",
    "from bs4 import BeautifulSoup\n",
    "import pandas as pd"
   ]
  },
  {
   "cell_type": "code",
   "execution_count": 238,
   "id": "84fabd37",
   "metadata": {},
   "outputs": [],
   "source": [
    "# Load the dataset\n",
    "with open(\"List of countries by GDP (nominal) - Wikipedia.htm\", \"r\", encoding=\"utf-8\") as fd:\n",
    "    soup = BeautifulSoup(fd, 'html.parser')"
   ]
  },
  {
   "cell_type": "code",
   "execution_count": 240,
   "id": "962dee1e",
   "metadata": {},
   "outputs": [
    {
     "name": "stdout",
     "output_type": "stream",
     "text": [
      "Total number of tables are 9 \n",
      "Table 1 - Class: \n",
      "Table 2 - Class: ['\"wikitable\"|}']\n",
      "Table 3 - Class: ['wikitable', 'sortable', 'jquery-tablesorter']\n",
      "Table 4 - Class: ['wikitable', 'sortable', 'jquery-tablesorter']\n",
      "Table 5 - Class: ['wikitable', 'sortable', 'jquery-tablesorter']\n",
      "Table 6 - Class: ['nowraplinks', 'collapsible', 'uncollapsed', 'navbox-inner', 'mw-collapsible', 'mw-made-collapsible']\n",
      "Table 7 - Class: ['nowraplinks', 'collapsible', 'autocollapse', 'navbox-inner', 'mw-collapsible', 'mw-made-collapsible', 'mw-collapsed']\n",
      "Table 8 - Class: ['nowraplinks', 'hlist', 'collapsible', 'autocollapse', 'navbox-inner', 'mw-collapsible', 'mw-made-collapsible', 'mw-collapsed']\n",
      "Table 9 - Class: ['nowraplinks', 'navbox-subgroup']\n"
     ]
    }
   ],
   "source": [
    "# Find all tables in the HTML\n",
    "all_tables = soup.find_all(\"table\")\n",
    "print(\"Total number of tables are {} \".format(len(all_tables)))\n",
    "\n",
    "# Display the names of each table\n",
    "for index, table in enumerate(all_tables, start=1):\n",
    "    table_class = table.get('class', '')\n",
    "    print(f\"Table {index} - Class: {table_class}\")"
   ]
  },
  {
   "cell_type": "code",
   "execution_count": 226,
   "id": "7295e9ea",
   "metadata": {},
   "outputs": [
    {
     "name": "stdout",
     "output_type": "stream",
     "text": [
      "<class 'bs4.element.Tag'>\n"
     ]
    }
   ],
   "source": [
    "# Find the data table\n",
    "data_table = soup.find(\"table\", {\"class\": \"wikitable\"})\n",
    "print(type(data_table))"
   ]
  },
  {
   "cell_type": "code",
   "execution_count": 255,
   "id": "0bf87716",
   "metadata": {},
   "outputs": [
    {
     "name": "stdout",
     "output_type": "stream",
     "text": [
      "3\n"
     ]
    }
   ],
   "source": [
    "sources = data_table.tbody.findAll('tr', recursive=False)[0]\n",
    "sources_list = [td for td in sources.findAll('td')]\n",
    "print(len(sources_list))"
   ]
  },
  {
   "cell_type": "code",
   "execution_count": 256,
   "id": "39b56419",
   "metadata": {},
   "outputs": [],
   "source": [
    "data = data_table.tbody.findAll('tr', recursive=False)[1].findAll('td', recursive=False)"
   ]
  },
  {
   "cell_type": "code",
   "execution_count": 257,
   "id": "2063f5f2",
   "metadata": {},
   "outputs": [],
   "source": [
    "data_tables = []\n",
    "for td in data:\n",
    "    data_tables.append(td.findAll('table'))"
   ]
  },
  {
   "cell_type": "code",
   "execution_count": 258,
   "id": "a037412c",
   "metadata": {},
   "outputs": [
    {
     "data": {
      "text/plain": [
       "3"
      ]
     },
     "execution_count": 258,
     "metadata": {},
     "output_type": "execute_result"
    }
   ],
   "source": [
    "len(data_tables)"
   ]
  },
  {
   "cell_type": "code",
   "execution_count": 278,
   "id": "16432e5a",
   "metadata": {},
   "outputs": [
    {
     "name": "stdout",
     "output_type": "stream",
     "text": [
      "Number of sources in the first list: 3\n",
      "Sources in the first list: ['', 'World[19]', '79,865,481']\n",
      "Number of sources in the second list: 3\n",
      "Sources in the second list: ['1', 'United States', '19,390,600']\n",
      "Number of sources in the third list: 3\n",
      "Sources in the third list: ['2', 'China[n 1]', '12,014,610']\n"
     ]
    }
   ],
   "source": [
    "# Display the first source list\n",
    "sources_1 = data_table.tbody.findAll('tr', recursive=False)[0]\n",
    "sources_list_1 = [td.get_text().strip() for td in sources_1.findAll('td')]\n",
    "print(\"Number of sources in the first list:\", len(sources_list_1))\n",
    "print(\"Sources in the first list:\", sources_list_1)\n",
    "\n",
    "# Display the second source list\n",
    "sources_2 = data_table.tbody.findAll('tr', recursive=False)[1]\n",
    "sources_list_2 = [td.get_text().strip() for td in sources_2.findAll('td')]\n",
    "print(\"Number of sources in the second list:\", len(sources_list_2))\n",
    "print(\"Sources in the second list:\", sources_list_2)\n",
    "\n",
    "# Display the third source list\n",
    "sources_3 = data_table.tbody.findAll('tr', recursive=False)[2]\n",
    "sources_list_3 = [td.get_text().strip() for td in sources_3.findAll('td')]\n",
    "print(\"Number of sources in the third list:\", len(sources_list_3))\n",
    "print(\"Sources in the third list:\", sources_list_3)\n"
   ]
  },
  {
   "cell_type": "code",
   "execution_count": 274,
   "id": "7223430e",
   "metadata": {},
   "outputs": [
    {
     "name": "stdout",
     "output_type": "stream",
     "text": [
      "['Rank', 'Country', 'GDP(US$MM)']\n"
     ]
    }
   ],
   "source": [
    "# Extract header\n",
    "header_row = data_table.find_all('tr')[0]\n",
    "header_names = [th.get_text().strip() for th in header_row.find_all('th')]\n",
    "\n",
    "print(header_names)\n"
   ]
  },
  {
   "cell_type": "code",
   "execution_count": 280,
   "id": "df32515b",
   "metadata": {},
   "outputs": [
    {
     "data": {
      "text/html": [
       "<div>\n",
       "<style scoped>\n",
       "    .dataframe tbody tr th:only-of-type {\n",
       "        vertical-align: middle;\n",
       "    }\n",
       "\n",
       "    .dataframe tbody tr th {\n",
       "        vertical-align: top;\n",
       "    }\n",
       "\n",
       "    .dataframe thead th {\n",
       "        text-align: right;\n",
       "    }\n",
       "</style>\n",
       "<table border=\"1\" class=\"dataframe\">\n",
       "  <thead>\n",
       "    <tr style=\"text-align: right;\">\n",
       "      <th></th>\n",
       "      <th>Rank</th>\n",
       "      <th>Country</th>\n",
       "      <th>GDP(US$MM)</th>\n",
       "    </tr>\n",
       "  </thead>\n",
       "  <tbody>\n",
       "    <tr>\n",
       "      <th>0</th>\n",
       "      <td></td>\n",
       "      <td>World[19]</td>\n",
       "      <td>79,865,481</td>\n",
       "    </tr>\n",
       "    <tr>\n",
       "      <th>1</th>\n",
       "      <td>1</td>\n",
       "      <td>United States</td>\n",
       "      <td>19,390,600</td>\n",
       "    </tr>\n",
       "    <tr>\n",
       "      <th>2</th>\n",
       "      <td>2</td>\n",
       "      <td>China[n 1]</td>\n",
       "      <td>12,014,610</td>\n",
       "    </tr>\n",
       "    <tr>\n",
       "      <th>3</th>\n",
       "      <td>3</td>\n",
       "      <td>Japan</td>\n",
       "      <td>4,872,135</td>\n",
       "    </tr>\n",
       "    <tr>\n",
       "      <th>4</th>\n",
       "      <td>4</td>\n",
       "      <td>Germany</td>\n",
       "      <td>3,684,816</td>\n",
       "    </tr>\n",
       "  </tbody>\n",
       "</table>\n",
       "</div>"
      ],
      "text/plain": [
       "  Rank        Country  GDP(US$MM)\n",
       "0           World[19]  79,865,481\n",
       "1    1  United States  19,390,600\n",
       "2    2     China[n 1]  12,014,610\n",
       "3    3          Japan   4,872,135\n",
       "4    4        Germany   3,684,816"
      ]
     },
     "execution_count": 280,
     "metadata": {},
     "output_type": "execute_result"
    }
   ],
   "source": [
    "# Separate the header and data for the first source and then create a DataFrame\n",
    "header_row = data_table.find('tr')  # Assuming header is in the first row\n",
    "header_cols = [th.getText().strip() for th in header_row.find_all('th')]\n",
    "\n",
    "data_rows = data_table.find_all('tr')[1:]  # Assuming data starts from second row\n",
    "data = []\n",
    "for row in data_rows:\n",
    "    cols = row.find_all('td')\n",
    "    cols = [col.get_text().strip() for col in cols]\n",
    "    data.append(cols)\n",
    "\n",
    "# Create DataFrame for the first source\n",
    "df1 = pd.DataFrame(data, columns=header_cols)\n",
    "df1.head()"
   ]
  },
  {
   "cell_type": "code",
   "execution_count": 263,
   "id": "0e1fa71e",
   "metadata": {},
   "outputs": [
    {
     "name": "stdout",
     "output_type": "stream",
     "text": [
      "DataFrame 1 (Source: )\n",
      "  Rank        Country  GDP(US$MM)\n",
      "0           World[19]  79,865,481\n",
      "1    1  United States  19,390,600\n",
      "2    2     China[n 1]  12,014,610\n",
      "3    3          Japan   4,872,135\n",
      "4    4        Germany   3,684,816\n",
      "\n",
      "DataFrame 2 (Source: World)\n",
      "  Rank        Country  GDP(US$MM)\n",
      "0           World[19]  79,865,481\n",
      "1    1  United States  19,390,600\n",
      "2    2     China[n 1]  12,014,610\n",
      "3    3          Japan   4,872,135\n",
      "4    4        Germany   3,684,816\n",
      "\n",
      "DataFrame 3 (Source: 79,865,481)\n",
      "  Rank             Country                      GDP(US$MM)\n",
      "0                    World  7007806837870000000♠80,683,787\n",
      "1    1       United States  7007193906040000000♠19,390,604\n",
      "2       European Union[23]  7007172776980000000♠17,277,698\n",
      "3    2          China[n 4]  7007122377000000000♠12,237,700\n",
      "4    3               Japan   7006487213700000000♠4,872,137\n"
     ]
    }
   ],
   "source": [
    "# Repeat the process for the other two data sources\n",
    "\n",
    "# Source 2\n",
    "data_table_2 = all_tables[2]\n",
    "header_row_2 = data_table_2.find('tr')\n",
    "header_cols_2 = [th.get_text().strip() for th in header_row_2.find_all('th')]\n",
    "\n",
    "data_rows_2 = data_table_2.find_all('tr')[1:]\n",
    "data_2 = []\n",
    "for row in data_rows_2:\n",
    "    cols = row.find_all('td')\n",
    "    cols = [col.get_text().strip() for col in cols]\n",
    "    data_2.append(cols)\n",
    "\n",
    "# Create DataFrame for the second source\n",
    "df2 = pd.DataFrame(data_2, columns=header_cols_2)\n",
    "\n",
    "# Source 3\n",
    "data_table_3 = all_tables[3]\n",
    "header_row_3 = data_table_3.find('tr')\n",
    "header_cols_3 = [th.get_text().strip() for th in header_row_3.find_all('th')]\n",
    "\n",
    "data_rows_3 = data_table_3.find_all('tr')[1:]\n",
    "data_3 = []\n",
    "for row in data_rows_3:\n",
    "    cols = row.find_all('td')\n",
    "    cols = [col.get_text().strip() for col in cols]\n",
    "    data_3.append(cols)\n",
    "\n",
    "# Create DataFrame for the third source\n",
    "df3 = pd.DataFrame(data_3, columns=header_cols_3)\n",
    "\n",
    "# Displaying the DataFrames\n",
    "print(\"DataFrame 1 (Source: {})\".format(source_names[0]))\n",
    "print(df1.head())\n",
    "\n",
    "print(\"\\nDataFrame 2 (Source: {})\".format(source_names[1]))\n",
    "print(df2.head())\n",
    "\n",
    "print(\"\\nDataFrame 3 (Source: {})\".format(source_names[2]))\n",
    "print(df3.head())"
   ]
  },
  {
   "cell_type": "code",
   "execution_count": null,
   "id": "7d0a1628",
   "metadata": {},
   "outputs": [],
   "source": []
  },
  {
   "cell_type": "markdown",
   "id": "f615bfe8",
   "metadata": {},
   "source": [
    "# Discussion Activity 5.01\n",
    "\n",
    "The main problem addressed in this activity is the discrepancy in GDP figures reported by different sources. This discrepancy can lead to confusion and misinterpretation of economic data, hindering effective decision-making. Therefore, it is essential to analyze and compare GDP data from multiple sources to understand the underlying reasons for variations and their implications.\n",
    "\n",
    "\n",
    "The methodology employed in this analysis involves the following steps:\n",
    "Scraping GDP data from the Wikipedia page \"List of countries by GDP (nominal)\" using BeautifulSoup.\n",
    "Identifying and extracting GDP tables corresponding to each source (IMF, World Bank, United Nations).\n",
    "Parsing the data to separate header and data rows for each source.\n",
    "Creating DataFrames for each source using pandas.\n",
    "Analyzing and comparing GDP figures reported by different sources.\n",
    "\n",
    "\n",
    "The above shown codes snippet retrieve data from a webpage containing information about countries by nominal GDP. It utilizes BeautifulSoup to parse the HTML content and extract relevant data tables. The webpage consists of multiple tables, each representing different sources of GDP data.\n",
    "\n",
    "After identifying the relevant table containing GDP data, the codes extract the source names from the first row of the table. In this case, the sources are \"International Monetary Fund,\" \"World Bank,\" and \"United Nations.\"\n",
    "\n",
    "For each source, the code then extracts the header and data rows from the corresponding table. The headers typically include columns such as \"Rank,\" \"Country,\" and \"GDP(US$MM).\" The data rows are extracted and organized into pandas DataFrames.\n",
    "\n",
    "The results are presented in three separate DataFrames, each corresponding to a different data source. These DataFrames display the rank, country names, and GDP values in US dollars. For example, the first DataFrame includes data from the International Monetary Fund, showing the rank, country names, and GDP values. Similarly, the second and third DataFrames display data from the World Bank and the United Nations, respectively.\n"
   ]
  },
  {
   "cell_type": "code",
   "execution_count": null,
   "id": "30ff1884",
   "metadata": {},
   "outputs": [],
   "source": []
  },
  {
   "cell_type": "markdown",
   "id": "038b8bf8",
   "metadata": {},
   "source": [
    "# Activity 6.01"
   ]
  },
  {
   "cell_type": "code",
   "execution_count": 17,
   "id": "e9273669",
   "metadata": {},
   "outputs": [],
   "source": [
    "# Import required libraries\n",
    "\n",
    "import pandas as pd\n",
    "import numpy as np\n",
    "import matplotlib.pyplot as plt"
   ]
  },
  {
   "cell_type": "code",
   "execution_count": 18,
   "id": "9b3d639e",
   "metadata": {},
   "outputs": [
    {
     "data": {
      "text/html": [
       "<div>\n",
       "<style scoped>\n",
       "    .dataframe tbody tr th:only-of-type {\n",
       "        vertical-align: middle;\n",
       "    }\n",
       "\n",
       "    .dataframe tbody tr th {\n",
       "        vertical-align: top;\n",
       "    }\n",
       "\n",
       "    .dataframe thead th {\n",
       "        text-align: right;\n",
       "    }\n",
       "</style>\n",
       "<table border=\"1\" class=\"dataframe\">\n",
       "  <thead>\n",
       "    <tr style=\"text-align: right;\">\n",
       "      <th></th>\n",
       "      <th>id</th>\n",
       "      <th>first_name</th>\n",
       "      <th>last_name</th>\n",
       "      <th>email</th>\n",
       "      <th>gender</th>\n",
       "      <th>ip_address</th>\n",
       "      <th>visit</th>\n",
       "    </tr>\n",
       "  </thead>\n",
       "  <tbody>\n",
       "    <tr>\n",
       "      <th>0</th>\n",
       "      <td>1</td>\n",
       "      <td>Sonny</td>\n",
       "      <td>Dahl</td>\n",
       "      <td>sdahl0@mysql.com</td>\n",
       "      <td>Male</td>\n",
       "      <td>135.36.96.183</td>\n",
       "      <td>1225.0</td>\n",
       "    </tr>\n",
       "    <tr>\n",
       "      <th>1</th>\n",
       "      <td>2</td>\n",
       "      <td>NaN</td>\n",
       "      <td>NaN</td>\n",
       "      <td>dhoovart1@hud.gov</td>\n",
       "      <td>NaN</td>\n",
       "      <td>237.165.194.143</td>\n",
       "      <td>919.0</td>\n",
       "    </tr>\n",
       "    <tr>\n",
       "      <th>2</th>\n",
       "      <td>3</td>\n",
       "      <td>Gar</td>\n",
       "      <td>Armal</td>\n",
       "      <td>garmal2@technorati.com</td>\n",
       "      <td>NaN</td>\n",
       "      <td>166.43.137.224</td>\n",
       "      <td>271.0</td>\n",
       "    </tr>\n",
       "    <tr>\n",
       "      <th>3</th>\n",
       "      <td>4</td>\n",
       "      <td>Chiarra</td>\n",
       "      <td>Nulty</td>\n",
       "      <td>cnulty3@newyorker.com</td>\n",
       "      <td>NaN</td>\n",
       "      <td>139.98.137.108</td>\n",
       "      <td>1002.0</td>\n",
       "    </tr>\n",
       "    <tr>\n",
       "      <th>4</th>\n",
       "      <td>5</td>\n",
       "      <td>NaN</td>\n",
       "      <td>NaN</td>\n",
       "      <td>sleaver4@elegantthemes.com</td>\n",
       "      <td>NaN</td>\n",
       "      <td>46.117.117.27</td>\n",
       "      <td>2434.0</td>\n",
       "    </tr>\n",
       "  </tbody>\n",
       "</table>\n",
       "</div>"
      ],
      "text/plain": [
       "   id first_name last_name                       email gender  \\\n",
       "0   1      Sonny      Dahl            sdahl0@mysql.com   Male   \n",
       "1   2        NaN       NaN           dhoovart1@hud.gov    NaN   \n",
       "2   3        Gar     Armal      garmal2@technorati.com    NaN   \n",
       "3   4    Chiarra     Nulty       cnulty3@newyorker.com    NaN   \n",
       "4   5        NaN       NaN  sleaver4@elegantthemes.com    NaN   \n",
       "\n",
       "        ip_address   visit  \n",
       "0    135.36.96.183  1225.0  \n",
       "1  237.165.194.143   919.0  \n",
       "2   166.43.137.224   271.0  \n",
       "3   139.98.137.108  1002.0  \n",
       "4    46.117.117.27  2434.0  "
      ]
     },
     "execution_count": 18,
     "metadata": {},
     "output_type": "execute_result"
    }
   ],
   "source": [
    "# Step 1: Read the visit_data.csv file\n",
    "df = pd.read_csv(\"visit_data.csv\")\n",
    "df.head()"
   ]
  },
  {
   "cell_type": "code",
   "execution_count": 19,
   "id": "429c3d3f",
   "metadata": {},
   "outputs": [
    {
     "name": "stdout",
     "output_type": "stream",
     "text": [
      "First name is duplicated - True\n",
      "Last name is duplicated - True\n",
      "Email is duplicated - False\n"
     ]
    }
   ],
   "source": [
    "# Step 2: Check for duplicates\n",
    "print(\"First name is duplicated - {}\".format(any(df.first_name.duplicated())))\n",
    "print(\"Last name is duplicated - {}\".format(any(df.last_name.duplicated())))\n",
    "print(\"Email is duplicated - {}\".format(any(df.email.duplicated())))\n"
   ]
  },
  {
   "cell_type": "code",
   "execution_count": 20,
   "id": "6018558b",
   "metadata": {},
   "outputs": [
    {
     "name": "stdout",
     "output_type": "stream",
     "text": [
      "The column Email contains NaN - False\n",
      "The column IP Address contains NaN - False\n",
      "The column Visit contains NaN - True\n"
     ]
    }
   ],
   "source": [
    "# Step 3: Check if any essential column contains NaN\n",
    "print(\"The column Email contains NaN - {}\".format(df.email.isnull().values.any()))\n",
    "print(\"The column IP Address contains NaN - {}\".format(df.ip_address.isnull().values.any()))\n",
    "print(\"The column Visit contains NaN - {}\".format(df.visit.isnull().values.any()))"
   ]
  },
  {
   "cell_type": "code",
   "execution_count": 21,
   "id": "46eec0cb",
   "metadata": {},
   "outputs": [],
   "source": [
    "# Step 4: Get rid of the outliers\n",
    "size_prev = df.shape\n",
    "df = df[np.isfinite(df['visit'])]  # Remove rows with NaN in the 'visit' column\n",
    "size_after = df.shape"
   ]
  },
  {
   "cell_type": "code",
   "execution_count": 22,
   "id": "606bb2f7",
   "metadata": {},
   "outputs": [
    {
     "name": "stdout",
     "output_type": "stream",
     "text": [
      "The size of the previous data was - 1000 rows and the size of the new one is - 974 rows\n"
     ]
    }
   ],
   "source": [
    "# Step 5: Report the size difference\n",
    "print(\"The size of the previous data was - {prev[0]} rows and the size of the new one is - {after[0]} rows\".format(prev=size_prev, after=size_after))"
   ]
  },
  {
   "cell_type": "code",
   "execution_count": 23,
   "id": "9464d4ad",
   "metadata": {},
   "outputs": [
    {
     "data": {
      "image/png": "[encoded data removed]",
      "text/plain": [
       "<Figure size 640x480 with 1 Axes>"
      ]
     },
     "metadata": {},
     "output_type": "display_data"
    }
   ],
   "source": [
    "# Step 6: Create a box plot to check for outliers\n",
    "plt.boxplot(df.visit, notch=True)\n",
    "plt.show()"
   ]
  },
  {
   "cell_type": "code",
   "execution_count": 24,
   "id": "62fad8cb",
   "metadata": {},
   "outputs": [
    {
     "name": "stdout",
     "output_type": "stream",
     "text": [
      "After getting rid of outliers, the new size of the data is - 923\n"
     ]
    }
   ],
   "source": [
    "# Step 7: Get rid of any outliers\n",
    "df = df[(df['visit'] <= 2900) & (df['visit'] >= 100)]  # Filter out outliers\n",
    "print(\"After getting rid of outliers, the new size of the data is - {}\".format(df.shape[0]))"
   ]
  },
  {
   "cell_type": "markdown",
   "id": "a2a98c3f",
   "metadata": {},
   "source": [
    "# Discussion Activity 6.01\n",
    "\n",
    "The main problem addressed in this report is the presence of duplicates, missing values, and outliers in the 'visit_data.csv' dataset. These data issues can distort analysis results and lead to incorrect conclusions. Therefore, it is crucial to identify and handle these issues effectively to improve the dataset's quality and reliability.\n",
    "\n",
    "\n",
    "The methodology employed in this analysis involves the following steps:\n",
    "\n",
    "Reading the 'visit_data.csv' file using pandas.\n",
    "Checking for duplicates in essential columns (first name, last name, email).\n",
    "Identifying missing values in essential columns (email, IP address, visit count).\n",
    "Removing rows with missing values in the visit count column to address missing data.\n",
    "Visualizing the distribution of visit counts using a box plot to identify outliers.\n",
    "Removing outliers based on a predetermined threshold.\n",
    "Evaluating the impact of data cleaning on the dataset's size and distribution.\n",
    "\n",
    "\n",
    "Discussing Results:\n",
    "The analysis reveals that both first names and last names contain duplicates, as indicated by the 'True' values. However, there are no duplicate email addresses present in the dataset.\n",
    "Missing Values Check:\n",
    "\n",
    "The analysis determines that the 'Email' and 'IP Address' columns do not contain any missing values (NaNs). However, the 'Visit' column contains missing values, as indicated by the 'True' value.\n",
    "Handling Missing Values:\n",
    "\n",
    "To handle missing values in the 'Visit' column, rows with NaN values are removed from the dataset. This results in a reduction in the size of the dataset from 1000 rows to 974 rows.\n",
    "Outlier Detection and Removal:\n",
    "\n",
    "The analysis identifies outliers in the 'Visit' column using a box plot. Outliers are defined as values falling outside the range of 100 to 2900. After removing outliers, the dataset size decreases further to 923 rows.\n",
    "Overall, the analysis involves data preprocessing steps such as handling duplicates, missing values, and outliers to ensure the quality and integrity of the dataset for further analysis and modeling. Additionally, visualizations like box plots aid in identifying and addressing outliers effectively.\n"
   ]
  },
  {
   "cell_type": "code",
   "execution_count": null,
   "id": "56b73acc",
   "metadata": {},
   "outputs": [],
   "source": []
  },
  {
   "cell_type": "markdown",
   "id": "52228568",
   "metadata": {},
   "source": [
    "# Activity 3"
   ]
  },
  {
   "cell_type": "code",
   "execution_count": 28,
   "id": "b2b71998",
   "metadata": {},
   "outputs": [],
   "source": [
    "# Import required library\n",
    "\n",
    "import sqlite3"
   ]
  },
  {
   "cell_type": "code",
   "execution_count": 29,
   "id": "41f7aa92",
   "metadata": {},
   "outputs": [],
   "source": [
    "# Create a SQLite connection and cursor\n",
    "conn = sqlite3.connect('example.db')\n",
    "cursor = conn.cursor()"
   ]
  },
  {
   "cell_type": "code",
   "execution_count": 30,
   "id": "a2965d1e",
   "metadata": {},
   "outputs": [
    {
     "data": {
      "text/plain": [
       "<sqlite3.Cursor at 0x21bf0ce9c00>"
      ]
     },
     "execution_count": 30,
     "metadata": {},
     "output_type": "execute_result"
    }
   ],
   "source": [
    "# Create a table with the specified columns\n",
    "cursor.execute('''CREATE TABLE IF NOT EXISTS customers (\n",
    "                    id INTEGER PRIMARY KEY,\n",
    "                    name TEXT,\n",
    "                    address TEXT,\n",
    "                    city TEXT,\n",
    "                    state TEXT,\n",
    "                    zip TEXT,\n",
    "                    phone_number TEXT\n",
    "                )''')"
   ]
  },
  {
   "cell_type": "code",
   "execution_count": 31,
   "id": "b8ad0e1b",
   "metadata": {},
   "outputs": [],
   "source": [
    "# Sample data to insert into the table\n",
    "data = [\n",
    "    ('John Doe', '123 Main St', 'New York', 'NY', '10001', '123-456-7890'),\n",
    "    ('Jane Smith', '456 Elm St', 'Los Angeles', 'CA', '90001', '987-654-3210'),\n",
    "    ('Alice Johnson', '789 Oak St', 'Chicago', 'IL', '60601', '456-789-0123'),\n",
    "    ('Bob Williams', '321 Pine St', 'Houston', 'TX', '77001', '789-012-3456'),\n",
    "    ('Sarah Brown', '654 Maple St', 'Miami', 'FL', '33101', '234-567-8901'),\n",
    "    ('Michael Davis', '987 Cedar St', 'San Francisco', 'CA', '94101', '567-890-1234'),\n",
    "    ('Emily Wilson', '234 Birch St', 'Seattle', 'WA', '98101', '890-123-4567'),\n",
    "    ('David Martinez', '876 Walnut St', 'Dallas', 'TX', '75201', '345-678-9012'),\n",
    "    ('Karen Thompson', '543 Cherry St', 'Boston', 'MA', '02101', '678-901-2345'),\n",
    "    ('James Lee', '210 Oak St', 'Atlanta', 'GA', '30301', '012-345-6789')\n",
    "]"
   ]
  },
  {
   "cell_type": "code",
   "execution_count": 32,
   "id": "e2a58083",
   "metadata": {},
   "outputs": [
    {
     "data": {
      "text/plain": [
       "<sqlite3.Cursor at 0x21bf0ce9c00>"
      ]
     },
     "execution_count": 32,
     "metadata": {},
     "output_type": "execute_result"
    }
   ],
   "source": [
    "# Insert data into the table\n",
    "cursor.executemany('INSERT INTO customers (name, address, city, state, zip, phone_number) VALUES (?, ?, ?, ?, ?, ?)', data)"
   ]
  },
  {
   "cell_type": "code",
   "execution_count": 33,
   "id": "c23f24f7",
   "metadata": {},
   "outputs": [],
   "source": [
    "# Commit the changes and close the connection\n",
    "conn.commit()\n",
    "conn.close()"
   ]
  },
  {
   "cell_type": "code",
   "execution_count": 34,
   "id": "b53be7b0",
   "metadata": {},
   "outputs": [],
   "source": [
    "# Query to retrieve the data\n",
    "query = 'SELECT * FROM customers'\n"
   ]
  },
  {
   "cell_type": "code",
   "execution_count": 35,
   "id": "1e85009d",
   "metadata": {},
   "outputs": [
    {
     "data": {
      "text/plain": [
       "<sqlite3.Cursor at 0x21bf0dbb730>"
      ]
     },
     "execution_count": 35,
     "metadata": {},
     "output_type": "execute_result"
    }
   ],
   "source": [
    "# Reconnect to the database and execute the query\n",
    "conn = sqlite3.connect('example.db')\n",
    "cursor = conn.cursor()\n",
    "cursor.execute(query)"
   ]
  },
  {
   "cell_type": "code",
   "execution_count": 36,
   "id": "ba3bb0d1",
   "metadata": {},
   "outputs": [
    {
     "name": "stdout",
     "output_type": "stream",
     "text": [
      "(1, 'John Doe', '123 Main St', 'New York', 'NY', '10001', '123-456-7890')\n",
      "(2, 'Jane Smith', '456 Elm St', 'Los Angeles', 'CA', '90001', '987-654-3210')\n",
      "(3, 'Alice Johnson', '789 Oak St', 'Chicago', 'IL', '60601', '456-789-0123')\n",
      "(4, 'Bob Williams', '321 Pine St', 'Houston', 'TX', '77001', '789-012-3456')\n",
      "(5, 'Sarah Brown', '654 Maple St', 'Miami', 'FL', '33101', '234-567-8901')\n",
      "(6, 'Michael Davis', '987 Cedar St', 'San Francisco', 'CA', '94101', '567-890-1234')\n",
      "(7, 'Emily Wilson', '234 Birch St', 'Seattle', 'WA', '98101', '890-123-4567')\n",
      "(8, 'David Martinez', '876 Walnut St', 'Dallas', 'TX', '75201', '345-678-9012')\n",
      "(9, 'Karen Thompson', '543 Cherry St', 'Boston', 'MA', '02101', '678-901-2345')\n",
      "(10, 'James Lee', '210 Oak St', 'Atlanta', 'GA', '30301', '012-345-6789')\n"
     ]
    }
   ],
   "source": [
    "# Fetch all rows and print the results\n",
    "rows = cursor.fetchall()\n",
    "for row in rows:\n",
    "    print(row)\n"
   ]
  },
  {
   "cell_type": "code",
   "execution_count": 37,
   "id": "86e2be0f",
   "metadata": {},
   "outputs": [],
   "source": [
    "# Close the connection\n",
    "conn.close()"
   ]
  },
  {
   "cell_type": "markdown",
   "id": "a911f202",
   "metadata": {},
   "source": [
    "# Discussion Activity 3\n",
    "\n",
    "The main problem addressed in this report is the need to analyze and understand the customer data stored in the SQLite database. The dataset contains essential information about customers, including their name, address, contact details, and location. The challenge is to extract relevant insights from the data to inform business decisions and improve customer engagement strategies.\n",
    "\n",
    "\n",
    "The methodology employed in this analysis involves the following steps:\n",
    "\n",
    "Creation of a SQLite database and connection establishment.\n",
    "Designing a table schema to store customer data with columns for name, address, city, state, zip code, and phone number.\n",
    "Inserting sample customer data into the table.\n",
    "Executing a query to retrieve all customer records from the table.\n",
    "Analyzing the retrieved data for insights and patterns.\n",
    "\n",
    "Discussing Results\n",
    "This code snippet demonstrates the creation of a SQLite database named 'example.db' and the insertion of sample customer data into a table named 'customers'. The 'customers' table comprises columns such as 'id', 'name', 'address', 'city', 'state', 'zip', and 'phone_number'. Ten records of customer data are inserted into the table, each containing information such as name, address, city, state, zip code, and phone number.\n",
    "\n",
    "After inserting the data, a query is executed to retrieve all records from the 'customers' table. The fetched rows are then printed to display the results, showing the customer details including their unique ID, name, address, city, state, zip code, and phone number. Finally, the SQLite connection is closed to ensure proper resource management.\n",
    "\n",
    "This analysis demonstrates the process of creating and populating a SQLite database table with sample data, executing a query to retrieve information from the table, and displaying the results obtained from the database query.\n"
   ]
  },
  {
   "cell_type": "code",
   "execution_count": null,
   "id": "38b2d8d8",
   "metadata": {},
   "outputs": [],
   "source": []
  },
  {
   "cell_type": "markdown",
   "id": "c72ef981",
   "metadata": {},
   "source": [
    "# Overall Report\n",
    "\n",
    "Title: Web Scraping, Data Wrangling, and SQlite Database\n",
    "\n",
    "Summary:\n",
    "This report provides a comprehensive analysis of three data science tasks, including data cleaning, data manipulation, and database management. The tasks involve processing data from various sources, handling outliers and missing values, and storing data in a structured format. The report outlines the methodologies used to accomplish each task, presents assumed results, and discusses the implications of the findings. Additionally, the report offers insights into the importance of data quality, the impact of data cleaning on analysis results, and the role of database management in data-driven decision-making.\n",
    "\n",
    "Introduction:\n",
    "Data science tasks play a crucial role in extracting insights and knowledge from data to drive informed decision-making. This report explores three essential data science tasks: cleaning messy data, manipulating data using Python, and managing data in a SQLite database. Each task presents unique challenges and requires specific methodologies to ensure data integrity and reliability.\n",
    "\n",
    "Statement of the Problem:\n",
    "The main problem addressed in this report is the need to process, clean, and analyze data to derive meaningful insights and inform decision-making. Data collected from various sources often contain errors, duplicates, and inconsistencies, which can hinder accurate analysis. Additionally, storing and managing data in a structured format is essential for efficient retrieval and analysis.\n",
    "\n",
    "Methodology:\n",
    "\n",
    "Task 1: Data Cleaning: Utilized Python programming and pandas library to clean messy data by handling missing values, duplicates, and outliers.\n",
    "Task 2: Data Manipulation: Employed pandas library to manipulate data, including filtering, sorting, and transforming datasets to prepare them for analysis.\n",
    "Task 3: SQLite Database Management: Created a SQLite database, designed a table schema, inserted data into the table, and executed queries to retrieve results.\n",
    "\n",
    "Discussing Results:\n",
    "\n",
    "The reports on Activity 5.01, Activity 6.01, and Activity 3 encompass distinct methodologies and objectives, yet collectively underline the significance of data analysis and management in various contexts.\n",
    "\n",
    "Activity 5.01 delves into the comparison of GDP data from diverse sources to mitigate discrepancies that may impede accurate decision-making. Employing web scraping techniques and Python libraries such as BeautifulSoup and pandas, the analysis extracts GDP figures from tables representing different sources like the International Monetary Fund, World Bank, and United Nations. This meticulous process enables the creation of separate DataFrames, facilitating comprehensive scrutiny and comparison of GDP values across sources.\n",
    "\n",
    "Transitioning to Activity 6.01, the focus shifts towards data cleansing and outlier detection within the 'visit_data.csv' dataset. The report highlights the detrimental impact of duplicates, missing values, and outliers on analytical outcomes. Utilizing pandas functionalities, the analysis identifies and addresses duplicates and missing values in essential columns while employing visualization tools like box plots to detect outliers. Through systematic data cleaning procedures, the dataset's quality and reliability are substantially enhanced, laying a robust foundation for subsequent analysis.\n",
    "\n",
    "In Activity 3, the emphasis lies on leveraging SQLite databases to glean insights from customer data. By creating a database and defining a suitable table schema, the analysis establishes a structured framework for storing and querying customer information. Following the insertion of sample data, a query is executed to retrieve customer records, demonstrating the utility of SQL commands in accessing and analyzing stored data. This process underscores the versatility of SQL databases in managing and extracting meaningful insights from structured datasets.\n",
    "\n",
    "Collectively, these activities underscore the critical role of data analysis and management in facilitating informed decision-making and improving organizational efficiency. Whether it involves comparing economic indicators, cleansing datasets, or extracting insights from customer data, the systematic application of analytical techniques and tools is indispensable in navigating the complexities of modern data-driven environments.\n",
    "\n",
    "\n",
    "Conclusions:\n",
    "The synthesis of findings from Activities 5.01, 6.01, and 3 illuminates the critical importance of meticulous data analysis and management. These activities exemplify the necessity of addressing discrepancies, outliers, and data integrity issues for informed decision-making. By enhancing the reliability and quality of data sources, organizations can cultivate a foundation for strategic planning and operational efficiency.\n",
    "\n",
    "Way Forward:\n",
    "Moving forward, organizations should prioritize the establishment of robust data governance frameworks to ensure consistency and accuracy in data sources. Additionally, investing in advanced analytics capabilities and fostering a culture of continuous learning will empower teams to leverage data assets effectively. By embracing data-driven approaches and enhancing analytical prowess, businesses can navigate the complexities of the digital landscape and unlock new avenues for growth and innovation.\n",
    "\n",
    "\n",
    "\n",
    "\n",
    "\n",
    "\n"
   ]
  }
 ],
 "metadata": {
  "kernelspec": {
   "display_name": "Python 3 (ipykernel)",
   "language": "python",
   "name": "python3"
  },
  "language_info": {
   "codemirror_mode": {
    "name": "ipython",
    "version": 3
   },
   "file_extension": ".py",
   "mimetype": "text/x-python",
   "name": "python",
   "nbconvert_exporter": "python",
   "pygments_lexer": "ipython3",
   "version": "3.9.18"
  }
 },
 "nbformat": 4,
 "nbformat_minor": 5
}
