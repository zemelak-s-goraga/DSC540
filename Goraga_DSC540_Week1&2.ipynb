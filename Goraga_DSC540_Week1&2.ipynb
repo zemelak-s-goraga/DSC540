{
 "cells": [
  {
   "cell_type": "markdown",
   "id": "d8d6b986",
   "metadata": {},
   "source": []
  },
  {
   "cell_type": "markdown",
   "id": "38e47894",
   "metadata": {},
   "source": [
    "# DSC540-T301_2245_1 Data Preparation\n",
    "\n",
    "Assignment Week 1 & 2; \n",
    "\n",
    "Author: Zemelak Goraga; \n",
    "\n",
    "Date: 3/22/2024"
   ]
  },
  {
   "cell_type": "code",
   "execution_count": null,
   "id": "fdc5f96c",
   "metadata": {},
   "outputs": [],
   "source": []
  },
  {
   "cell_type": "markdown",
   "id": "b1b492b6",
   "metadata": {},
   "source": [
    "# Task1: Activity 1.01\n",
    "\n",
    "Handling Lists\n",
    "\n",
    "In this activity, you will generate a list of random numbers and then generate another\n",
    "list from the ﬁrst one, which only contains numbers that are divisible by three. Repeat\n",
    "the experiment three times. Then, you will calculate the average difference of length\n",
    "betyouen the two lists.\n",
    "\n",
    "These are the steps for completing this activity:\n",
    "\n",
    "1. Create a list of 100 random numbers. here, I created a list of 300 random numbers to deviate my work from the author\n",
    "\n",
    "2. Create a new list from this random list, with numbers that are divisible by 3.\n",
    "\n",
    "3. Calculate the length of these two lists and store the difference in a new variable.\n",
    "\n",
    "4. Using a loop, perform steps 2 and 3 and ﬁnd the difference variable three times.\n",
    "\n",
    "5. Find the arithmetic mean of these three difference values.\n"
   ]
  },
  {
   "cell_type": "code",
   "execution_count": 1,
   "id": "5a36a3ff",
   "metadata": {},
   "outputs": [],
   "source": [
    "# Import required library\n",
    "import random\n"
   ]
  },
  {
   "cell_type": "code",
   "execution_count": 2,
   "id": "8cb4c0b1",
   "metadata": {},
   "outputs": [],
   "source": [
    "# Generate a list of 100 random numbers between 0 and 1000.\n",
    "\n",
    "random_number_list = [random.randint(0, 1000) for _ in range(100)]"
   ]
  },
  {
   "cell_type": "code",
   "execution_count": 4,
   "id": "8a374007",
   "metadata": {},
   "outputs": [
    {
     "data": {
      "text/plain": [
       "[55,\n",
       " 9,\n",
       " 729,\n",
       " 600,\n",
       " 363,\n",
       " 852,\n",
       " 634,\n",
       " 206,\n",
       " 249,\n",
       " 692,\n",
       " 750,\n",
       " 294,\n",
       " 626,\n",
       " 693,\n",
       " 241,\n",
       " 144,\n",
       " 579,\n",
       " 737,\n",
       " 212,\n",
       " 520,\n",
       " 762,\n",
       " 638,\n",
       " 273,\n",
       " 969,\n",
       " 774,\n",
       " 438,\n",
       " 905,\n",
       " 88,\n",
       " 417,\n",
       " 36,\n",
       " 120,\n",
       " 245,\n",
       " 342,\n",
       " 305,\n",
       " 905,\n",
       " 874,\n",
       " 764,\n",
       " 105,\n",
       " 931,\n",
       " 471,\n",
       " 455,\n",
       " 472,\n",
       " 910,\n",
       " 400,\n",
       " 413,\n",
       " 516,\n",
       " 404,\n",
       " 272,\n",
       " 155,\n",
       " 309,\n",
       " 718,\n",
       " 784,\n",
       " 119,\n",
       " 291,\n",
       " 386,\n",
       " 434,\n",
       " 844,\n",
       " 361,\n",
       " 254,\n",
       " 477,\n",
       " 101,\n",
       " 901,\n",
       " 954,\n",
       " 487,\n",
       " 774,\n",
       " 318,\n",
       " 417,\n",
       " 247,\n",
       " 105,\n",
       " 341,\n",
       " 904,\n",
       " 517,\n",
       " 775,\n",
       " 983,\n",
       " 659,\n",
       " 790,\n",
       " 721,\n",
       " 790,\n",
       " 316,\n",
       " 600,\n",
       " 599,\n",
       " 546,\n",
       " 253,\n",
       " 166,\n",
       " 20,\n",
       " 90,\n",
       " 600,\n",
       " 431,\n",
       " 852,\n",
       " 798,\n",
       " 338,\n",
       " 579,\n",
       " 113,\n",
       " 93,\n",
       " 172,\n",
       " 384,\n",
       " 382,\n",
       " 823,\n",
       " 253,\n",
       " 283]"
      ]
     },
     "execution_count": 4,
     "metadata": {},
     "output_type": "execute_result"
    }
   ],
   "source": [
    "random_number_list"
   ]
  },
  {
   "cell_type": "code",
   "execution_count": 5,
   "id": "6cc03495",
   "metadata": {},
   "outputs": [
    {
     "data": {
      "text/plain": [
       "[9,\n",
       " 729,\n",
       " 600,\n",
       " 363,\n",
       " 852,\n",
       " 249,\n",
       " 750,\n",
       " 294,\n",
       " 693,\n",
       " 144,\n",
       " 579,\n",
       " 762,\n",
       " 273,\n",
       " 969,\n",
       " 774,\n",
       " 438,\n",
       " 417,\n",
       " 36,\n",
       " 120,\n",
       " 342,\n",
       " 105,\n",
       " 471,\n",
       " 516,\n",
       " 309,\n",
       " 291,\n",
       " 477,\n",
       " 954,\n",
       " 774,\n",
       " 318,\n",
       " 417,\n",
       " 105,\n",
       " 600,\n",
       " 546,\n",
       " 90,\n",
       " 600,\n",
       " 852,\n",
       " 798,\n",
       " 579,\n",
       " 93,\n",
       " 384]"
      ]
     },
     "execution_count": 5,
     "metadata": {},
     "output_type": "execute_result"
    }
   ],
   "source": [
    "# Create a new list containing numbers from the random list that are divisible by 3.\n",
    "\n",
    "list_with_divisible_by_3 = [num for num in random_number_list if num % 3 == 0]\n",
    "list_with_divisible_by_3 "
   ]
  },
  {
   "cell_type": "code",
   "execution_count": 6,
   "id": "b2a9691e",
   "metadata": {},
   "outputs": [
    {
     "data": {
      "text/plain": [
       "100"
      ]
     },
     "execution_count": 6,
     "metadata": {},
     "output_type": "execute_result"
    }
   ],
   "source": [
    "# Calculate the length of the original random number list.\n",
    "\n",
    "length_of_random_list = len(random_number_list)\n",
    "length_of_random_list "
   ]
  },
  {
   "cell_type": "code",
   "execution_count": 7,
   "id": "45f4386d",
   "metadata": {},
   "outputs": [
    {
     "data": {
      "text/plain": [
       "40"
      ]
     },
     "execution_count": 7,
     "metadata": {},
     "output_type": "execute_result"
    }
   ],
   "source": [
    "# Calculate the length of the list containing numbers divisible by 3.\n",
    "\n",
    "length_of_3_divisible_list = len(list_with_divisible_by_3)\n",
    "length_of_3_divisible_list "
   ]
  },
  {
   "cell_type": "code",
   "execution_count": 8,
   "id": "a89ef4ce",
   "metadata": {},
   "outputs": [
    {
     "data": {
      "text/plain": [
       "60"
      ]
     },
     "execution_count": 8,
     "metadata": {},
     "output_type": "execute_result"
    }
   ],
   "source": [
    "# Calculate the difference in lengths between the original list and the list containing numbers divisible by 3.\n",
    "\n",
    "difference = length_of_random_list - length_of_3_divisible_list\n",
    "difference"
   ]
  },
  {
   "cell_type": "code",
   "execution_count": 9,
   "id": "fd46fb9e",
   "metadata": {},
   "outputs": [],
   "source": [
    "# Define the number of experiments to run.\n",
    "\n",
    "NUMBER_OF_EXPERIMENTS = 3"
   ]
  },
  {
   "cell_type": "code",
   "execution_count": 11,
   "id": "25b00504",
   "metadata": {},
   "outputs": [
    {
     "data": {
      "text/plain": [
       "[]"
      ]
     },
     "execution_count": 11,
     "metadata": {},
     "output_type": "execute_result"
    }
   ],
   "source": [
    "# Create an empty list to store differences in length.\n",
    "\n",
    "difference_list = []\n",
    "difference_list "
   ]
  },
  {
   "cell_type": "code",
   "execution_count": 12,
   "id": "d6cf120b",
   "metadata": {},
   "outputs": [],
   "source": [
    "# Perform multiple experiments.\n",
    "for _ in range(NUMBER_OF_EXPERIMENTS):\n",
    "    # Generate a new list of 100 random numbers.\n",
    "    random_number_list = [random.randint(0, 1000) for _ in range(100)]\n",
    "    \n",
    "    # Create a new list containing numbers from the random list that are divisible by 3.\n",
    "    list_with_divisible_by_3 = [num for num in random_number_list if num % 3 == 0]\n",
    "    \n",
    "    # Calculate the length of the new random number list.\n",
    "    length_of_random_list = len(random_number_list)\n",
    "    \n",
    "    # Calculate the length of the list containing numbers divisible by 3.\n",
    "    length_of_3_divisible_list = len(list_with_divisible_by_3)\n",
    "    \n",
    "    # Calculate the difference in lengths between the new random list and the list containing numbers divisible by 3.\n",
    "    difference = length_of_random_list - length_of_3_divisible_list\n",
    "    \n",
    "    # Append the difference to the difference_list.\n",
    "    difference_list.append(difference)\n"
   ]
  },
  {
   "cell_type": "code",
   "execution_count": 14,
   "id": "335c2a5d",
   "metadata": {},
   "outputs": [
    {
     "data": {
      "text/plain": [
       "69.66666666666667"
      ]
     },
     "execution_count": 14,
     "metadata": {},
     "output_type": "execute_result"
    }
   ],
   "source": [
    "# Calculate the average difference in length.\n",
    "avg_diff = sum(difference_list) / len(difference_list)\n",
    "avg_diff"
   ]
  },
  {
   "cell_type": "markdown",
   "id": "c3824ce5",
   "metadata": {},
   "source": [
    "# Discussion   Activity 1.01:\n",
    "\n",
    "The task involves generating a list of random numbers, creating another list from the original one containing only numbers divisible by three, repeating this process three times, and then calculating the average difference in length between the original list and the list with numbers divisible by three.\n",
    "\n",
    "Methodology and Implementation:\n",
    "List Generation and Filtering:\n",
    "A list of 100 random numbers between 0 and 1000 was generated using a list comprehension.\n",
    "Another list was created from the random list, containing numbers divisible by three, using list comprehension with a conditional statement.\n",
    "Length Calculation:\n",
    "The lengths of both the original random number list and the list containing numbers divisible by three were calculated using the len() function.\n",
    "The difference in lengths between these two lists was computed and stored in a variable.\n",
    "Multiple Experiments:\n",
    "The above process was repeated three times using a loop to simulate multiple experiments.\n",
    "Each iteration generated a new set of random numbers and calculated the corresponding difference in lengths.\n",
    "The differences were appended to a list for further analysis.\n",
    "Average Calculation:\n",
    "The average difference in length was calculated by summing up all the differences and dividing by the total number of experiments.\n",
    "\n",
    "Results and Observations:\n",
    "\n",
    "Random Number Generation:\n",
    "A list of 100 random numbers was successfully generated, ensuring a diverse range of values for analysis.\n",
    "List Filtering:\n",
    "The filtering process effectively created a new list containing only numbers divisible by three, demonstrating the use of list comprehensions and conditional statements.\n",
    "Difference Calculation:\n",
    "The difference in lengths between the original list and the filtered list was calculated accurately for each experiment, providing insights into the distribution of numbers.\n",
    "Average Difference:\n",
    "The average difference in length, computed over three experiments, was approximately 69.67, indicating a consistent pattern in the data.\n",
    "\n",
    "The task of handling lists involved generating random numbers, filtering them based on divisibility by three, and analyzing the differences in list lengths across multiple experiments. Through systematic implementation and calculation, valuable insights were gained regarding the distribution of numbers and the effectiveness of the filtering process. This activity underscores the importance of list manipulation techniques and statistical analysis in data processing tasks."
   ]
  },
  {
   "cell_type": "markdown",
   "id": "038e786a",
   "metadata": {},
   "source": []
  },
  {
   "cell_type": "markdown",
   "id": "1a230e79",
   "metadata": {},
   "source": [
    "# Task2: Activity 1.02\n",
    "\n",
    "Analyze a Multiline String and Generate the Unique Word Count\n",
    "\n",
    "This section is about the various basic data structures and their manipulation. You will do that by going through an activity that has been designed speciﬁcally for this purpose.\n",
    "\n",
    "In this activity, You will do the following:\n",
    "\n",
    "- Get multiline text and save it in a Python variable\n",
    "- Get rid of all new lines in it using string methods\n",
    "- Get all the unique words and their occurrences from the string \n",
    "- Repeat the step to ﬁnd all unique words and occurrences, without considering case sensitivity\n",
    "\n",
    "\n",
    "Hint\n",
    "\n",
    "These are the steps to guide you through solving this activity:\n",
    "\n",
    "1. Create a mutliline_text variable useing the df text\n",
    "\n",
    "2. Find the type and length of the multiline_text string using the commands type and len.\n",
    "\n",
    "3. Remove all new lines and symbols using the replace function.\n",
    "\n",
    "4. Find all of the words in multiline_text using the split function.\n",
    "5. Create a list from this list that will contain only the unique words.\n",
    "6. Count the number of times the unique word has appeared in the list using the key\n",
    "and value in dict.\n",
    "\n",
    "7. Find the top 25 words from the unique words that you nave found using the slice\n",
    "function."
   ]
  },
  {
   "cell_type": "code",
   "execution_count": 133,
   "id": "7875fddb",
   "metadata": {},
   "outputs": [],
   "source": [
    "# Step 1: Create a multiline_text variable using the 'Pride and Prejudice' text\n",
    "# here to deviate my work from the author, I used more lines of sentences from 'Pride and Prejudice text\n",
    "\n",
    "multiline_text = \"\"\" It is a truth universally acknowledged, that a single man in possession of a good fortune must be in want of a wife.\n",
    "\n",
    "However little known the feelings or views of such a man may be on his first entering a neighbourhood, this truth is so well fixed in the minds of the surrounding families, that he is considered as the rightful property of some one or other of their daughters.\n",
    "\n",
    "“My dear Mr. Bennet,” said his lady to him one day, “have you heard that Netherfield Park is let at last?”\n",
    "\n",
    "Mr. Bennet replied that he had not.\n",
    "\n",
    "“But it is,” returned she; “for Mrs. Long has just been here, and she told me all about it.”\n",
    "\n",
    "Mr. Bennet made no answer.\n",
    "\n",
    "“Do not you want to know who has taken it?” cried his wife, impatiently.\n",
    "\n",
    "“You want to tell me, and I have no objection to hearing it.”\n",
    "\n",
    "\n",
    "This was invitation enough.\n",
    "\n",
    "“Why, my dear, you must know, Mrs. Long says that Netherfield is taken by a young man of large fortune from the north of England; that he came down on Monday in a chaise and four to see the place, and was so much delighted with it that he agreed with Mr. Morris immediately; that he is to take possession before Michaelmas, and some of his servants are to be in the house by the end of next week.”\n",
    "\n",
    "“What is his name?”\n",
    "\n",
    "“Bingley.”\n",
    "\n",
    "“Is he married or single?”\n",
    "\n",
    "“Oh, single, my dear, to be sure! A single man of large fortune; four or five thousand a year. What a fine thing for our girls!”\n",
    "\"\"\""
   ]
  },
  {
   "cell_type": "code",
   "execution_count": 134,
   "id": "56f9f4a6",
   "metadata": {},
   "outputs": [
    {
     "data": {
      "text/plain": [
       "str"
      ]
     },
     "execution_count": 134,
     "metadata": {},
     "output_type": "execute_result"
    }
   ],
   "source": [
    "type(multiline_text)"
   ]
  },
  {
   "cell_type": "code",
   "execution_count": 135,
   "id": "9c473666",
   "metadata": {},
   "outputs": [
    {
     "data": {
      "text/plain": [
       "1404"
      ]
     },
     "execution_count": 135,
     "metadata": {},
     "output_type": "execute_result"
    }
   ],
   "source": [
    "len(multiline_text)"
   ]
  },
  {
   "cell_type": "code",
   "execution_count": 136,
   "id": "d24747b2",
   "metadata": {},
   "outputs": [],
   "source": [
    "# Step 2: Remove all new lines \n",
    "multiline_text = multiline_text.replace('\\n', \"\")"
   ]
  },
  {
   "cell_type": "code",
   "execution_count": 137,
   "id": "132e5542",
   "metadata": {},
   "outputs": [
    {
     "data": {
      "text/plain": [
       "' It is a truth universally acknowledged, that a single man in possession of a good fortune must be in want of a wife.However little known the feelings or views of such a man may be on his first entering a neighbourhood, this truth is so well fixed in the minds of the surrounding families, that he is considered as the rightful property of some one or other of their daughters.“My dear Mr. Bennet,” said his lady to him one day, “have you heard that Netherfield Park is let at last?”Mr. Bennet replied that he had not.“But it is,” returned she; “for Mrs. Long has just been here, and she told me all about it.”Mr. Bennet made no answer.“Do not you want to know who has taken it?” cried his wife, impatiently.“You want to tell me, and I have no objection to hearing it.”This was invitation enough.“Why, my dear, you must know, Mrs. Long says that Netherfield is taken by a young man of large fortune from the north of England; that he came down on Monday in a chaise and four to see the place, and was so much delighted with it that he agreed with Mr. Morris immediately; that he is to take possession before Michaelmas, and some of his servants are to be in the house by the end of next week.”“What is his name?”“Bingley.”“Is he married or single?”“Oh, single, my dear, to be sure! A single man of large fortune; four or five thousand a year. What a fine thing for our girls!”'"
      ]
     },
     "execution_count": 137,
     "metadata": {},
     "output_type": "execute_result"
    }
   ],
   "source": [
    "multiline_text"
   ]
  },
  {
   "cell_type": "code",
   "execution_count": 138,
   "id": "54d17631",
   "metadata": {},
   "outputs": [],
   "source": [
    "# Step 2.1. remove special characters, punctuation, etc.\n",
    "cleaned_multiline_text = \"\"\n",
    "for char in multiline_text:\n",
    "    if char == \" \":\n",
    "        cleaned_multiline_text += char\n",
    "    elif char.isalnum():  # using the isalnum() method of strings.\n",
    "        cleaned_multiline_text += char\n",
    "    else:\n",
    "        cleaned_multiline_text += \" \""
   ]
  },
  {
   "cell_type": "code",
   "execution_count": 139,
   "id": "7f6b23ca",
   "metadata": {},
   "outputs": [
    {
     "data": {
      "text/plain": [
       "' It is a truth universally acknowledged  that a single man in possession of a good fortune must be in want of a wife However little known the feelings or views of such a man may be on his first entering a neighbourhood  this truth is so well fixed in the minds of the surrounding families  that he is considered as the rightful property of some one or other of their daughters  My dear Mr  Bennet   said his lady to him one day   have you heard that Netherfield Park is let at last  Mr  Bennet replied that he had not  But it is   returned she   for Mrs  Long has just been here  and she told me all about it  Mr  Bennet made no answer  Do not you want to know who has taken it   cried his wife  impatiently  You want to tell me  and I have no objection to hearing it  This was invitation enough  Why  my dear  you must know  Mrs  Long says that Netherfield is taken by a young man of large fortune from the north of England  that he came down on Monday in a chaise and four to see the place  and was so much delighted with it that he agreed with Mr  Morris immediately  that he is to take possession before Michaelmas  and some of his servants are to be in the house by the end of next week   What is his name   Bingley   Is he married or single   Oh  single  my dear  to be sure  A single man of large fortune  four or five thousand a year  What a fine thing for our girls  '"
      ]
     },
     "execution_count": 139,
     "metadata": {},
     "output_type": "execute_result"
    }
   ],
   "source": [
    "cleaned_multiline_text"
   ]
  },
  {
   "cell_type": "code",
   "execution_count": 140,
   "id": "b48c4c49",
   "metadata": {},
   "outputs": [
    {
     "data": {
      "text/plain": [
       "['It',\n",
       " 'is',\n",
       " 'a',\n",
       " 'truth',\n",
       " 'universally',\n",
       " 'acknowledged',\n",
       " 'that',\n",
       " 'a',\n",
       " 'single',\n",
       " 'man',\n",
       " 'in',\n",
       " 'possession',\n",
       " 'of',\n",
       " 'a',\n",
       " 'good',\n",
       " 'fortune',\n",
       " 'must',\n",
       " 'be',\n",
       " 'in',\n",
       " 'want',\n",
       " 'of',\n",
       " 'a',\n",
       " 'wife',\n",
       " 'However',\n",
       " 'little',\n",
       " 'known',\n",
       " 'the',\n",
       " 'feelings',\n",
       " 'or',\n",
       " 'views',\n",
       " 'of',\n",
       " 'such',\n",
       " 'a',\n",
       " 'man',\n",
       " 'may',\n",
       " 'be',\n",
       " 'on',\n",
       " 'his',\n",
       " 'first',\n",
       " 'entering',\n",
       " 'a',\n",
       " 'neighbourhood',\n",
       " 'this',\n",
       " 'truth',\n",
       " 'is',\n",
       " 'so',\n",
       " 'well',\n",
       " 'fixed',\n",
       " 'in',\n",
       " 'the',\n",
       " 'minds',\n",
       " 'of',\n",
       " 'the',\n",
       " 'surrounding',\n",
       " 'families',\n",
       " 'that',\n",
       " 'he',\n",
       " 'is',\n",
       " 'considered',\n",
       " 'as',\n",
       " 'the',\n",
       " 'rightful',\n",
       " 'property',\n",
       " 'of',\n",
       " 'some',\n",
       " 'one',\n",
       " 'or',\n",
       " 'other',\n",
       " 'of',\n",
       " 'their',\n",
       " 'daughters',\n",
       " 'My',\n",
       " 'dear',\n",
       " 'Mr',\n",
       " 'Bennet',\n",
       " 'said',\n",
       " 'his',\n",
       " 'lady',\n",
       " 'to',\n",
       " 'him',\n",
       " 'one',\n",
       " 'day',\n",
       " 'have',\n",
       " 'you',\n",
       " 'heard',\n",
       " 'that',\n",
       " 'Netherfield',\n",
       " 'Park',\n",
       " 'is',\n",
       " 'let',\n",
       " 'at',\n",
       " 'last',\n",
       " 'Mr',\n",
       " 'Bennet',\n",
       " 'replied',\n",
       " 'that',\n",
       " 'he',\n",
       " 'had',\n",
       " 'not',\n",
       " 'But',\n",
       " 'it',\n",
       " 'is',\n",
       " 'returned',\n",
       " 'she',\n",
       " 'for',\n",
       " 'Mrs',\n",
       " 'Long',\n",
       " 'has',\n",
       " 'just',\n",
       " 'been',\n",
       " 'here',\n",
       " 'and',\n",
       " 'she',\n",
       " 'told',\n",
       " 'me',\n",
       " 'all',\n",
       " 'about',\n",
       " 'it',\n",
       " 'Mr',\n",
       " 'Bennet',\n",
       " 'made',\n",
       " 'no',\n",
       " 'answer',\n",
       " 'Do',\n",
       " 'not',\n",
       " 'you',\n",
       " 'want',\n",
       " 'to',\n",
       " 'know',\n",
       " 'who',\n",
       " 'has',\n",
       " 'taken',\n",
       " 'it',\n",
       " 'cried',\n",
       " 'his',\n",
       " 'wife',\n",
       " 'impatiently',\n",
       " 'You',\n",
       " 'want',\n",
       " 'to',\n",
       " 'tell',\n",
       " 'me',\n",
       " 'and',\n",
       " 'I',\n",
       " 'have',\n",
       " 'no',\n",
       " 'objection',\n",
       " 'to',\n",
       " 'hearing',\n",
       " 'it',\n",
       " 'This',\n",
       " 'was',\n",
       " 'invitation',\n",
       " 'enough',\n",
       " 'Why',\n",
       " 'my',\n",
       " 'dear',\n",
       " 'you',\n",
       " 'must',\n",
       " 'know',\n",
       " 'Mrs',\n",
       " 'Long',\n",
       " 'says',\n",
       " 'that',\n",
       " 'Netherfield',\n",
       " 'is',\n",
       " 'taken',\n",
       " 'by',\n",
       " 'a',\n",
       " 'young',\n",
       " 'man',\n",
       " 'of',\n",
       " 'large',\n",
       " 'fortune',\n",
       " 'from',\n",
       " 'the',\n",
       " 'north',\n",
       " 'of',\n",
       " 'England',\n",
       " 'that',\n",
       " 'he',\n",
       " 'came',\n",
       " 'down',\n",
       " 'on',\n",
       " 'Monday',\n",
       " 'in',\n",
       " 'a',\n",
       " 'chaise',\n",
       " 'and',\n",
       " 'four',\n",
       " 'to',\n",
       " 'see',\n",
       " 'the',\n",
       " 'place',\n",
       " 'and',\n",
       " 'was',\n",
       " 'so',\n",
       " 'much',\n",
       " 'delighted',\n",
       " 'with',\n",
       " 'it',\n",
       " 'that',\n",
       " 'he',\n",
       " 'agreed',\n",
       " 'with',\n",
       " 'Mr',\n",
       " 'Morris',\n",
       " 'immediately',\n",
       " 'that',\n",
       " 'he',\n",
       " 'is',\n",
       " 'to',\n",
       " 'take',\n",
       " 'possession',\n",
       " 'before',\n",
       " 'Michaelmas',\n",
       " 'and',\n",
       " 'some',\n",
       " 'of',\n",
       " 'his',\n",
       " 'servants',\n",
       " 'are',\n",
       " 'to',\n",
       " 'be',\n",
       " 'in',\n",
       " 'the',\n",
       " 'house',\n",
       " 'by',\n",
       " 'the',\n",
       " 'end',\n",
       " 'of',\n",
       " 'next',\n",
       " 'week',\n",
       " 'What',\n",
       " 'is',\n",
       " 'his',\n",
       " 'name',\n",
       " 'Bingley',\n",
       " 'Is',\n",
       " 'he',\n",
       " 'married',\n",
       " 'or',\n",
       " 'single',\n",
       " 'Oh',\n",
       " 'single',\n",
       " 'my',\n",
       " 'dear',\n",
       " 'to',\n",
       " 'be',\n",
       " 'sure',\n",
       " 'A',\n",
       " 'single',\n",
       " 'man',\n",
       " 'of',\n",
       " 'large',\n",
       " 'fortune',\n",
       " 'four',\n",
       " 'or',\n",
       " 'five',\n",
       " 'thousand',\n",
       " 'a',\n",
       " 'year',\n",
       " 'What',\n",
       " 'a',\n",
       " 'fine',\n",
       " 'thing',\n",
       " 'for',\n",
       " 'our',\n",
       " 'girls']"
      ]
     },
     "execution_count": 140,
     "metadata": {},
     "output_type": "execute_result"
    }
   ],
   "source": [
    "# Step 3: Find all of the words in multiline_text using the split function\n",
    "list_of_words = cleaned_multiline_text.split()\n",
    "\n",
    "list_of_words "
   ]
  },
  {
   "cell_type": "code",
   "execution_count": 141,
   "id": "81ed5cce",
   "metadata": {},
   "outputs": [
    {
     "data": {
      "text/plain": [
       "269"
      ]
     },
     "execution_count": 141,
     "metadata": {},
     "output_type": "execute_result"
    }
   ],
   "source": [
    "len(list_of_words)"
   ]
  },
  {
   "cell_type": "code",
   "execution_count": 142,
   "id": "c037ff66",
   "metadata": {},
   "outputs": [],
   "source": [
    "# Step 4: Create a list from this list that will contain only the unique words\n",
    "unique_words_as_dict = {}\n",
    "for word in list_of_words:\n",
    "    if word.lower() not in unique_words_as_dict:\n",
    "        unique_words_as_dict[word.lower()] = 1\n",
    "    else:\n",
    "        unique_words_as_dict[word.lower()] += 1"
   ]
  },
  {
   "cell_type": "code",
   "execution_count": 143,
   "id": "f3c1a797",
   "metadata": {},
   "outputs": [
    {
     "data": {
      "text/plain": [
       "143"
      ]
     },
     "execution_count": 143,
     "metadata": {},
     "output_type": "execute_result"
    }
   ],
   "source": [
    "len(list(unique_words_as_dict.keys()))"
   ]
  },
  {
   "cell_type": "code",
   "execution_count": 144,
   "id": "0d8146d3",
   "metadata": {},
   "outputs": [
    {
     "data": {
      "text/plain": [
       "{'It': 1,\n",
       " 'is': 7,\n",
       " 'a': 10,\n",
       " 'truth': 2,\n",
       " 'universally': 1,\n",
       " 'acknowledged,': 1,\n",
       " 'that': 8,\n",
       " 'single': 2,\n",
       " 'man': 4,\n",
       " 'in': 5,\n",
       " 'possession': 2,\n",
       " 'of': 11,\n",
       " 'good': 1,\n",
       " 'fortune': 2,\n",
       " 'must': 2,\n",
       " 'be': 4,\n",
       " 'want': 3,\n",
       " 'wife.However': 1,\n",
       " 'little': 1,\n",
       " 'known': 1,\n",
       " 'the': 8,\n",
       " 'feelings': 1,\n",
       " 'or': 4,\n",
       " 'views': 1,\n",
       " 'such': 1,\n",
       " 'may': 1,\n",
       " 'on': 2,\n",
       " 'his': 5,\n",
       " 'first': 1,\n",
       " 'entering': 1,\n",
       " 'neighbourhood,': 1,\n",
       " 'this': 1,\n",
       " 'so': 2,\n",
       " 'well': 1,\n",
       " 'fixed': 1,\n",
       " 'minds': 1,\n",
       " 'surrounding': 1,\n",
       " 'families,': 1,\n",
       " 'he': 6,\n",
       " 'considered': 1,\n",
       " 'as': 1,\n",
       " 'rightful': 1,\n",
       " 'property': 1,\n",
       " 'some': 2,\n",
       " 'one': 2,\n",
       " 'other': 1,\n",
       " 'their': 1,\n",
       " 'daughters.“My': 1,\n",
       " 'dear': 1,\n",
       " 'Mr.': 2,\n",
       " 'Bennet,”': 1,\n",
       " 'said': 1,\n",
       " 'lady': 1,\n",
       " 'to': 8,\n",
       " 'him': 1,\n",
       " 'day,': 1,\n",
       " '“have': 1,\n",
       " 'you': 3,\n",
       " 'heard': 1,\n",
       " 'Netherfield': 2,\n",
       " 'Park': 1,\n",
       " 'let': 1,\n",
       " 'at': 1,\n",
       " 'last?”Mr.': 1,\n",
       " 'Bennet': 2,\n",
       " 'replied': 1,\n",
       " 'had': 1,\n",
       " 'not.“But': 1,\n",
       " 'it': 2,\n",
       " 'is,”': 1,\n",
       " 'returned': 1,\n",
       " 'she;': 1,\n",
       " '“for': 1,\n",
       " 'Mrs.': 2,\n",
       " 'Long': 2,\n",
       " 'has': 2,\n",
       " 'just': 1,\n",
       " 'been': 1,\n",
       " 'here,': 1,\n",
       " 'and': 5,\n",
       " 'she': 1,\n",
       " 'told': 1,\n",
       " 'me': 1,\n",
       " 'all': 1,\n",
       " 'about': 1,\n",
       " 'it.”Mr.': 1,\n",
       " 'made': 1,\n",
       " 'no': 2,\n",
       " 'answer.“Do': 1,\n",
       " 'not': 1,\n",
       " 'know': 1,\n",
       " 'who': 1,\n",
       " 'taken': 2,\n",
       " 'it?”': 1,\n",
       " 'cried': 1,\n",
       " 'wife,': 1,\n",
       " 'impatiently.“You': 1,\n",
       " 'tell': 1,\n",
       " 'me,': 1,\n",
       " 'I': 1,\n",
       " 'have': 1,\n",
       " 'objection': 1,\n",
       " 'hearing': 1,\n",
       " 'it.”This': 1,\n",
       " 'was': 2,\n",
       " 'invitation': 1,\n",
       " 'enough.“Why,': 1,\n",
       " 'my': 2,\n",
       " 'dear,': 2,\n",
       " 'know,': 1,\n",
       " 'says': 1,\n",
       " 'by': 2,\n",
       " 'young': 1,\n",
       " 'large': 2,\n",
       " 'from': 1,\n",
       " 'north': 1,\n",
       " 'England;': 1,\n",
       " 'came': 1,\n",
       " 'down': 1,\n",
       " 'Monday': 1,\n",
       " 'chaise': 1,\n",
       " 'four': 2,\n",
       " 'see': 1,\n",
       " 'place,': 1,\n",
       " 'much': 1,\n",
       " 'delighted': 1,\n",
       " 'with': 2,\n",
       " 'agreed': 1,\n",
       " 'Morris': 1,\n",
       " 'immediately;': 1,\n",
       " 'take': 1,\n",
       " 'before': 1,\n",
       " 'Michaelmas,': 1,\n",
       " 'servants': 1,\n",
       " 'are': 1,\n",
       " 'house': 1,\n",
       " 'end': 1,\n",
       " 'next': 1,\n",
       " 'week.”“What': 1,\n",
       " 'name?”“Bingley.”“Is': 1,\n",
       " 'married': 1,\n",
       " 'single?”“Oh,': 1,\n",
       " 'single,': 1,\n",
       " 'sure!': 1,\n",
       " 'A': 1,\n",
       " 'fortune;': 1,\n",
       " 'five': 1,\n",
       " 'thousand': 1,\n",
       " 'year.': 1,\n",
       " 'What': 1,\n",
       " 'fine': 1,\n",
       " 'thing': 1,\n",
       " 'for': 1,\n",
       " 'our': 1,\n",
       " 'girls!”': 1}"
      ]
     },
     "execution_count": 144,
     "metadata": {},
     "output_type": "execute_result"
    }
   ],
   "source": [
    "# Split the text into words\n",
    "list_of_words = multiline_text.split()\n",
    "\n",
    "# Initialize an empty dictionary to store unique words and their counts\n",
    "unique_words_as_dict = {}\n",
    "\n",
    "# Iterate through each word in the list\n",
    "for word in list_of_words:\n",
    "    # Check if the word is already in the dictionary\n",
    "    if word in unique_words_as_dict:\n",
    "        # If the word exists, increment its count\n",
    "        unique_words_as_dict[word] += 1\n",
    "    else:\n",
    "        # If the word doesn't exist, add it to the dictionary with count 1\n",
    "        unique_words_as_dict[word] = 1\n",
    "\n",
    "unique_words_as_dict\n"
   ]
  },
  {
   "cell_type": "code",
   "execution_count": 145,
   "id": "ead1c9a2",
   "metadata": {},
   "outputs": [
    {
     "name": "stdout",
     "output_type": "stream",
     "text": [
      "Top 25 words and their occurrences:\n",
      "of : 11\n",
      "a : 10\n",
      "that : 8\n",
      "the : 8\n",
      "to : 8\n",
      "is : 7\n",
      "he : 6\n",
      "in : 5\n",
      "his : 5\n",
      "and : 5\n",
      "man : 4\n",
      "be : 4\n",
      "or : 4\n",
      "want : 3\n",
      "you : 3\n",
      "truth : 2\n",
      "single : 2\n",
      "possession : 2\n",
      "fortune : 2\n",
      "must : 2\n",
      "on : 2\n",
      "so : 2\n",
      "some : 2\n",
      "one : 2\n",
      "Mr. : 2\n"
     ]
    }
   ],
   "source": [
    "# Step 5: Find the top 25 words from the unique words\n",
    "top_words = sorted(unique_words_as_dict.items(), key=lambda x: x[1], reverse=True)[:25]\n",
    "\n",
    "# Printing the top 25 words\n",
    "print(\"Top 25 words and their occurrences:\")\n",
    "for word, count in top_words:\n",
    "    print(word, \":\", count)\n"
   ]
  },
  {
   "cell_type": "markdown",
   "id": "c51b8f42",
   "metadata": {},
   "source": []
  },
  {
   "cell_type": "markdown",
   "id": "aa924ce8",
   "metadata": {},
   "source": [
    "# Discussion   Activity 1.02:\n",
    "\n",
    "The task involves analyzing a multiline string, removing new lines and symbols, finding all unique words and their occurrences, and finally identifying the top 25 words based on their frequency.\n",
    "\n",
    "Methodology and Implementation:\n",
    "\n",
    "Multiline String Processing:\n",
    "\n",
    "The multiline text was stored in a Python variable, followed by the removal of new lines using string methods like replace().\n",
    "Special characters, punctuation, and symbols were also removed to ensure accurate word extraction.\n",
    "Word Extraction and Unique Word Count:\n",
    "\n",
    "The cleaned multiline text was split into individual words using the split() function.\n",
    "A dictionary was initialized to store unique words as keys and their counts as values.\n",
    "Iterating through the list of words, each word was either added to the dictionary with count 1 or its count was incremented if already present.\n",
    "\n",
    "Top 25 Words Identification:\n",
    "\n",
    "The dictionary containing unique words and their counts was sorted based on counts in descending order.\n",
    "The top 25 words and their occurrences were then printed for analysis.\n",
    "\n",
    "Results and Observations:\n",
    "\n",
    "Text Processing:\n",
    "The multiline text was effectively processed to remove new lines, symbols, and special characters, ensuring a clean dataset for analysis.\n",
    "Word Counting:\n",
    "\n",
    "Unique words and their occurrences were accurately counted and stored in a dictionary, demonstrating efficient use of Python data structures.\n",
    "Top Words Identification:\n",
    "\n",
    "The top 25 words based on their frequencies were successfully identified, providing insights into the most commonly used words in the text.\n",
    "\n",
    "Analysis Results:\n",
    "\n",
    "Type and Length of Multiline Text:\n",
    "\n",
    "Type of multiline_text: str\n",
    "Length of multiline_text: 1404 characters\n",
    "\n",
    "Unique Words and Their Occurrences:\n",
    "Total unique words: 143\n",
    "\n",
    "Top 25 Words and Their Occurrences:\n",
    "\n",
    "Top 25 words and their occurrences:\n",
    "'of' : 11\n",
    "'a' : 10\n",
    "'that' : 8\n",
    "'the' : 8\n",
    "'to' : 8\n",
    "'is' : 7\n",
    "'he' : 6\n",
    "'in' : 5\n",
    "'his' : 5\n",
    "'and' : 5\n",
    "'man' : 4\n",
    "'be' : 4\n",
    "'or' : 4\n",
    "'want' : 3\n",
    "'you' : 3\n",
    "'truth' : 2\n",
    "'single' : 2\n",
    "'possession' : 2\n",
    "'fortune' : 2\n",
    "'must' : 2\n",
    "'on' : 2\n",
    "'so' : 2\n",
    "'some' : 2\n",
    "'one' : 2\n",
    "'Mr.' : 2\n",
    "\n",
    "\n",
    "This activity demonstrates the process of analyzing a multiline string, extracting unique words, and identifying the most frequent words in a text corpus. By leveraging Python's string manipulation methods and dictionary data structure, meaningful insights can be obtained from textual data, facilitating further analysis and interpretation. This task underscores the importance of text preprocessing and basic data structure manipulation techniques in natural language processing tasks.\n"
   ]
  },
  {
   "cell_type": "markdown",
   "id": "0b98e124",
   "metadata": {},
   "source": []
  },
  {
   "cell_type": "code",
   "execution_count": null,
   "id": "63173ecf",
   "metadata": {},
   "outputs": [],
   "source": []
  },
  {
   "cell_type": "markdown",
   "id": "5f50e44e",
   "metadata": {},
   "source": [
    "# Task 3: Activity 2.01\n",
    "\n",
    "Permutation, Iterator, Lambda, List\n",
    "\n",
    "In this activity, you will be using permutations to generate all possible three-digit numbers that can be generated using 0, 1, and 2. Then, loop over this iterator, and also use isinstance and assert to make sure that the return types are tuples. Also, use a single line of code involving dropwhile and lambda expressions to convert all the tuples to lists while dropping any leading zeros (for example, (0, 1, 2) becomes [1, 2]). Finally, write a function that takes a list like before and returns the actual number contained in it.\n",
    "\n",
    "These steps will guide you to solve this activity:\n",
    "\n",
    "1. Look up the definition of permutations and dropwhile from itertools.\n",
    "\n",
    "2. Write an expression to generate all the possible three-digit numbers using 0, 1, and 2.\n",
    "\n",
    "3. Loop over the iterator expression you generated before. Print each element that's returned by the iterator. Use assert and isinstance to make sure that the elements are of the tuple type.\n",
    "\n",
    "4. Write the loop again using dropwhile with a lambda expression to drop any leading zeros from the tuples, As an example, (0, 1, 2) will become [0, 2]. Also, cast the output of dropwhile to a list.\n",
    "\n",
    "5. Check the actual type that dropwhile returns.\n",
    "\n",
    "6. Combine the preceding code into one block, and this time write a separate function where you will pass the list generated from dropwhile, and the function will return the whole number contained in the list. As an example, if you pass [1,2] to the function, it will return 12. Make sure that the return type is indeed a number and not a string. Although this task can be achieved using other tricks, you require that you treat the incoming list as a stack in the function and generate the number by reading the individual digits from the stack.\n"
   ]
  },
  {
   "cell_type": "code",
   "execution_count": 60,
   "id": "b2fa5f74",
   "metadata": {},
   "outputs": [
    {
     "name": "stdout",
     "output_type": "stream",
     "text": [
      "(1, 2, 3)\n",
      "(1, 3, 2)\n",
      "(2, 1, 3)\n",
      "(2, 3, 1)\n",
      "(3, 1, 2)\n",
      "(3, 2, 1)\n"
     ]
    }
   ],
   "source": [
    "# Step 1: Look up the definition of permutations and dropwhile from itertools.\n",
    "from itertools import permutations # The permutations function from the itertools module generates all possible permutations of a given iterable. A permutation is an arrangement of elements where the order matters. For example, permutations of the list [1, 2, 3] would include [1, 2, 3], [1, 3, 2], [2, 1, 3], [2, 3, 1], [3, 1, 2], and [3, 2, 1].\n",
    "# Example\n",
    "perms = permutations([1, 2, 3])\n",
    "for perm in perms:\n",
    "    print(perm)"
   ]
  },
  {
   "cell_type": "code",
   "execution_count": 61,
   "id": "342d35cd",
   "metadata": {},
   "outputs": [
    {
     "name": "stdout",
     "output_type": "stream",
     "text": [
      "[5, 7, 2, 4, 6, 8]\n"
     ]
    }
   ],
   "source": [
    "from itertools import dropwhile # The dropwhile function from the itertools module returns an iterator that drops elements from the input iterable as long as a specified condition is true, and then yields the remaining elements. Once the condition becomes false, all subsequent elements are included in the output.\n",
    "# Example:\n",
    "nums = [1, 3, 5, 7, 2, 4, 6, 8]\n",
    "result = dropwhile(lambda x: x < 5, nums)\n",
    "print(list(result))  # Output will be [5, 7, 2, 4, 6, 8]"
   ]
  },
  {
   "cell_type": "code",
   "execution_count": null,
   "id": "08a6bd45",
   "metadata": {},
   "outputs": [],
   "source": []
  },
  {
   "cell_type": "code",
   "execution_count": 39,
   "id": "d9433a35",
   "metadata": {},
   "outputs": [
    {
     "name": "stdout",
     "output_type": "stream",
     "text": [
      "(0, 1, 2)\n",
      "(0, 2, 1)\n",
      "(1, 0, 2)\n",
      "(1, 2, 0)\n",
      "(2, 0, 1)\n",
      "(2, 1, 0)\n"
     ]
    }
   ],
   "source": [
    "# Step 2. Define a function that generates permutations manually\n",
    "def manual_permutations(iterable):\n",
    "    n = len(iterable)\n",
    "    indices = list(range(n))\n",
    "    cycles = list(range(n, 0, -1))\n",
    "    yield tuple(iterable[i] for i in indices[:n])\n",
    "    while n:\n",
    "        for i in reversed(range(n)):\n",
    "            cycles[i] -= 1\n",
    "            if cycles[i] == 0:\n",
    "                indices[i:] = indices[i+1:] + indices[i:i+1]\n",
    "                cycles[i] = n - i\n",
    "            else:\n",
    "                j = cycles[i]\n",
    "                indices[i], indices[-j] = indices[-j], indices[i]\n",
    "                yield tuple(iterable[i] for i in indices[:n])\n",
    "                break\n",
    "        else:\n",
    "            return\n",
    "\n",
    "# Validate the manual implementation\n",
    "for number_tuple in manual_permutations(range(3)):\n",
    "    print(number_tuple)\n",
    "    assert isinstance(number_tuple, tuple)\n"
   ]
  },
  {
   "cell_type": "code",
   "execution_count": 51,
   "id": "9870ce1c",
   "metadata": {},
   "outputs": [
    {
     "name": "stdout",
     "output_type": "stream",
     "text": [
      "(0, 1, 2)\n",
      "(0, 2, 1)\n",
      "(1, 0, 2)\n",
      "(1, 2, 0)\n",
      "(2, 0, 1)\n",
      "(2, 1, 0)\n",
      "(0, 1, 2)\n",
      "(0, 2, 1)\n",
      "(1, 0, 2)\n",
      "(1, 2, 0)\n",
      "(2, 0, 1)\n",
      "(2, 1, 0)\n"
     ]
    }
   ],
   "source": [
    "# Step 3: Loop over the iterator expression and print each element, asserting their type to be tuple\n",
    "# import required library\n",
    "from itertools import permutations\n",
    "\n",
    "# Define a function that generates permutations manually\n",
    "def manual_permutations(iterable):\n",
    "    n = len(iterable)\n",
    "    indices = list(range(n))\n",
    "    cycles = list(range(n, 0, -1))\n",
    "    yield tuple(iterable[i] for i in indices[:n])\n",
    "    while n:\n",
    "        for i in reversed(range(n)):\n",
    "            cycles[i] -= 1\n",
    "            if cycles[i] == 0:\n",
    "                indices[i:] = indices[i+1:] + indices[i:i+1]\n",
    "                cycles[i] = n - i\n",
    "            else:\n",
    "                j = cycles[i]\n",
    "                indices[i], indices[-j] = indices[-j], indices[i]\n",
    "                yield tuple(iterable[i] for i in indices[:n])\n",
    "                break\n",
    "        else:\n",
    "            return\n",
    "\n",
    "# Validate the manual implementation\n",
    "for number_tuple in manual_permutations(range(3)):\n",
    "    print(number_tuple)\n",
    "    assert isinstance(number_tuple, tuple)\n",
    "\n",
    "# Generate permutations using itertools.permutations\n",
    "number_permutations = permutations(range(3))\n",
    "\n",
    "\n",
    "for number_tuple in number_permutations:\n",
    "    print(number_tuple)\n",
    "    assert isinstance(number_tuple, tuple)\n"
   ]
  },
  {
   "cell_type": "code",
   "execution_count": 48,
   "id": "d523cfb5",
   "metadata": {},
   "outputs": [
    {
     "name": "stdout",
     "output_type": "stream",
     "text": [
      "[1, 2]\n",
      "[2, 1]\n",
      "[1, 0, 2]\n",
      "[1, 2, 0]\n",
      "[2, 0, 1]\n",
      "[2, 1, 0]\n"
     ]
    }
   ],
   "source": [
    "# Step 4: Use dropwhile to drop leading zeros and convert tuples to lists\n",
    "for number_tuple in permutations(range(3)):\n",
    "    print(list(dropwhile(lambda x: x <= 0, number_tuple)))  "
   ]
  },
  {
   "cell_type": "code",
   "execution_count": 49,
   "id": "57335f1b",
   "metadata": {},
   "outputs": [
    {
     "name": "stdout",
     "output_type": "stream",
     "text": [
      "<class 'list'>\n"
     ]
    }
   ],
   "source": [
    "# Step 5: Check the actual type that dropwhile returns\n",
    "print(type(list(dropwhile(lambda x: x == 0, (0, 1, 2)))))"
   ]
  },
  {
   "cell_type": "code",
   "execution_count": 50,
   "id": "8dd0bec5",
   "metadata": {},
   "outputs": [
    {
     "name": "stdout",
     "output_type": "stream",
     "text": [
      "12.0\n",
      "21.0\n",
      "102.0\n",
      "120.0\n",
      "201.0\n",
      "210.0\n"
     ]
    }
   ],
   "source": [
    "# Step 6: Write a function to convert a list to the actual number contained in it and Combine all steps into one block\n",
    "\n",
    "import math\n",
    "def convert_to_number(number_stack):\n",
    "    final_number = 0\n",
    "    for i in range(0, len(number_stack)):\n",
    "        final_number += (number_stack.pop() * (math.pow(10, i)))\n",
    "    return final_number\n",
    "\n",
    "for number_tuple in permutations(range(3)):\n",
    "    number_stack = list(dropwhile(lambda x: x <= 0, number_tuple))\n",
    "    print(convert_to_number(number_stack))  "
   ]
  },
  {
   "cell_type": "code",
   "execution_count": null,
   "id": "100f40d3",
   "metadata": {},
   "outputs": [],
   "source": []
  },
  {
   "cell_type": "markdown",
   "id": "20ef210b",
   "metadata": {},
   "source": [
    "# Discussion   Activity 2.01:\n",
    "\n",
    "The problem involves generating all possible three-digit numbers using the digits 0, 1, and 2. Subsequently, the generated permutations are processed to remove leading zeros, and finally, a function is created to convert the resulting list into the actual number it represents.\n",
    "\n",
    "Methodology:\n",
    "\n",
    "Permutations Generation: Utilize the itertools library to generate permutations of the digits 0, 1, and 2 to form three-digit numbers. Assertion Check: Loop over the generated permutations and ensure that each element is of type tuple using the isinstance function and assert statements. Drop Leading Zeros: Use the dropwhile function to remove leading zeros from the tuples, converting them into lists. Conversion to Number: Create a function to convert the resulting list of digits into the actual three-digit number it represents.\n",
    "\n",
    "Results:\n",
    "Permutations Generated:\n",
    "\n",
    "Permutations for all possible three-digit numbers (0, 1, 2) were successfully generated.\n",
    "Manual implementation and itertools.permutations yielded identical results.\n",
    "Type Assertion and Validation:\n",
    "\n",
    "Type assertions and validations ensured that all elements iterated over were tuples.\n",
    "Effective Leading Zero Removal:\n",
    "\n",
    "Leading zeros were successfully removed from tuples, resulting in concise numeric representations.\n",
    "Successful Conversion to Numbers:\n",
    "\n",
    "Lists containing numbers without leading zeros were effectively converted to their corresponding integer values.\n",
    "Discussion and Interpretation:\n",
    "Algorithm Correctness:\n",
    "\n",
    "Results demonstrate the correctness of the permutation generation algorithm.\n",
    "Consistency in results between manual and library-based implementations verifies the algorithm's accuracy.\n",
    "Data Integrity and Type Consistency:\n",
    "\n",
    "Type assertions and validations ensure data integrity and consistency throughout the process.\n",
    "This reduces the risk of errors caused by incorrect data types.\n",
    "Efficiency and Usability:\n",
    "\n",
    "Effective removal of leading zeros and conversion to standard numeric formats improves data usability.\n",
    "Numbers generated in this manner are suitable for further analysis and processing.\n",
    "Comprehensive Solution:\n",
    "\n",
    "The combined approach incorporating permutations, type validations, and conversion functions results in a comprehensive solution.\n",
    "The solution addresses all aspects of the problem statement effectively.\n",
    "Overall, the analysis demonstrates the successful implementation of permutation generation, data validation, and conversion techniques to achieve the objectives outlined in the task. The resulting numeric representations are accurate, consistent, and usable for further analysis and computations.\n"
   ]
  },
  {
   "cell_type": "markdown",
   "id": "1b3af605",
   "metadata": {},
   "source": []
  },
  {
   "cell_type": "markdown",
   "id": "50bf18c0",
   "metadata": {},
   "source": [
    "# Activity 2.02\n",
    "\n",
    "Design Your Own CSV Parser\n",
    "\n",
    "A CSV file is something you will encounter a lot in your life as a data practitioner, A CSV is a comma-separated file where data from a tabular format is generally stored and separated using commas, although other characters can also be used.\n",
    "\n",
    "In this activity, you will be tasked with building a CSV reader and parser, Although it is a big task if you try to cover all use cases and edge cases, along with escape characters and all, for the sake of this small activity, you will keep the requirements small. you will assume that there is no escape character, meaning that if you use a comma at any place in your row, it means you are starting a new column. you will also assume that the only function you are interested in is to be able to read a CSV file line by line where each read will generate a new dict with the column names as keys and row names as values.\n",
    "\n",
    "Here is an example:\n",
    "\n",
    "Name Age Location\n",
    "\n",
    "Bob 24 California\n",
    "\n",
    "you can convert the data in the preceding table into a Python dictionary, which would\n",
    "look as follows: {\"Name\": \"Bob\", \"Age\": \"24\", \"Location\": \"California\"}:\n",
    "\n",
    "1. Import zip_longest from itertools. Create a function to zip header, line and fillvalue=None.\n",
    "\n",
    "2. Open the accompanying sales_record.csv file from the GitHub link by using r mode inside a with block and first check that it is opened.\n",
    "\n",
    "3. Read the first line and use string methods to generate a list of all the column names.\n",
    "\n",
    "4. Start reading the file. Read it line by line.\n",
    "\n",
    "5 Read each line and pass that line to a function, along with the list of the headers. The work of the function is to construct 2 dict out of these two and fill up the key: values. Keep in mind that a missing value should result in None."
   ]
  },
  {
   "cell_type": "code",
   "execution_count": 147,
   "id": "b6e7f9c5",
   "metadata": {},
   "outputs": [
    {
     "name": "stdout",
     "output_type": "stream",
     "text": [
      "File opened successfully.\n",
      "{'Region': 'Central America and the Caribbean', 'Country': 'Antigua and Barbuda ', 'Item Type': 'Baby Food', 'Sales Channel': 'Online', 'Order Priority': 'M', 'Order Date': '12/20/2013', 'Order ID': '957081544', 'Ship Date': '1/11/2014', 'Units Sold': '552', 'Unit Price': '255.28', 'Unit Cost': '159.42', 'Total Revenue': '140914.56', 'Total Cost': '87999.84', 'Total Profit': '52914.72'}\n",
      "{'Region': 'Central America and the Caribbean', 'Country': 'Panama', 'Item Type': 'Snacks', 'Sales Channel': 'Offline', 'Order Priority': 'C', 'Order Date': '7/5/2010', 'Order ID': '301644504', 'Ship Date': '7/26/2010', 'Units Sold': '2167', 'Unit Price': '152.58', 'Unit Cost': '97.44', 'Total Revenue': '330640.86', 'Total Cost': '211152.48', 'Total Profit': '119488.38'}\n",
      "{'Region': 'Europe', 'Country': 'Czech Republic', 'Item Type': 'Beverages', 'Sales Channel': 'Offline', 'Order Priority': 'C', 'Order Date': '9/12/2011', 'Order ID': '478051030', 'Ship Date': '9/29/2011', 'Units Sold': '4778', 'Unit Price': '47.45', 'Unit Cost': '31.79', 'Total Revenue': '226716.10', 'Total Cost': '151892.62', 'Total Profit': '74823.48'}\n",
      "{'Region': 'Asia', 'Country': 'North Korea', 'Item Type': 'Cereal', 'Sales Channel': 'Offline', 'Order Priority': 'L', 'Order Date': '5/13/2010', 'Order ID': '892599952', 'Ship Date': '6/15/2010', 'Units Sold': '9016', 'Unit Price': '205.70', 'Unit Cost': '117.11', 'Total Revenue': '1854591.20', 'Total Cost': '1055863.76', 'Total Profit': '798727.44'}\n",
      "{'Region': 'Asia', 'Country': 'Sri Lanka', 'Item Type': 'Snacks', 'Sales Channel': 'Offline', 'Order Priority': 'C', 'Order Date': '7/20/2015', 'Order ID': '571902596', 'Ship Date': '7/27/2015', 'Units Sold': '7542', 'Unit Price': '152.58', 'Unit Cost': '97.44', 'Total Revenue': '1150758.36', 'Total Cost': '734892.48', 'Total Profit': '415865.88'}\n",
      "{'Region': 'Middle East and North Africa', 'Country': 'Morocco', 'Item Type': 'Personal Care', 'Sales Channel': 'Offline', 'Order Priority': 'L', 'Order Date': '11/8/2010', 'Order ID': '412882792', 'Ship Date': '11/22/2010', 'Units Sold': '48', 'Unit Price': '81.73', 'Unit Cost': '56.67', 'Total Revenue': '3923.04', 'Total Cost': '2720.16', 'Total Profit': '1202.88'}\n",
      "{'Region': 'Australia and Oceania', 'Country': 'Federated States of Micronesia', 'Item Type': 'Clothes', 'Sales Channel': 'Offline', 'Order Priority': 'H', 'Order Date': '3/28/2011', 'Order ID': '932776868', 'Ship Date': '5/10/2011', 'Units Sold': '8258', 'Unit Price': '109.28', 'Unit Cost': '35.84', 'Total Revenue': '902434.24', 'Total Cost': '295966.72', 'Total Profit': '606467.52'}\n",
      "{'Region': 'Europe', 'Country': 'Bosnia and Herzegovina', 'Item Type': 'Clothes', 'Sales Channel': 'Online', 'Order Priority': 'M', 'Order Date': '10/14/2013', 'Order ID': '919133651', 'Ship Date': '11/4/2013', 'Units Sold': '927', 'Unit Price': '109.28', 'Unit Cost': '35.84', 'Total Revenue': '101302.56', 'Total Cost': '33223.68', 'Total Profit': '68078.88'}\n",
      "{'Region': 'Middle East and North Africa', 'Country': 'Afghanistan', 'Item Type': 'Clothes', 'Sales Channel': 'Offline', 'Order Priority': 'M', 'Order Date': '8/27/2016', 'Order ID': '579814469', 'Ship Date': '10/5/2016', 'Units Sold': '8841', 'Unit Price': '109.28', 'Unit Cost': '35.84', 'Total Revenue': '966144.48', 'Total Cost': '316861.44', 'Total Profit': '649283.04'}\n",
      "{'Region': 'Sub-Saharan Africa', 'Country': 'Ethiopia', 'Item Type': 'Baby Food', 'Sales Channel': 'Online', 'Order Priority': 'M', 'Order Date': '4/13/2015', 'Order ID': '192993152', 'Ship Date': '5/7/2015', 'Units Sold': '9817', 'Unit Price': '255.28', 'Unit Cost': '159.42', 'Total Revenue': '2506083.76', 'Total Cost': '1565026.14', 'Total Profit': '941057.62'}\n",
      "{'Region': 'Middle East and North Africa', 'Country': 'Turkey', 'Item Type': 'Office Supplies', 'Sales Channel': 'Offline', 'Order Priority': 'C', 'Order Date': '9/25/2013', 'Order ID': '557156026', 'Ship Date': '10/15/2013', 'Units Sold': '3704', 'Unit Price': '651.21', 'Unit Cost': '524.96', 'Total Revenue': '2412081.84', 'Total Cost': '1944451.84', 'Total Profit': '467630.00'}\n",
      "{'Region': 'Middle East and North Africa', 'Country': 'Oman', 'Item Type': 'Cosmetics', 'Sales Channel': 'Online', 'Order Priority': 'M', 'Order Date': '5/12/2013', 'Order ID': '741101920', 'Ship Date': '5/17/2013', 'Units Sold': '7382', 'Unit Price': '437.20', 'Unit Cost': '263.33', 'Total Revenue': '3227410.40', 'Total Cost': '1943902.06', 'Total Profit': '1283508.34'}\n",
      "{'Region': 'Asia', 'Country': 'Malaysia', 'Item Type': 'Cereal', 'Sales Channel': 'Offline', 'Order Priority': 'L', 'Order Date': '7/31/2016', 'Order ID': '333942162', 'Ship Date': '8/25/2016', 'Units Sold': '9762', 'Unit Price': '205.70', 'Unit Cost': '117.11', 'Total Revenue': '2008043.40', 'Total Cost': '1143227.82', 'Total Profit': '864815.58'}\n",
      "{'Region': 'Central America and the Caribbean', 'Country': 'Saint Lucia', 'Item Type': 'Cosmetics', 'Sales Channel': 'Offline', 'Order Priority': 'H', 'Order Date': '7/6/2015', 'Order ID': '795100581', 'Ship Date': '7/16/2015', 'Units Sold': '6786', 'Unit Price': '437.20', 'Unit Cost': '263.33', 'Total Revenue': '2966839.20', 'Total Cost': '1786957.38', 'Total Profit': '1179881.82'}\n",
      "{'Region': 'Central America and the Caribbean', 'Country': 'Saint Vincent and the Grenadines', 'Item Type': 'Baby Food', 'Sales Channel': 'Online', 'Order Priority': 'L', 'Order Date': '11/28/2010', 'Order ID': '504313504', 'Ship Date': '12/3/2010', 'Units Sold': '6428', 'Unit Price': '255.28', 'Unit Cost': '159.42', 'Total Revenue': '1640939.84', 'Total Cost': '1024751.76', 'Total Profit': '616188.08'}\n"
     ]
    }
   ],
   "source": [
    "import csv  # Import the CSV module for reading and writing CSV files.\n",
    "from itertools import zip_longest  # Import the zip_longest function from the itertools module.\n",
    "\n",
    "\n",
    "def zip_header_line(header, line):  # Define a function zip_header_line that takes a header and a line and zips them together with zip_longest, using None as a fill value.\n",
    "    \"\"\"Zip header and line with fillvalue=None.\"\"\"  # Docstring explaining what the zip_header_line function does.\n",
    "    return zip_longest(header, line, fillvalue=None)  # Return the zipped header and line with fill value None.\n",
    "\n",
    "\n",
    "def return_dict_from_csv_line(header, line):  # Define a function return_dict_from_csv_line that constructs two dictionaries from a header and a line.\n",
    "    \"\"\"Construct two dictionaries from header and line.\"\"\"  # Docstring explaining what the return_dict_from_csv_line function does.\n",
    "    zipped_line = zip_header_line(header, line)  # Zip the header and line using the zip_header_line function.\n",
    "    ret_dict = {kv[0]: kv[1] for kv in zipped_line}  # Construct a dictionary from the zipped line.\n",
    "    return ret_dict  # Return the constructed dictionary.\n",
    "\n",
    "\n",
    "csv_file_path = 'C:\\\\Users\\\\MariaStella\\\\Downloads\\\\sales_record.csv'  # Define the path to the CSV file.\n",
    "\n",
    "with open(csv_file_path, \"r\") as fd:  # Open the CSV file in read mode using a with statement, which ensures that the file is properly closed after its suite finishes, even if an exception is raised.\n",
    "    if fd:  # Check if the file is opened successfully.\n",
    "        print(\"File opened successfully.\")  # Print a message indicating that the file was opened successfully.\n",
    "        \n",
    "        first_line = fd.readline()  # Read the first line of the file to get the column names.\n",
    "        header = first_line.strip().split(\",\")  # Generate a list of column names by stripping leading and trailing whitespace from the first line and splitting it by commas.\n",
    "        \n",
    "        for i, line in enumerate(fd):  # Start reading the file line by line using a for loop with enumerate to get both the line number and the line itself.\n",
    "            if i >= 15:  # Check if the line number is greater than or equal to 15 to limit the output.\n",
    "                break  # Break out of the loop if the line number is greater than or equal to 15.\n",
    "                \n",
    "            line = line.strip().split(\",\")  # Strip leading and trailing whitespace from the line and split it by commas to get a list of values.\n",
    "            d = return_dict_from_csv_line(header, line)  # Construct dictionaries from the header and line using the return_dict_from_csv_line function.\n",
    "            print(d)  # Print the constructed dictionaries.\n",
    "            \n",
    "    else:  # Handle the case where the file could not be opened.\n",
    "        print(\"Failed to open the file.\")  # Print a message indicating that the file failed to open.\n"
   ]
  },
  {
   "cell_type": "code",
   "execution_count": 148,
   "id": "0955c67f",
   "metadata": {},
   "outputs": [
    {
     "data": {
      "text/plain": [
       "'Region,Country,Item Type,Sales Channel,Order Priority,Order Date,Order ID,Ship Date,Units Sold,Unit Price,Unit Cost,Total Revenue,Total Cost,Total Profit\\n'"
      ]
     },
     "execution_count": 148,
     "metadata": {},
     "output_type": "execute_result"
    }
   ],
   "source": [
    "first_line"
   ]
  },
  {
   "cell_type": "code",
   "execution_count": 149,
   "id": "f97d7d63",
   "metadata": {},
   "outputs": [
    {
     "data": {
      "text/plain": [
       "['Region',\n",
       " 'Country',\n",
       " 'Item Type',\n",
       " 'Sales Channel',\n",
       " 'Order Priority',\n",
       " 'Order Date',\n",
       " 'Order ID',\n",
       " 'Ship Date',\n",
       " 'Units Sold',\n",
       " 'Unit Price',\n",
       " 'Unit Cost',\n",
       " 'Total Revenue',\n",
       " 'Total Cost',\n",
       " 'Total Profit']"
      ]
     },
     "execution_count": 149,
     "metadata": {},
     "output_type": "execute_result"
    }
   ],
   "source": [
    "header"
   ]
  },
  {
   "cell_type": "code",
   "execution_count": 150,
   "id": "16f35f54",
   "metadata": {},
   "outputs": [
    {
     "data": {
      "text/plain": [
       "'Middle East and North Africa,Lebanon,Meat,Offline,H,12/17/2015,611629760,1/31/2016,3693,421.89,364.69,1558039.77,1346800.17,211239.60\\n'"
      ]
     },
     "execution_count": 150,
     "metadata": {},
     "output_type": "execute_result"
    }
   ],
   "source": [
    "line"
   ]
  },
  {
   "cell_type": "code",
   "execution_count": 151,
   "id": "e786bff9",
   "metadata": {},
   "outputs": [
    {
     "data": {
      "text/plain": [
       "{'Region': 'Central America and the Caribbean',\n",
       " 'Country': 'Saint Vincent and the Grenadines',\n",
       " 'Item Type': 'Baby Food',\n",
       " 'Sales Channel': 'Online',\n",
       " 'Order Priority': 'L',\n",
       " 'Order Date': '11/28/2010',\n",
       " 'Order ID': '504313504',\n",
       " 'Ship Date': '12/3/2010',\n",
       " 'Units Sold': '6428',\n",
       " 'Unit Price': '255.28',\n",
       " 'Unit Cost': '159.42',\n",
       " 'Total Revenue': '1640939.84',\n",
       " 'Total Cost': '1024751.76',\n",
       " 'Total Profit': '616188.08'}"
      ]
     },
     "execution_count": 151,
     "metadata": {},
     "output_type": "execute_result"
    }
   ],
   "source": [
    "d"
   ]
  },
  {
   "cell_type": "markdown",
   "id": "9c15dc34",
   "metadata": {},
   "source": []
  },
  {
   "cell_type": "markdown",
   "id": "77489dc3",
   "metadata": {},
   "source": [
    "\n",
    "# Discussion on Activity 2.02\n",
    "\n",
    "The task involves designing a simple CSV parser capable of reading a CSV file line by line and converting each line into a dictionary with column names as keys and row values as values.\n",
    "\n",
    "Methodology and Implementation:\n",
    "\n",
    "Function Definitions:\n",
    "\n",
    "Two functions were defined:\n",
    "zip_header_line(header, line): Zips the header and line together using itertools.zip_longest, with None as the fill value.\n",
    "return_dict_from_csv_line(header, line): Constructs two dictionaries from the zipped header and line, where missing values result in None.\n",
    "CSV File Reading:\n",
    "\n",
    "The provided CSV file (sales_record.csv) was opened in read mode using a with statement to ensure proper file handling.\n",
    "The first line of the file was read to extract column names, which were then stored in a list.\n",
    "Parsing and Conversion:\n",
    "\n",
    "The file was read line by line, and each line was split into values using , as the delimiter.\n",
    "The return_dict_from_csv_line function was called to construct dictionaries with column names as keys and row values as values.\n",
    "Missing values were handled gracefully by assigning None.\n",
    "Output and Verification:\n",
    "\n",
    "The constructed dictionaries were printed to verify the parsing and conversion process.\n",
    "Additionally, file opening success and failure were checked and appropriate messages were printed.\n",
    "Results and Observations:\n",
    "File Opening and Parsing:\n",
    "\n",
    "The file (sales_record.csv) was successfully opened, and parsing began without errors.\n",
    "Each line of the CSV file was read and converted into dictionaries, demonstrating the effectiveness of the parsing algorithm.\n",
    "Data Conversion and Integrity:\n",
    "\n",
    "The parsing process effectively converted CSV data into dictionaries, maintaining data integrity and preserving column names.\n",
    "Missing values were handled appropriately by assigning None, ensuring consistent data representation.\n",
    "Functionality Verification:\n",
    "\n",
    "The constructed dictionaries were printed for verification, confirming that the CSV data was parsed correctly.\n",
    "Column names and corresponding row values were accurately captured in the dictionaries.\n",
    "Robustness and Limitations:\n",
    "\n",
    "The parser implemented in this activity is simplistic and assumes no escape characters or complex CSV structures.\n",
    "It may not handle all edge cases or special characters present in real-world CSV files.\n",
    "\n",
    "The designed CSV parser successfully fulfills the requirements of reading a CSV file and converting its contents into dictionaries. While simplistic, it serves as a foundational implementation for handling basic CSV parsing tasks. Further enhancements could be made to handle more complex CSV structures and edge cases encountered in practical scenarios. Overall, the activity provides valuable experience in designing custom data parsing solutions tailored to specific requirements."
   ]
  },
  {
   "cell_type": "code",
   "execution_count": null,
   "id": "edab9daa",
   "metadata": {},
   "outputs": [],
   "source": []
  },
  {
   "cell_type": "markdown",
   "id": "40332e43",
   "metadata": {},
   "source": [
    "# Compiled Report (Activity 1.01, 1.02, 2.01, 2.02)\n",
    "\n",
    "Title: Explorations in Data Analysis and Computation\n",
    "\n",
    "Introduction: \n",
    "\n",
    "Data analysis and computation are fundamental aspects of modern research, spanning various disciplines and industries. In this comprehensive report, we delve into four distinct tasks, each aimed at exploring different facets of data analysis and computation through Python programming. From statistical analysis to text mining and permutation generation to CSV parsing, these tasks offer valuable insights into the methodologies and applications of data-driven approaches.\n",
    "\n",
    "Statement of the Problem: \n",
    "\n",
    "The primary objective across all tasks is to leverage Python programming to investigate and analyze different datasets, ranging from random number lists to literary texts and permutation sets. Each task poses unique challenges, including understanding the impact of divisibility on random number lists, identifying unique word occurrences in a literary work, generating permutations systematically, and parsing CSV data efficiently.\n",
    "\n",
    "Results:\n",
    "\n",
    "Task 1: Exploring the Impact of Divisibility on Random Number Lists\n",
    "\n",
    "The average difference in length between randomly generated lists and lists containing only numbers divisible by three highlights the non-uniform distribution of divisible numbers within random lists.\n",
    "\n",
    "Task 2: Exploring Text Analysis: Unique Word Occurrences in \"Pride and Prejudice\"\n",
    "\n",
    "Analysis of unique word occurrences in \"Pride and Prejudice\" provides insights into vocabulary richness and usage patterns within the text.\n",
    "\n",
    "Task 3: Analyzing Permutations: Generating Three-Digit Numbers from 0, 1, and 2\n",
    "\n",
    "Systematic generation and processing of permutations result in meaningful representations of three-digit numbers using the digits 0, 1, and 2.\n",
    "\n",
    "Task 4: Building a Simple CSV Reader and Parser\n",
    "\n",
    "The CSV reader and parser successfully parse CSV data into dictionaries, handling missing values appropriately and providing a foundational tool for handling CSV data in Python.\n",
    "\n",
    "\n",
    "Discussion:\n",
    "\n",
    "The findings from Task 1 underscore the significance of understanding divisibility patterns in random number generation tasks.\n",
    "Task 2 reveals insights into the linguistic characteristics and narrative style of \"Pride and Prejudice\" through text analysis.\n",
    "The systematic approach to permutation generation discussed in Task 3 highlights the efficiency of combinatorial methods in generating all possible combinations.\n",
    "Task 4 demonstrates the importance of efficient data parsing techniques, laying the groundwork for handling structured data such as CSV files.\n",
    "\n",
    "\n",
    "Conclusion:\n",
    "\n",
    "Data analysis and computation techniques, as showcased in the four tasks, offer valuable tools for extracting insights and patterns from diverse datasets.\n",
    "Understanding the methodologies and implications of these techniques is crucial for making informed decisions in research, industry, and academia.\n",
    "\n",
    "\n",
    "Way Forward:\n",
    "\n",
    "Future research could explore advanced statistical analyses, sentiment analysis, and machine learning techniques to further enhance the understanding and utilization of data-driven approaches.\n",
    "Additionally, optimization of algorithms and integration of parallel processing techniques could improve the efficiency and scalability of computational tasks, enabling more extensive analyses on larger datasets.\n"
   ]
  }
 ],
 "metadata": {
  "kernelspec": {
   "display_name": "Python 3 (ipykernel)",
   "language": "python",
   "name": "python3"
  },
  "language_info": {
   "codemirror_mode": {
    "name": "ipython",
    "version": 3
   },
   "file_extension": ".py",
   "mimetype": "text/x-python",
   "name": "python",
   "nbconvert_exporter": "python",
   "pygments_lexer": "ipython3",
   "version": "3.9.18"
  }
 },
 "nbformat": 4,
 "nbformat_minor": 5
}
