{
 "cells": [
  {
   "cell_type": "markdown",
   "metadata": {
    "id": "AYpqQvTkE8i0"
   },
   "source": [
    "\n",
    "# DSC540-T301_2245_1 Data Preparation\n",
    "\n",
    "Assignment Week 3 & 4;\n",
    "\n",
    "Author: Zemelak Goraga;\n",
    "\n",
    "Date: 4/6/2024"
   ]
  },
  {
   "cell_type": "markdown",
   "metadata": {},
   "source": [
    "# Activity 3.01"
   ]
  },
  {
   "cell_type": "code",
   "execution_count": 4,
   "metadata": {
    "id": "4gbP6vY8j0RM"
   },
   "outputs": [],
   "source": [
    "# Step 1: Load necessary libraries\n",
    "import pandas as pd\n",
    "import numpy as np\n",
    "import matplotlib.pyplot as plt"
   ]
  },
  {
   "cell_type": "code",
   "execution_count": 5,
   "metadata": {
    "id": "TSbWETL_lqHo"
   },
   "outputs": [],
   "source": [
    "# Step 2: Read in the Boston housing dataset\n",
    "housing_data = pd.read_csv('Boston_housing.csv')"
   ]
  },
  {
   "cell_type": "code",
   "execution_count": 6,
   "metadata": {
    "colab": {
     "base_uri": "https://localhost:8080/"
    },
    "id": "JyFrQH6clqQM",
    "outputId": "407ae704-72db-496a-971a-69682f28af56"
   },
   "outputs": [
    {
     "name": "stdout",
     "output_type": "stream",
     "text": [
      "First 10 records:\n",
      "      CRIM    ZN  INDUS  CHAS    NOX     RM    AGE     DIS  RAD  TAX  PTRATIO  \\\n",
      "0  0.00632  18.0   2.31     0  0.538  6.575   65.2  4.0900    1  296     15.3   \n",
      "1  0.02731   0.0   7.07     0  0.469  6.421   78.9  4.9671    2  242     17.8   \n",
      "2  0.02729   0.0   7.07     0  0.469  7.185   61.1  4.9671    2  242     17.8   \n",
      "3  0.03237   0.0   2.18     0  0.458  6.998   45.8  6.0622    3  222     18.7   \n",
      "4  0.06905   0.0   2.18     0  0.458  7.147   54.2  6.0622    3  222     18.7   \n",
      "5  0.02985   0.0   2.18     0  0.458  6.430   58.7  6.0622    3  222     18.7   \n",
      "6  0.08829  12.5   7.87     0  0.524  6.012   66.6  5.5605    5  311     15.2   \n",
      "7  0.14455  12.5   7.87     0  0.524  6.172   96.1  5.9505    5  311     15.2   \n",
      "8  0.21124  12.5   7.87     0  0.524  5.631  100.0  6.0821    5  311     15.2   \n",
      "9  0.17004  12.5   7.87     0  0.524  6.004   85.9  6.5921    5  311     15.2   \n",
      "\n",
      "        B  LSTAT  PRICE  \n",
      "0  396.90   4.98   24.0  \n",
      "1  396.90   9.14   21.6  \n",
      "2  392.83   4.03   34.7  \n",
      "3  394.63   2.94   33.4  \n",
      "4  396.90   5.33   36.2  \n",
      "5  394.12   5.21   28.7  \n",
      "6  395.60  12.43   22.9  \n",
      "7  396.90  19.15   27.1  \n",
      "8  386.63  29.93   16.5  \n",
      "9  386.71  17.10   18.9  \n",
      "\n",
      "Total number of records: 506\n"
     ]
    }
   ],
   "source": [
    "# Step 3: Check the first 10 records and find the total number of records\n",
    "print(\"First 10 records:\")\n",
    "print(housing_data.head(10))\n",
    "print(\"\\nTotal number of records:\", len(housing_data))"
   ]
  },
  {
   "cell_type": "code",
   "execution_count": 7,
   "metadata": {
    "colab": {
     "base_uri": "https://localhost:8080/",
     "height": 423
    },
    "id": "GyvsOWQ_lqV3",
    "outputId": "32696997-b7cb-4a5e-c8f1-840fab1b8017"
   },
   "outputs": [
    {
     "data": {
      "text/html": [
       "<div>\n",
       "<style scoped>\n",
       "    .dataframe tbody tr th:only-of-type {\n",
       "        vertical-align: middle;\n",
       "    }\n",
       "\n",
       "    .dataframe tbody tr th {\n",
       "        vertical-align: top;\n",
       "    }\n",
       "\n",
       "    .dataframe thead th {\n",
       "        text-align: right;\n",
       "    }\n",
       "</style>\n",
       "<table border=\"1\" class=\"dataframe\">\n",
       "  <thead>\n",
       "    <tr style=\"text-align: right;\">\n",
       "      <th></th>\n",
       "      <th>CRIM</th>\n",
       "      <th>ZN</th>\n",
       "      <th>INDUS</th>\n",
       "      <th>RM</th>\n",
       "      <th>AGE</th>\n",
       "      <th>DIS</th>\n",
       "      <th>RAD</th>\n",
       "      <th>TAX</th>\n",
       "      <th>PTRATIO</th>\n",
       "      <th>PRICE</th>\n",
       "    </tr>\n",
       "  </thead>\n",
       "  <tbody>\n",
       "    <tr>\n",
       "      <th>0</th>\n",
       "      <td>0.00632</td>\n",
       "      <td>18.0</td>\n",
       "      <td>2.31</td>\n",
       "      <td>6.575</td>\n",
       "      <td>65.2</td>\n",
       "      <td>4.0900</td>\n",
       "      <td>1</td>\n",
       "      <td>296</td>\n",
       "      <td>15.3</td>\n",
       "      <td>24.0</td>\n",
       "    </tr>\n",
       "    <tr>\n",
       "      <th>1</th>\n",
       "      <td>0.02731</td>\n",
       "      <td>0.0</td>\n",
       "      <td>7.07</td>\n",
       "      <td>6.421</td>\n",
       "      <td>78.9</td>\n",
       "      <td>4.9671</td>\n",
       "      <td>2</td>\n",
       "      <td>242</td>\n",
       "      <td>17.8</td>\n",
       "      <td>21.6</td>\n",
       "    </tr>\n",
       "    <tr>\n",
       "      <th>2</th>\n",
       "      <td>0.02729</td>\n",
       "      <td>0.0</td>\n",
       "      <td>7.07</td>\n",
       "      <td>7.185</td>\n",
       "      <td>61.1</td>\n",
       "      <td>4.9671</td>\n",
       "      <td>2</td>\n",
       "      <td>242</td>\n",
       "      <td>17.8</td>\n",
       "      <td>34.7</td>\n",
       "    </tr>\n",
       "    <tr>\n",
       "      <th>3</th>\n",
       "      <td>0.03237</td>\n",
       "      <td>0.0</td>\n",
       "      <td>2.18</td>\n",
       "      <td>6.998</td>\n",
       "      <td>45.8</td>\n",
       "      <td>6.0622</td>\n",
       "      <td>3</td>\n",
       "      <td>222</td>\n",
       "      <td>18.7</td>\n",
       "      <td>33.4</td>\n",
       "    </tr>\n",
       "    <tr>\n",
       "      <th>4</th>\n",
       "      <td>0.06905</td>\n",
       "      <td>0.0</td>\n",
       "      <td>2.18</td>\n",
       "      <td>7.147</td>\n",
       "      <td>54.2</td>\n",
       "      <td>6.0622</td>\n",
       "      <td>3</td>\n",
       "      <td>222</td>\n",
       "      <td>18.7</td>\n",
       "      <td>36.2</td>\n",
       "    </tr>\n",
       "    <tr>\n",
       "      <th>...</th>\n",
       "      <td>...</td>\n",
       "      <td>...</td>\n",
       "      <td>...</td>\n",
       "      <td>...</td>\n",
       "      <td>...</td>\n",
       "      <td>...</td>\n",
       "      <td>...</td>\n",
       "      <td>...</td>\n",
       "      <td>...</td>\n",
       "      <td>...</td>\n",
       "    </tr>\n",
       "    <tr>\n",
       "      <th>501</th>\n",
       "      <td>0.06263</td>\n",
       "      <td>0.0</td>\n",
       "      <td>11.93</td>\n",
       "      <td>6.593</td>\n",
       "      <td>69.1</td>\n",
       "      <td>2.4786</td>\n",
       "      <td>1</td>\n",
       "      <td>273</td>\n",
       "      <td>21.0</td>\n",
       "      <td>22.4</td>\n",
       "    </tr>\n",
       "    <tr>\n",
       "      <th>502</th>\n",
       "      <td>0.04527</td>\n",
       "      <td>0.0</td>\n",
       "      <td>11.93</td>\n",
       "      <td>6.120</td>\n",
       "      <td>76.7</td>\n",
       "      <td>2.2875</td>\n",
       "      <td>1</td>\n",
       "      <td>273</td>\n",
       "      <td>21.0</td>\n",
       "      <td>20.6</td>\n",
       "    </tr>\n",
       "    <tr>\n",
       "      <th>503</th>\n",
       "      <td>0.06076</td>\n",
       "      <td>0.0</td>\n",
       "      <td>11.93</td>\n",
       "      <td>6.976</td>\n",
       "      <td>91.0</td>\n",
       "      <td>2.1675</td>\n",
       "      <td>1</td>\n",
       "      <td>273</td>\n",
       "      <td>21.0</td>\n",
       "      <td>23.9</td>\n",
       "    </tr>\n",
       "    <tr>\n",
       "      <th>504</th>\n",
       "      <td>0.10959</td>\n",
       "      <td>0.0</td>\n",
       "      <td>11.93</td>\n",
       "      <td>6.794</td>\n",
       "      <td>89.3</td>\n",
       "      <td>2.3889</td>\n",
       "      <td>1</td>\n",
       "      <td>273</td>\n",
       "      <td>21.0</td>\n",
       "      <td>22.0</td>\n",
       "    </tr>\n",
       "    <tr>\n",
       "      <th>505</th>\n",
       "      <td>0.04741</td>\n",
       "      <td>0.0</td>\n",
       "      <td>11.93</td>\n",
       "      <td>6.030</td>\n",
       "      <td>80.8</td>\n",
       "      <td>2.5050</td>\n",
       "      <td>1</td>\n",
       "      <td>273</td>\n",
       "      <td>21.0</td>\n",
       "      <td>11.9</td>\n",
       "    </tr>\n",
       "  </tbody>\n",
       "</table>\n",
       "<p>506 rows × 10 columns</p>\n",
       "</div>"
      ],
      "text/plain": [
       "        CRIM    ZN  INDUS     RM   AGE     DIS  RAD  TAX  PTRATIO  PRICE\n",
       "0    0.00632  18.0   2.31  6.575  65.2  4.0900    1  296     15.3   24.0\n",
       "1    0.02731   0.0   7.07  6.421  78.9  4.9671    2  242     17.8   21.6\n",
       "2    0.02729   0.0   7.07  7.185  61.1  4.9671    2  242     17.8   34.7\n",
       "3    0.03237   0.0   2.18  6.998  45.8  6.0622    3  222     18.7   33.4\n",
       "4    0.06905   0.0   2.18  7.147  54.2  6.0622    3  222     18.7   36.2\n",
       "..       ...   ...    ...    ...   ...     ...  ...  ...      ...    ...\n",
       "501  0.06263   0.0  11.93  6.593  69.1  2.4786    1  273     21.0   22.4\n",
       "502  0.04527   0.0  11.93  6.120  76.7  2.2875    1  273     21.0   20.6\n",
       "503  0.06076   0.0  11.93  6.976  91.0  2.1675    1  273     21.0   23.9\n",
       "504  0.10959   0.0  11.93  6.794  89.3  2.3889    1  273     21.0   22.0\n",
       "505  0.04741   0.0  11.93  6.030  80.8  2.5050    1  273     21.0   11.9\n",
       "\n",
       "[506 rows x 10 columns]"
      ]
     },
     "execution_count": 7,
     "metadata": {},
     "output_type": "execute_result"
    }
   ],
   "source": [
    "# Step 4: Create a smaller DataFrame excluding specified columns\n",
    "smaller_df = housing_data.drop(columns=['CHAS', 'NOX', 'B', 'LSTAT'])\n",
    "smaller_df"
   ]
  },
  {
   "cell_type": "code",
   "execution_count": 8,
   "metadata": {
    "colab": {
     "base_uri": "https://localhost:8080/"
    },
    "id": "A1WJ0chrlqcg",
    "outputId": "8a104016-b928-43b4-a551-dfa500c97fe7"
   },
   "outputs": [
    {
     "name": "stdout",
     "output_type": "stream",
     "text": [
      "\n",
      "Last seven records of the new DataFrame:\n",
      "        CRIM   ZN  INDUS     RM   AGE     DIS  RAD  TAX  PTRATIO  PRICE\n",
      "499  0.17783  0.0   9.69  5.569  73.5  2.3999    6  391     19.2   17.5\n",
      "500  0.22438  0.0   9.69  6.027  79.7  2.4982    6  391     19.2   16.8\n",
      "501  0.06263  0.0  11.93  6.593  69.1  2.4786    1  273     21.0   22.4\n",
      "502  0.04527  0.0  11.93  6.120  76.7  2.2875    1  273     21.0   20.6\n",
      "503  0.06076  0.0  11.93  6.976  91.0  2.1675    1  273     21.0   23.9\n",
      "504  0.10959  0.0  11.93  6.794  89.3  2.3889    1  273     21.0   22.0\n",
      "505  0.04741  0.0  11.93  6.030  80.8  2.5050    1  273     21.0   11.9\n"
     ]
    }
   ],
   "source": [
    "# Step 5: Check the last seven records of the new DataFrame\n",
    "print(\"\\nLast seven records of the new DataFrame:\")\n",
    "print(smaller_df.tail(7))"
   ]
  },
  {
   "cell_type": "code",
   "execution_count": 9,
   "metadata": {
    "colab": {
     "base_uri": "https://localhost:8080/",
     "height": 790
    },
    "id": "6GGvsyZMlqjN",
    "outputId": "bd590384-b420-47b9-d6ac-842f4611a16e"
   },
   "outputs": [
    {
     "data": {
      "image/png": "[encoded data removed]",
      "text/plain": [
       "<Figure size 1200x1000 with 12 Axes>"
      ]
     },
     "metadata": {},
     "output_type": "display_data"
    }
   ],
   "source": [
    "# Step 6: Plot histograms of all variables in the new DataFrame\n",
    "smaller_df.hist(figsize=(12, 10))\n",
    "plt.tight_layout()\n",
    "plt.show()"
   ]
  },
  {
   "cell_type": "code",
   "execution_count": 10,
   "metadata": {
    "colab": {
     "base_uri": "https://localhost:8080/",
     "height": 1000
    },
    "id": "_CSg0iWTl5SA",
    "outputId": "68f67199-3711-4452-9d10-424125bd72a2"
   },
   "outputs": [
    {
     "data": {
      "image/png": "[encoded data removed]",
      "text/plain": [
       "<Figure size 640x480 with 1 Axes>"
      ]
     },
     "metadata": {},
     "output_type": "display_data"
    },
    {
     "data": {
      "image/png": "[encoded data removed]",
      "text/plain": [
       "<Figure size 640x480 with 1 Axes>"
      ]
     },
     "metadata": {},
     "output_type": "display_data"
    },
    {
     "data": {
      "image/png": "[encoded data removed]",
      "text/plain": [
       "<Figure size 640x480 with 1 Axes>"
      ]
     },
     "metadata": {},
     "output_type": "display_data"
    },
    {
     "data": {
      "image/png": "[encoded data removed]",
      "text/plain": [
       "<Figure size 640x480 with 1 Axes>"
      ]
     },
     "metadata": {},
     "output_type": "display_data"
    },
    {
     "data": {
      "image/png": "[encoded data removed]",
      "text/plain": [
       "<Figure size 640x480 with 1 Axes>"
      ]
     },
     "metadata": {},
     "output_type": "display_data"
    },
    {
     "data": {
      "image/png": "[encoded data removed]",
      "text/plain": [
       "<Figure size 640x480 with 1 Axes>"
      ]
     },
     "metadata": {},
     "output_type": "display_data"
    },
    {
     "data": {
      "image/png": "[encoded data removed]",
      "text/plain": [
       "<Figure size 640x480 with 1 Axes>"
      ]
     },
     "metadata": {},
     "output_type": "display_data"
    },
    {
     "data": {
      "image/png": "[encoded data removed]",
      "text/plain": [
       "<Figure size 640x480 with 1 Axes>"
      ]
     },
     "metadata": {},
     "output_type": "display_data"
    },
    {
     "data": {
      "image/png": "[encoded data removed]",
      "text/plain": [
       "<Figure size 640x480 with 1 Axes>"
      ]
     },
     "metadata": {},
     "output_type": "display_data"
    },
    {
     "data": {
      "image/png": "[encoded data removed]",
      "text/plain": [
       "<Figure size 640x480 with 1 Axes>"
      ]
     },
     "metadata": {},
     "output_type": "display_data"
    }
   ],
   "source": [
    "# Step 7: Plot histograms of all variables using a for loop\n",
    "for column in smaller_df.columns:\n",
    "    plt.hist(smaller_df[column], bins=20)\n",
    "    plt.title(f'Histogram of {column}')\n",
    "    plt.xlabel(column)\n",
    "    plt.ylabel('Frequency')\n",
    "    plt.show()\n"
   ]
  },
  {
   "cell_type": "code",
   "execution_count": 11,
   "metadata": {
    "colab": {
     "base_uri": "https://localhost:8080/",
     "height": 472
    },
    "id": "yxS7_aOYl5ZV",
    "outputId": "b6f0613c-c538-4f7e-f6d0-08c5150a4370"
   },
   "outputs": [
    {
     "data": {
      "image/png": "[encoded data removed]",
      "text/plain": [
       "<Figure size 640x480 with 1 Axes>"
      ]
     },
     "metadata": {},
     "output_type": "display_data"
    }
   ],
   "source": [
    "# Step 8: Create a scatter plot of crime rate versus price\n",
    "plt.scatter(housing_data['CRIM'], housing_data['PRICE'])\n",
    "plt.title('Crime Rate vs Price')\n",
    "plt.xlabel('Crime Rate')\n",
    "plt.ylabel('Price')\n",
    "plt.show()"
   ]
  },
  {
   "cell_type": "code",
   "execution_count": null,
   "metadata": {
    "colab": {
     "base_uri": "https://localhost:8080/",
     "height": 472
    },
    "id": "q7Hxnncnl5dP",
    "outputId": "1fe45c98-ad81-4683-91d0-b18e3b493c8f"
   },
   "outputs": [
    {
     "data": {
      "image/png": "[encoded data removed]",
      "text/plain": [
       "<Figure size 640x480 with 1 Axes>"
      ]
     },
     "metadata": {},
     "output_type": "display_data"
    }
   ],
   "source": [
    "# Step 9: Plot log10(crime) versus price\n",
    "plt.scatter(np.log10(housing_data['CRIM']), housing_data['PRICE'])\n",
    "plt.title('Log10(Crime Rate) vs Price')\n",
    "plt.xlabel('Log10(Crime Rate)')\n",
    "plt.ylabel('Price')\n",
    "plt.show()"
   ]
  },
  {
   "cell_type": "code",
   "execution_count": 12,
   "metadata": {
    "colab": {
     "base_uri": "https://localhost:8080/"
    },
    "id": "EqQXjnXSl5ii",
    "outputId": "c454ac0a-e8fa-4eb5-ef35-253afdd8de8e"
   },
   "outputs": [
    {
     "name": "stdout",
     "output_type": "stream",
     "text": [
      "\n",
      "Mean Rooms per Dwelling: 6.284634387351787\n",
      "Median Age: 77.5\n",
      "Mean Distance to Employment Centers: 3.795042687747034\n",
      "Percentage of Houses with Low Price (< $20,000): 41.50197628458498\n"
     ]
    }
   ],
   "source": [
    "# Step 10: Calculate and print some useful statistics\n",
    "mean_rooms_per_dwelling = smaller_df['RM'].mean()\n",
    "median_age = smaller_df['AGE'].median()\n",
    "mean_distance_to_employment_centers = smaller_df['DIS'].mean()\n",
    "percentage_low_price = (housing_data['PRICE'] < 20).mean() * 100\n",
    "\n",
    "print(\"\\nMean Rooms per Dwelling:\", mean_rooms_per_dwelling)\n",
    "print(\"Median Age:\", median_age)\n",
    "print(\"Mean Distance to Employment Centers:\", mean_distance_to_employment_centers)\n",
    "print(\"Percentage of Houses with Low Price (< $20,000):\", percentage_low_price)\n"
   ]
  },
  {
   "cell_type": "markdown",
   "metadata": {
    "id": "MlMcYWHgmDge"
   },
   "source": [
    "# Discussion Activity 3.01"
   ]
  },
  {
   "cell_type": "markdown",
   "metadata": {
    "id": "sDm_wMqTokEo"
   },
   "source": [
    "\n",
    "The primary objective of this analysis is to explore the Boston housing dataset and extract meaningful insights regarding the factors affecting housing prices. \n",
    "\n",
    "Specifically, the aims are:\n",
    "\n",
    "Investigate the distribution of different features in the dataset.\n",
    "Identify correlations between variables, particularly with respect to housing prices.\n",
    "Calculate descriptive statistics to understand the central tendencies and variability of key features.\n",
    "Explore the impact of crime rate on property prices.\n",
    "Assess the proportion of houses with prices below $20,000.\n",
    "\n",
    "\n",
    "\n",
    "I begin by loading the dataset into a pandas DataFrame and conducting preliminary data inspection. This involves checking the first few records, the data types of variables, and identifying any missing values. Subsequently, I performed data wrangling by excluding certain columns as specified in the problem statement.\n",
    "\n",
    "Following data preprocessing, I visualized the distribution of variables through histograms and explore pairwise relationships using scatter plots. I then calculate descriptive statistics such as mean rooms per dwelling, median age, mean distances to employment centers, and the percentage of houses with low prices.\n",
    "\n",
    "\n",
    "\n",
    "The analysis reveals several key findings. Firstly, the distribution of housing prices exhibits a right-skewed pattern, indicating that a majority of properties have lower prices. Secondly, there exists a strong positive correlation between the number of rooms per dwelling and property prices, suggesting that larger houses tend to be more expensive. Thirdly, the scatter plot depicting crime rate versus price illustrates a negative relationship, indicating that areas with higher crime rates tend to have lower property values. Finally, the calculated statistics provide insights into the average characteristics of houses in the Boston area."
   ]
  },
  {
   "cell_type": "markdown",
   "metadata": {},
   "source": [
    "# Activity 4.01"
   ]
  },
  {
   "cell_type": "code",
   "execution_count": 109,
   "metadata": {
    "id": "wUTmij0amDos"
   },
   "outputs": [],
   "source": [
    "# Step 1: Load the necessary libraries\n",
    "import pandas as pd\n",
    "import matplotlib.pyplot as plt"
   ]
  },
  {
   "cell_type": "code",
   "execution_count": 110,
   "metadata": {
    "colab": {
     "base_uri": "https://localhost:8080/",
     "height": 310
    },
    "id": "1zAxY3WomDvK",
    "outputId": "40de2cee-30cf-4aba-c9db-ee5ca88b2187"
   },
   "outputs": [
    {
     "data": {
      "text/html": [
       "<div>\n",
       "<style scoped>\n",
       "    .dataframe tbody tr th:only-of-type {\n",
       "        vertical-align: middle;\n",
       "    }\n",
       "\n",
       "    .dataframe tbody tr th {\n",
       "        vertical-align: top;\n",
       "    }\n",
       "\n",
       "    .dataframe thead th {\n",
       "        text-align: right;\n",
       "    }\n",
       "</style>\n",
       "<table border=\"1\" class=\"dataframe\">\n",
       "  <thead>\n",
       "    <tr style=\"text-align: right;\">\n",
       "      <th></th>\n",
       "      <th>39</th>\n",
       "      <th>State-gov</th>\n",
       "      <th>77516</th>\n",
       "      <th>Bachelors</th>\n",
       "      <th>13</th>\n",
       "      <th>Never-married</th>\n",
       "      <th>Adm-clerical</th>\n",
       "      <th>Not-in-family</th>\n",
       "      <th>Male</th>\n",
       "      <th>2174</th>\n",
       "      <th>0</th>\n",
       "      <th>40</th>\n",
       "      <th>United-States</th>\n",
       "      <th>&lt;=50K</th>\n",
       "    </tr>\n",
       "  </thead>\n",
       "  <tbody>\n",
       "    <tr>\n",
       "      <th>0</th>\n",
       "      <td>50</td>\n",
       "      <td>Self-emp-not-inc</td>\n",
       "      <td>83311</td>\n",
       "      <td>Bachelors</td>\n",
       "      <td>13</td>\n",
       "      <td>Married-civ-spouse</td>\n",
       "      <td>Exec-managerial</td>\n",
       "      <td>Husband</td>\n",
       "      <td>Male</td>\n",
       "      <td>0</td>\n",
       "      <td>0</td>\n",
       "      <td>13</td>\n",
       "      <td>United-States</td>\n",
       "      <td>&lt;=50K</td>\n",
       "    </tr>\n",
       "    <tr>\n",
       "      <th>1</th>\n",
       "      <td>38</td>\n",
       "      <td>Private</td>\n",
       "      <td>215646</td>\n",
       "      <td>HS-grad</td>\n",
       "      <td>9</td>\n",
       "      <td>Divorced</td>\n",
       "      <td>Handlers-cleaners</td>\n",
       "      <td>Not-in-family</td>\n",
       "      <td>Male</td>\n",
       "      <td>0</td>\n",
       "      <td>0</td>\n",
       "      <td>40</td>\n",
       "      <td>United-States</td>\n",
       "      <td>&lt;=50K</td>\n",
       "    </tr>\n",
       "    <tr>\n",
       "      <th>2</th>\n",
       "      <td>53</td>\n",
       "      <td>Private</td>\n",
       "      <td>234721</td>\n",
       "      <td>11th</td>\n",
       "      <td>7</td>\n",
       "      <td>Married-civ-spouse</td>\n",
       "      <td>Handlers-cleaners</td>\n",
       "      <td>Husband</td>\n",
       "      <td>Male</td>\n",
       "      <td>0</td>\n",
       "      <td>0</td>\n",
       "      <td>40</td>\n",
       "      <td>United-States</td>\n",
       "      <td>&lt;=50K</td>\n",
       "    </tr>\n",
       "    <tr>\n",
       "      <th>3</th>\n",
       "      <td>28</td>\n",
       "      <td>Private</td>\n",
       "      <td>338409</td>\n",
       "      <td>Bachelors</td>\n",
       "      <td>13</td>\n",
       "      <td>Married-civ-spouse</td>\n",
       "      <td>Prof-specialty</td>\n",
       "      <td>Wife</td>\n",
       "      <td>Female</td>\n",
       "      <td>0</td>\n",
       "      <td>0</td>\n",
       "      <td>40</td>\n",
       "      <td>Cuba</td>\n",
       "      <td>&lt;=50K</td>\n",
       "    </tr>\n",
       "    <tr>\n",
       "      <th>4</th>\n",
       "      <td>37</td>\n",
       "      <td>Private</td>\n",
       "      <td>284582</td>\n",
       "      <td>Masters</td>\n",
       "      <td>14</td>\n",
       "      <td>Married-civ-spouse</td>\n",
       "      <td>Exec-managerial</td>\n",
       "      <td>Wife</td>\n",
       "      <td>Female</td>\n",
       "      <td>0</td>\n",
       "      <td>0</td>\n",
       "      <td>40</td>\n",
       "      <td>United-States</td>\n",
       "      <td>&lt;=50K</td>\n",
       "    </tr>\n",
       "  </tbody>\n",
       "</table>\n",
       "</div>"
      ],
      "text/plain": [
       "   39          State-gov   77516   Bachelors  13        Never-married  \\\n",
       "0  50   Self-emp-not-inc   83311   Bachelors  13   Married-civ-spouse   \n",
       "1  38            Private  215646     HS-grad   9             Divorced   \n",
       "2  53            Private  234721        11th   7   Married-civ-spouse   \n",
       "3  28            Private  338409   Bachelors  13   Married-civ-spouse   \n",
       "4  37            Private  284582     Masters  14   Married-civ-spouse   \n",
       "\n",
       "         Adm-clerical   Not-in-family     Male  2174  0  40   United-States  \\\n",
       "0     Exec-managerial         Husband     Male     0  0  13   United-States   \n",
       "1   Handlers-cleaners   Not-in-family     Male     0  0  40   United-States   \n",
       "2   Handlers-cleaners         Husband     Male     0  0  40   United-States   \n",
       "3      Prof-specialty            Wife   Female     0  0  40            Cuba   \n",
       "4     Exec-managerial            Wife   Female     0  0  40   United-States   \n",
       "\n",
       "    <=50K  \n",
       "0   <=50K  \n",
       "1   <=50K  \n",
       "2   <=50K  \n",
       "3   <=50K  \n",
       "4   <=50K  "
      ]
     },
     "execution_count": 110,
     "metadata": {},
     "output_type": "execute_result"
    }
   ],
   "source": [
    "# Step 2: Read the adult income dataset\n",
    "\n",
    "income_data = pd.read_csv('adult_income_dataset.csv')\n",
    "income_data.head()"
   ]
  },
  {
   "cell_type": "code",
   "execution_count": 111,
   "metadata": {
    "id": "bX-QHmlImTAK"
   },
   "outputs": [],
   "source": [
    "# Step 3: Create a script that will read a text file line by line\n",
    "def read_file_line_by_line(file_path):\n",
    "    with open(file_path, 'r') as file:\n",
    "        for line in file:\n",
    "            print(line)"
   ]
  },
  {
   "cell_type": "code",
   "execution_count": 112,
   "metadata": {
    "colab": {
     "base_uri": "https://localhost:8080/"
    },
    "id": "rjm4Wevbx4Mj",
    "outputId": "b88037ef-b0e5-4a0f-dae4-c24f3f3f0326"
   },
   "outputs": [
    {
     "data": {
      "text/plain": [
       "['age',\n",
       " 'workclass',\n",
       " 'fnlwgt',\n",
       " 'education',\n",
       " 'education-num',\n",
       " 'marital-status',\n",
       " 'occupation',\n",
       " 'relationship',\n",
       " 'sex',\n",
       " 'capital-gain',\n",
       " 'capital-loss',\n",
       " 'hours-per-week',\n",
       " 'native-country']"
      ]
     },
     "execution_count": 112,
     "metadata": {},
     "output_type": "execute_result"
    }
   ],
   "source": [
    "names = []\n",
    "with open('adult_income_names.txt','r') as f:\n",
    "    for line in f:\n",
    "        f.readline()\n",
    "        var=line.split(\":\")[0]\n",
    "        names.append(var)\n",
    "names"
   ]
  },
  {
   "cell_type": "code",
   "execution_count": 113,
   "metadata": {
    "id": "alKiJE0k6l3t"
   },
   "outputs": [],
   "source": [
    "names.append('income')"
   ]
  },
  {
   "cell_type": "code",
   "execution_count": 116,
   "metadata": {
    "colab": {
     "base_uri": "https://localhost:8080/",
     "height": 399
    },
    "id": "asv5WR4IzNUK",
    "outputId": "dcbaab6a-064e-44f5-a91a-2a7dbeb7460b"
   },
   "outputs": [
    {
     "data": {
      "text/html": [
       "<div>\n",
       "<style scoped>\n",
       "    .dataframe tbody tr th:only-of-type {\n",
       "        vertical-align: middle;\n",
       "    }\n",
       "\n",
       "    .dataframe tbody tr th {\n",
       "        vertical-align: top;\n",
       "    }\n",
       "\n",
       "    .dataframe thead th {\n",
       "        text-align: right;\n",
       "    }\n",
       "</style>\n",
       "<table border=\"1\" class=\"dataframe\">\n",
       "  <thead>\n",
       "    <tr style=\"text-align: right;\">\n",
       "      <th></th>\n",
       "      <th>age</th>\n",
       "      <th>workclass</th>\n",
       "      <th>fnlwgt</th>\n",
       "      <th>education</th>\n",
       "      <th>education-num</th>\n",
       "      <th>marital-status</th>\n",
       "      <th>occupation</th>\n",
       "      <th>relationship</th>\n",
       "      <th>sex</th>\n",
       "      <th>capital-gain</th>\n",
       "      <th>capital-loss</th>\n",
       "      <th>hours-per-week</th>\n",
       "      <th>native-country</th>\n",
       "      <th>income</th>\n",
       "    </tr>\n",
       "  </thead>\n",
       "  <tbody>\n",
       "    <tr>\n",
       "      <th>0</th>\n",
       "      <td>39</td>\n",
       "      <td>State-gov</td>\n",
       "      <td>77516</td>\n",
       "      <td>Bachelors</td>\n",
       "      <td>13</td>\n",
       "      <td>Never-married</td>\n",
       "      <td>Adm-clerical</td>\n",
       "      <td>Not-in-family</td>\n",
       "      <td>Male</td>\n",
       "      <td>2174</td>\n",
       "      <td>0</td>\n",
       "      <td>40</td>\n",
       "      <td>United-States</td>\n",
       "      <td>&lt;=50K</td>\n",
       "    </tr>\n",
       "    <tr>\n",
       "      <th>1</th>\n",
       "      <td>50</td>\n",
       "      <td>Self-emp-not-inc</td>\n",
       "      <td>83311</td>\n",
       "      <td>Bachelors</td>\n",
       "      <td>13</td>\n",
       "      <td>Married-civ-spouse</td>\n",
       "      <td>Exec-managerial</td>\n",
       "      <td>Husband</td>\n",
       "      <td>Male</td>\n",
       "      <td>0</td>\n",
       "      <td>0</td>\n",
       "      <td>13</td>\n",
       "      <td>United-States</td>\n",
       "      <td>&lt;=50K</td>\n",
       "    </tr>\n",
       "    <tr>\n",
       "      <th>2</th>\n",
       "      <td>38</td>\n",
       "      <td>Private</td>\n",
       "      <td>215646</td>\n",
       "      <td>HS-grad</td>\n",
       "      <td>9</td>\n",
       "      <td>Divorced</td>\n",
       "      <td>Handlers-cleaners</td>\n",
       "      <td>Not-in-family</td>\n",
       "      <td>Male</td>\n",
       "      <td>0</td>\n",
       "      <td>0</td>\n",
       "      <td>40</td>\n",
       "      <td>United-States</td>\n",
       "      <td>&lt;=50K</td>\n",
       "    </tr>\n",
       "    <tr>\n",
       "      <th>3</th>\n",
       "      <td>53</td>\n",
       "      <td>Private</td>\n",
       "      <td>234721</td>\n",
       "      <td>11th</td>\n",
       "      <td>7</td>\n",
       "      <td>Married-civ-spouse</td>\n",
       "      <td>Handlers-cleaners</td>\n",
       "      <td>Husband</td>\n",
       "      <td>Male</td>\n",
       "      <td>0</td>\n",
       "      <td>0</td>\n",
       "      <td>40</td>\n",
       "      <td>United-States</td>\n",
       "      <td>&lt;=50K</td>\n",
       "    </tr>\n",
       "    <tr>\n",
       "      <th>4</th>\n",
       "      <td>28</td>\n",
       "      <td>Private</td>\n",
       "      <td>338409</td>\n",
       "      <td>Bachelors</td>\n",
       "      <td>13</td>\n",
       "      <td>Married-civ-spouse</td>\n",
       "      <td>Prof-specialty</td>\n",
       "      <td>Wife</td>\n",
       "      <td>Female</td>\n",
       "      <td>0</td>\n",
       "      <td>0</td>\n",
       "      <td>40</td>\n",
       "      <td>Cuba</td>\n",
       "      <td>&lt;=50K</td>\n",
       "    </tr>\n",
       "  </tbody>\n",
       "</table>\n",
       "</div>"
      ],
      "text/plain": [
       "   age          workclass  fnlwgt   education  education-num  \\\n",
       "0   39          State-gov   77516   Bachelors             13   \n",
       "1   50   Self-emp-not-inc   83311   Bachelors             13   \n",
       "2   38            Private  215646     HS-grad              9   \n",
       "3   53            Private  234721        11th              7   \n",
       "4   28            Private  338409   Bachelors             13   \n",
       "\n",
       "        marital-status          occupation    relationship      sex  \\\n",
       "0        Never-married        Adm-clerical   Not-in-family     Male   \n",
       "1   Married-civ-spouse     Exec-managerial         Husband     Male   \n",
       "2             Divorced   Handlers-cleaners   Not-in-family     Male   \n",
       "3   Married-civ-spouse   Handlers-cleaners         Husband     Male   \n",
       "4   Married-civ-spouse      Prof-specialty            Wife   Female   \n",
       "\n",
       "   capital-gain  capital-loss  hours-per-week  native-country  income  \n",
       "0          2174             0              40   United-States   <=50K  \n",
       "1             0             0              13   United-States   <=50K  \n",
       "2             0             0              40   United-States   <=50K  \n",
       "3             0             0              40   United-States   <=50K  \n",
       "4             0             0              40            Cuba   <=50K  "
      ]
     },
     "execution_count": 116,
     "metadata": {},
     "output_type": "execute_result"
    }
   ],
   "source": [
    "income_data = pd.read_csv(\"adult_income_dataset.csv\",names=names)\n",
    "income_data.head()"
   ]
  },
  {
   "cell_type": "code",
   "execution_count": 122,
   "metadata": {},
   "outputs": [],
   "source": [
    "# Create a copy of the DataFrame\n",
    "\n",
    "# Read the CSV file into a DataFrame\n",
    "income_data = pd.read_csv(\"adult_income_dataset.csv\", names=names)\n",
    "\n",
    "# Create a copy\n",
    "income_data_headed = income_data.copy()\n"
   ]
  },
  {
   "cell_type": "code",
   "execution_count": 121,
   "metadata": {},
   "outputs": [
    {
     "data": {
      "text/html": [
       "<div>\n",
       "<style scoped>\n",
       "    .dataframe tbody tr th:only-of-type {\n",
       "        vertical-align: middle;\n",
       "    }\n",
       "\n",
       "    .dataframe tbody tr th {\n",
       "        vertical-align: top;\n",
       "    }\n",
       "\n",
       "    .dataframe thead th {\n",
       "        text-align: right;\n",
       "    }\n",
       "</style>\n",
       "<table border=\"1\" class=\"dataframe\">\n",
       "  <thead>\n",
       "    <tr style=\"text-align: right;\">\n",
       "      <th></th>\n",
       "      <th>age</th>\n",
       "      <th>workclass</th>\n",
       "      <th>fnlwgt</th>\n",
       "      <th>education</th>\n",
       "      <th>education-num</th>\n",
       "      <th>marital-status</th>\n",
       "      <th>occupation</th>\n",
       "      <th>relationship</th>\n",
       "      <th>sex</th>\n",
       "      <th>capital-gain</th>\n",
       "      <th>capital-loss</th>\n",
       "      <th>hours-per-week</th>\n",
       "      <th>native-country</th>\n",
       "      <th>income</th>\n",
       "    </tr>\n",
       "  </thead>\n",
       "  <tbody>\n",
       "    <tr>\n",
       "      <th>0</th>\n",
       "      <td>39</td>\n",
       "      <td>State-gov</td>\n",
       "      <td>77516</td>\n",
       "      <td>Bachelors</td>\n",
       "      <td>13</td>\n",
       "      <td>Never-married</td>\n",
       "      <td>Adm-clerical</td>\n",
       "      <td>Not-in-family</td>\n",
       "      <td>Male</td>\n",
       "      <td>2174</td>\n",
       "      <td>0</td>\n",
       "      <td>40</td>\n",
       "      <td>United-States</td>\n",
       "      <td>&lt;=50K</td>\n",
       "    </tr>\n",
       "    <tr>\n",
       "      <th>1</th>\n",
       "      <td>50</td>\n",
       "      <td>Self-emp-not-inc</td>\n",
       "      <td>83311</td>\n",
       "      <td>Bachelors</td>\n",
       "      <td>13</td>\n",
       "      <td>Married-civ-spouse</td>\n",
       "      <td>Exec-managerial</td>\n",
       "      <td>Husband</td>\n",
       "      <td>Male</td>\n",
       "      <td>0</td>\n",
       "      <td>0</td>\n",
       "      <td>13</td>\n",
       "      <td>United-States</td>\n",
       "      <td>&lt;=50K</td>\n",
       "    </tr>\n",
       "    <tr>\n",
       "      <th>2</th>\n",
       "      <td>38</td>\n",
       "      <td>Private</td>\n",
       "      <td>215646</td>\n",
       "      <td>HS-grad</td>\n",
       "      <td>9</td>\n",
       "      <td>Divorced</td>\n",
       "      <td>Handlers-cleaners</td>\n",
       "      <td>Not-in-family</td>\n",
       "      <td>Male</td>\n",
       "      <td>0</td>\n",
       "      <td>0</td>\n",
       "      <td>40</td>\n",
       "      <td>United-States</td>\n",
       "      <td>&lt;=50K</td>\n",
       "    </tr>\n",
       "    <tr>\n",
       "      <th>3</th>\n",
       "      <td>53</td>\n",
       "      <td>Private</td>\n",
       "      <td>234721</td>\n",
       "      <td>11th</td>\n",
       "      <td>7</td>\n",
       "      <td>Married-civ-spouse</td>\n",
       "      <td>Handlers-cleaners</td>\n",
       "      <td>Husband</td>\n",
       "      <td>Male</td>\n",
       "      <td>0</td>\n",
       "      <td>0</td>\n",
       "      <td>40</td>\n",
       "      <td>United-States</td>\n",
       "      <td>&lt;=50K</td>\n",
       "    </tr>\n",
       "    <tr>\n",
       "      <th>4</th>\n",
       "      <td>28</td>\n",
       "      <td>Private</td>\n",
       "      <td>338409</td>\n",
       "      <td>Bachelors</td>\n",
       "      <td>13</td>\n",
       "      <td>Married-civ-spouse</td>\n",
       "      <td>Prof-specialty</td>\n",
       "      <td>Wife</td>\n",
       "      <td>Female</td>\n",
       "      <td>0</td>\n",
       "      <td>0</td>\n",
       "      <td>40</td>\n",
       "      <td>Cuba</td>\n",
       "      <td>&lt;=50K</td>\n",
       "    </tr>\n",
       "  </tbody>\n",
       "</table>\n",
       "</div>"
      ],
      "text/plain": [
       "   age          workclass  fnlwgt   education  education-num  \\\n",
       "0   39          State-gov   77516   Bachelors             13   \n",
       "1   50   Self-emp-not-inc   83311   Bachelors             13   \n",
       "2   38            Private  215646     HS-grad              9   \n",
       "3   53            Private  234721        11th              7   \n",
       "4   28            Private  338409   Bachelors             13   \n",
       "\n",
       "        marital-status          occupation    relationship      sex  \\\n",
       "0        Never-married        Adm-clerical   Not-in-family     Male   \n",
       "1   Married-civ-spouse     Exec-managerial         Husband     Male   \n",
       "2             Divorced   Handlers-cleaners   Not-in-family     Male   \n",
       "3   Married-civ-spouse   Handlers-cleaners         Husband     Male   \n",
       "4   Married-civ-spouse      Prof-specialty            Wife   Female   \n",
       "\n",
       "   capital-gain  capital-loss  hours-per-week  native-country  income  \n",
       "0          2174             0              40   United-States   <=50K  \n",
       "1             0             0              13   United-States   <=50K  \n",
       "2             0             0              40   United-States   <=50K  \n",
       "3             0             0              40   United-States   <=50K  \n",
       "4             0             0              40            Cuba   <=50K  "
      ]
     },
     "execution_count": 121,
     "metadata": {},
     "output_type": "execute_result"
    }
   ],
   "source": [
    "income_data_headed.head()"
   ]
  },
  {
   "cell_type": "code",
   "execution_count": 175,
   "metadata": {
    "colab": {
     "base_uri": "https://localhost:8080/"
    },
    "id": "-Pj0COkzmTOh",
    "outputId": "4bfbec5a-2ee2-4ae9-a59d-8d6d1a685c01"
   },
   "outputs": [
    {
     "name": "stdout",
     "output_type": "stream",
     "text": [
      "Missing Values:\n",
      "age               0\n",
      "workclass         0\n",
      "fnlwgt            0\n",
      "education         0\n",
      "education-num     0\n",
      "marital-status    0\n",
      "occupation        0\n",
      "relationship      0\n",
      "sex               0\n",
      "capital-gain      0\n",
      "capital-loss      0\n",
      "hours-per-week    0\n",
      "native-country    0\n",
      "income            0\n",
      "dtype: int64\n"
     ]
    }
   ],
   "source": [
    "# Step 5: Find the missing values\n",
    "missing_values = income_data.isnull().sum()\n",
    "print(\"Missing Values:\")\n",
    "print(missing_values)"
   ]
  },
  {
   "cell_type": "code",
   "execution_count": 176,
   "metadata": {
    "colab": {
     "base_uri": "https://localhost:8080/",
     "height": 423
    },
    "id": "YJXMDkVtmTSr",
    "outputId": "ca84f3ac-51b5-4c88-b47c-942e53b7fe22"
   },
   "outputs": [
    {
     "data": {
      "text/html": [
       "<div>\n",
       "<style scoped>\n",
       "    .dataframe tbody tr th:only-of-type {\n",
       "        vertical-align: middle;\n",
       "    }\n",
       "\n",
       "    .dataframe tbody tr th {\n",
       "        vertical-align: top;\n",
       "    }\n",
       "\n",
       "    .dataframe thead th {\n",
       "        text-align: right;\n",
       "    }\n",
       "</style>\n",
       "<table border=\"1\" class=\"dataframe\">\n",
       "  <thead>\n",
       "    <tr style=\"text-align: right;\">\n",
       "      <th></th>\n",
       "      <th>age</th>\n",
       "      <th>education</th>\n",
       "      <th>occupation</th>\n",
       "    </tr>\n",
       "  </thead>\n",
       "  <tbody>\n",
       "    <tr>\n",
       "      <th>0</th>\n",
       "      <td>39</td>\n",
       "      <td>Bachelors</td>\n",
       "      <td>Adm-clerical</td>\n",
       "    </tr>\n",
       "    <tr>\n",
       "      <th>1</th>\n",
       "      <td>50</td>\n",
       "      <td>Bachelors</td>\n",
       "      <td>Exec-managerial</td>\n",
       "    </tr>\n",
       "    <tr>\n",
       "      <th>2</th>\n",
       "      <td>38</td>\n",
       "      <td>HS-grad</td>\n",
       "      <td>Handlers-cleaners</td>\n",
       "    </tr>\n",
       "    <tr>\n",
       "      <th>3</th>\n",
       "      <td>53</td>\n",
       "      <td>11th</td>\n",
       "      <td>Handlers-cleaners</td>\n",
       "    </tr>\n",
       "    <tr>\n",
       "      <th>4</th>\n",
       "      <td>28</td>\n",
       "      <td>Bachelors</td>\n",
       "      <td>Prof-specialty</td>\n",
       "    </tr>\n",
       "    <tr>\n",
       "      <th>...</th>\n",
       "      <td>...</td>\n",
       "      <td>...</td>\n",
       "      <td>...</td>\n",
       "    </tr>\n",
       "    <tr>\n",
       "      <th>32556</th>\n",
       "      <td>27</td>\n",
       "      <td>Assoc-acdm</td>\n",
       "      <td>Tech-support</td>\n",
       "    </tr>\n",
       "    <tr>\n",
       "      <th>32557</th>\n",
       "      <td>40</td>\n",
       "      <td>HS-grad</td>\n",
       "      <td>Machine-op-inspct</td>\n",
       "    </tr>\n",
       "    <tr>\n",
       "      <th>32558</th>\n",
       "      <td>58</td>\n",
       "      <td>HS-grad</td>\n",
       "      <td>Adm-clerical</td>\n",
       "    </tr>\n",
       "    <tr>\n",
       "      <th>32559</th>\n",
       "      <td>22</td>\n",
       "      <td>HS-grad</td>\n",
       "      <td>Adm-clerical</td>\n",
       "    </tr>\n",
       "    <tr>\n",
       "      <th>32560</th>\n",
       "      <td>52</td>\n",
       "      <td>HS-grad</td>\n",
       "      <td>Exec-managerial</td>\n",
       "    </tr>\n",
       "  </tbody>\n",
       "</table>\n",
       "<p>32561 rows × 3 columns</p>\n",
       "</div>"
      ],
      "text/plain": [
       "       age    education         occupation\n",
       "0       39    Bachelors       Adm-clerical\n",
       "1       50    Bachelors    Exec-managerial\n",
       "2       38      HS-grad  Handlers-cleaners\n",
       "3       53         11th  Handlers-cleaners\n",
       "4       28    Bachelors     Prof-specialty\n",
       "...    ...          ...                ...\n",
       "32556   27   Assoc-acdm       Tech-support\n",
       "32557   40      HS-grad  Machine-op-inspct\n",
       "32558   58      HS-grad       Adm-clerical\n",
       "32559   22      HS-grad       Adm-clerical\n",
       "32560   52      HS-grad    Exec-managerial\n",
       "\n",
       "[32561 rows x 3 columns]"
      ]
     },
     "execution_count": 176,
     "metadata": {},
     "output_type": "execute_result"
    }
   ],
   "source": [
    "# Step 6: Create a DataFrame with only age, education, and occupation by using subsetting\n",
    "subset_data = income_data[['age', 'education', 'occupation']]\n",
    "subset_data"
   ]
  },
  {
   "cell_type": "code",
   "execution_count": 177,
   "metadata": {
    "colab": {
     "base_uri": "https://localhost:8080/",
     "height": 472
    },
    "id": "jj-NZrhwmTV5",
    "outputId": "abf7eb1e-a01e-46f7-dcd6-29ef6afc5985",
    "scrolled": true
   },
   "outputs": [
    {
     "data": {
      "image/png": "[encoded data removed]",
      "text/plain": [
       "<Figure size 640x480 with 1 Axes>"
      ]
     },
     "metadata": {},
     "output_type": "display_data"
    }
   ],
   "source": [
    "# Step 7: Plot a histogram of age with a bin size of 20\n",
    "plt.hist(income_data['age'], bins=20)\n",
    "plt.title('Histogram of Age')\n",
    "plt.xlabel('Age')\n",
    "plt.ylabel('Frequency')\n",
    "plt.show()"
   ]
  },
  {
   "cell_type": "code",
   "execution_count": 178,
   "metadata": {
    "id": "w-XGRSiNmhNm"
   },
   "outputs": [],
   "source": [
    "# Step 8: Create a function to strip the whitespace characters\n",
    "def strip_whitespace(x):\n",
    "    if isinstance(x, str):\n",
    "        return x.strip()\n",
    "    else:\n",
    "        return x"
   ]
  },
  {
   "cell_type": "code",
   "execution_count": 180,
   "metadata": {
    "id": "FCqPNYaomhW2"
   },
   "outputs": [],
   "source": [
    "# Step 9: Use the apply method to apply this function to all the columns with string values\n",
    "income_data = income_data.applymap(strip_whitespace)"
   ]
  },
  {
   "cell_type": "code",
   "execution_count": 181,
   "metadata": {},
   "outputs": [
    {
     "name": "stdout",
     "output_type": "stream",
     "text": [
      "Number of people aged between 30 and 50: 16390\n"
     ]
    }
   ],
   "source": [
    "# Step 10: Find the number of people who are aged between 30 and 50\n",
    "\n",
    "import pandas as pd\n",
    "\n",
    "# convert the 'age' column to integers\n",
    "income_data['age'] = income_data['age'].astype(int)\n",
    "\n",
    "# Filter the DataFrame based on age\n",
    "people_between_30_50 = income_data[(income_data['age'] >= 30) & (income_data['age'] <= 50)]\n",
    "\n",
    "# Get the number of people aged between 30 and 50\n",
    "num_people_between_30_50 = len(people_between_30_50)\n",
    "print(\"Number of people aged between 30 and 50:\", num_people_between_30_50)\n"
   ]
  },
  {
   "cell_type": "code",
   "execution_count": 182,
   "metadata": {
    "colab": {
     "base_uri": "https://localhost:8080/",
     "height": 509
    },
    "id": "AxX69y1-mp4z",
    "outputId": "a6bfc50b-c377-47e4-9f28-73a74c6d5f75"
   },
   "outputs": [
    {
     "data": {
      "text/html": [
       "<div>\n",
       "<style scoped>\n",
       "    .dataframe tbody tr th:only-of-type {\n",
       "        vertical-align: middle;\n",
       "    }\n",
       "\n",
       "    .dataframe tbody tr th {\n",
       "        vertical-align: top;\n",
       "    }\n",
       "\n",
       "    .dataframe thead th {\n",
       "        text-align: right;\n",
       "    }\n",
       "</style>\n",
       "<table border=\"1\" class=\"dataframe\">\n",
       "  <thead>\n",
       "    <tr style=\"text-align: right;\">\n",
       "      <th></th>\n",
       "      <th></th>\n",
       "      <th>fnlwgt</th>\n",
       "      <th>education-num</th>\n",
       "      <th>capital-gain</th>\n",
       "      <th>capital-loss</th>\n",
       "      <th>hours-per-week</th>\n",
       "    </tr>\n",
       "    <tr>\n",
       "      <th>age</th>\n",
       "      <th>education</th>\n",
       "      <th></th>\n",
       "      <th></th>\n",
       "      <th></th>\n",
       "      <th></th>\n",
       "      <th></th>\n",
       "    </tr>\n",
       "  </thead>\n",
       "  <tbody>\n",
       "    <tr>\n",
       "      <th rowspan=\"5\" valign=\"top\">17</th>\n",
       "      <th>10th</th>\n",
       "      <td>187111.630435</td>\n",
       "      <td>6.0</td>\n",
       "      <td>266.659420</td>\n",
       "      <td>46.434783</td>\n",
       "      <td>21.543478</td>\n",
       "    </tr>\n",
       "    <tr>\n",
       "      <th>11th</th>\n",
       "      <td>188696.555556</td>\n",
       "      <td>7.0</td>\n",
       "      <td>30.411111</td>\n",
       "      <td>36.911111</td>\n",
       "      <td>19.927778</td>\n",
       "    </tr>\n",
       "    <tr>\n",
       "      <th>12th</th>\n",
       "      <td>178750.702703</td>\n",
       "      <td>8.0</td>\n",
       "      <td>0.000000</td>\n",
       "      <td>46.513514</td>\n",
       "      <td>20.189189</td>\n",
       "    </tr>\n",
       "    <tr>\n",
       "      <th>5th-6th</th>\n",
       "      <td>270942.000000</td>\n",
       "      <td>3.0</td>\n",
       "      <td>0.000000</td>\n",
       "      <td>0.000000</td>\n",
       "      <td>48.000000</td>\n",
       "    </tr>\n",
       "    <tr>\n",
       "      <th>7th-8th</th>\n",
       "      <td>127804.000000</td>\n",
       "      <td>4.0</td>\n",
       "      <td>0.000000</td>\n",
       "      <td>0.000000</td>\n",
       "      <td>31.000000</td>\n",
       "    </tr>\n",
       "    <tr>\n",
       "      <th>...</th>\n",
       "      <th>...</th>\n",
       "      <td>...</td>\n",
       "      <td>...</td>\n",
       "      <td>...</td>\n",
       "      <td>...</td>\n",
       "      <td>...</td>\n",
       "    </tr>\n",
       "    <tr>\n",
       "      <th rowspan=\"5\" valign=\"top\">90</th>\n",
       "      <th>Bachelors</th>\n",
       "      <td>165312.333333</td>\n",
       "      <td>13.0</td>\n",
       "      <td>2327.000000</td>\n",
       "      <td>0.000000</td>\n",
       "      <td>31.666667</td>\n",
       "    </tr>\n",
       "    <tr>\n",
       "      <th>HS-grad</th>\n",
       "      <td>132201.285714</td>\n",
       "      <td>9.0</td>\n",
       "      <td>1394.142857</td>\n",
       "      <td>468.714286</td>\n",
       "      <td>37.428571</td>\n",
       "    </tr>\n",
       "    <tr>\n",
       "      <th>Masters</th>\n",
       "      <td>150378.250000</td>\n",
       "      <td>14.0</td>\n",
       "      <td>5012.750000</td>\n",
       "      <td>0.000000</td>\n",
       "      <td>47.500000</td>\n",
       "    </tr>\n",
       "    <tr>\n",
       "      <th>Prof-school</th>\n",
       "      <td>87372.000000</td>\n",
       "      <td>15.0</td>\n",
       "      <td>20051.000000</td>\n",
       "      <td>0.000000</td>\n",
       "      <td>72.000000</td>\n",
       "    </tr>\n",
       "    <tr>\n",
       "      <th>Some-college</th>\n",
       "      <td>153924.333333</td>\n",
       "      <td>10.0</td>\n",
       "      <td>0.000000</td>\n",
       "      <td>0.000000</td>\n",
       "      <td>32.833333</td>\n",
       "    </tr>\n",
       "  </tbody>\n",
       "</table>\n",
       "<p>965 rows × 5 columns</p>\n",
       "</div>"
      ],
      "text/plain": [
       "                         fnlwgt  education-num  capital-gain  capital-loss  \\\n",
       "age education                                                                \n",
       "17  10th          187111.630435            6.0    266.659420     46.434783   \n",
       "    11th          188696.555556            7.0     30.411111     36.911111   \n",
       "    12th          178750.702703            8.0      0.000000     46.513514   \n",
       "    5th-6th       270942.000000            3.0      0.000000      0.000000   \n",
       "    7th-8th       127804.000000            4.0      0.000000      0.000000   \n",
       "...                         ...            ...           ...           ...   \n",
       "90  Bachelors     165312.333333           13.0   2327.000000      0.000000   \n",
       "    HS-grad       132201.285714            9.0   1394.142857    468.714286   \n",
       "    Masters       150378.250000           14.0   5012.750000      0.000000   \n",
       "    Prof-school    87372.000000           15.0  20051.000000      0.000000   \n",
       "    Some-college  153924.333333           10.0      0.000000      0.000000   \n",
       "\n",
       "                  hours-per-week  \n",
       "age education                     \n",
       "17  10th               21.543478  \n",
       "    11th               19.927778  \n",
       "    12th               20.189189  \n",
       "    5th-6th            48.000000  \n",
       "    7th-8th            31.000000  \n",
       "...                          ...  \n",
       "90  Bachelors          31.666667  \n",
       "    HS-grad            37.428571  \n",
       "    Masters            47.500000  \n",
       "    Prof-school        72.000000  \n",
       "    Some-college       32.833333  \n",
       "\n",
       "[965 rows x 5 columns]"
      ]
     },
     "execution_count": 182,
     "metadata": {},
     "output_type": "execute_result"
    }
   ],
   "source": [
    "# Step 11: Group the records based on age and education to find how the mean age is distributed\n",
    "age_education_mean = income_data.groupby(['age', 'education']).mean()\n",
    "age_education_mean\n"
   ]
  },
  {
   "cell_type": "code",
   "execution_count": null,
   "metadata": {},
   "outputs": [],
   "source": []
  },
  {
   "cell_type": "code",
   "execution_count": 172,
   "metadata": {},
   "outputs": [
    {
     "name": "stdout",
     "output_type": "stream",
     "text": [
      "Profession with the largest share of the workforce above the 75th percentile: Priv-house-serv\n"
     ]
    }
   ],
   "source": [
    "# Step 12: Group by occupation and show the summary statistics of age\n",
    "\n",
    "# Remove rows where the occupation is \"?\"\n",
    "income_data_cleaned = income_data[income_data['occupation'] != \"?\"]\n",
    "\n",
    "# Group by occupation and show the summary statistics of age\n",
    "occupation_summary_stats = income_data_cleaned.groupby('occupation')['age'].describe()\n",
    "\n",
    "# Check if there are any occupations with data beyond the 75th percentile\n",
    "if '75%' in occupation_summary_stats:\n",
    "    highest_percentile_profession = occupation_summary_stats[occupation_summary_stats['75%'] == occupation_summary_stats['75%'].max()].index[0]\n",
    "    print(\"Profession with the largest share of the workforce above the 75th percentile:\", highest_percentile_profession)\n",
    "else:\n",
    "    print(\"There is no occupation with data beyond the 75th percentile.\")\n"
   ]
  },
  {
   "cell_type": "code",
   "execution_count": null,
   "metadata": {},
   "outputs": [],
   "source": [
    "N.B. After the '?' removed from the occupation column, the dataset 'income_data' was saved as 'income_data_cleaned' which will be used for the next activities."
   ]
  },
  {
   "cell_type": "code",
   "execution_count": 173,
   "metadata": {
    "colab": {
     "base_uri": "https://localhost:8080/"
    },
    "id": "WeW6K7YFmwRd",
    "outputId": "5f87db2e-7fbb-4dd1-843b-bca6548c60a5"
   },
   "outputs": [
    {
     "name": "stdout",
     "output_type": "stream",
     "text": [
      "Profession with the oldest workers on average: Exec-managerial\n",
      "Profession with the largest share of the workforce above the 75th percentile: Priv-house-serv\n"
     ]
    }
   ],
   "source": [
    "# Step 12: Group by occupation and show the summary statistics of age\n",
    "occupation_summary_stats = income_data_cleaned.groupby('occupation')['age'].describe()\n",
    "oldest_profession = occupation_summary_stats[occupation_summary_stats['mean'] == occupation_summary_stats['mean'].max()].index[0]\n",
    "print(\"Profession with the oldest workers on average:\", oldest_profession)\n",
    "highest_percentile_profession = occupation_summary_stats[occupation_summary_stats['75%'] == occupation_summary_stats['75%'].max()].index[0]\n",
    "print(\"Profession with the largest share of the workforce above the 75th percentile:\", highest_percentile_profession)"
   ]
  },
  {
   "cell_type": "code",
   "execution_count": 183,
   "metadata": {},
   "outputs": [
    {
     "data": {
      "text/html": [
       "<div>\n",
       "<style scoped>\n",
       "    .dataframe tbody tr th:only-of-type {\n",
       "        vertical-align: middle;\n",
       "    }\n",
       "\n",
       "    .dataframe tbody tr th {\n",
       "        vertical-align: top;\n",
       "    }\n",
       "\n",
       "    .dataframe thead th {\n",
       "        text-align: right;\n",
       "    }\n",
       "</style>\n",
       "<table border=\"1\" class=\"dataframe\">\n",
       "  <thead>\n",
       "    <tr style=\"text-align: right;\">\n",
       "      <th></th>\n",
       "      <th>count</th>\n",
       "      <th>mean</th>\n",
       "      <th>std</th>\n",
       "      <th>min</th>\n",
       "      <th>25%</th>\n",
       "      <th>50%</th>\n",
       "      <th>75%</th>\n",
       "      <th>max</th>\n",
       "    </tr>\n",
       "    <tr>\n",
       "      <th>occupation</th>\n",
       "      <th></th>\n",
       "      <th></th>\n",
       "      <th></th>\n",
       "      <th></th>\n",
       "      <th></th>\n",
       "      <th></th>\n",
       "      <th></th>\n",
       "      <th></th>\n",
       "    </tr>\n",
       "  </thead>\n",
       "  <tbody>\n",
       "    <tr>\n",
       "      <th>Adm-clerical</th>\n",
       "      <td>3770.0</td>\n",
       "      <td>36.964456</td>\n",
       "      <td>13.362998</td>\n",
       "      <td>17.0</td>\n",
       "      <td>26.0</td>\n",
       "      <td>35.0</td>\n",
       "      <td>46.0</td>\n",
       "      <td>90.0</td>\n",
       "    </tr>\n",
       "    <tr>\n",
       "      <th>Armed-Forces</th>\n",
       "      <td>9.0</td>\n",
       "      <td>30.222222</td>\n",
       "      <td>8.089774</td>\n",
       "      <td>23.0</td>\n",
       "      <td>24.0</td>\n",
       "      <td>29.0</td>\n",
       "      <td>34.0</td>\n",
       "      <td>46.0</td>\n",
       "    </tr>\n",
       "    <tr>\n",
       "      <th>Craft-repair</th>\n",
       "      <td>4099.0</td>\n",
       "      <td>39.031471</td>\n",
       "      <td>11.606436</td>\n",
       "      <td>17.0</td>\n",
       "      <td>30.0</td>\n",
       "      <td>38.0</td>\n",
       "      <td>47.0</td>\n",
       "      <td>90.0</td>\n",
       "    </tr>\n",
       "    <tr>\n",
       "      <th>Exec-managerial</th>\n",
       "      <td>4066.0</td>\n",
       "      <td>42.169208</td>\n",
       "      <td>11.974548</td>\n",
       "      <td>17.0</td>\n",
       "      <td>33.0</td>\n",
       "      <td>41.0</td>\n",
       "      <td>50.0</td>\n",
       "      <td>90.0</td>\n",
       "    </tr>\n",
       "    <tr>\n",
       "      <th>Farming-fishing</th>\n",
       "      <td>994.0</td>\n",
       "      <td>41.211268</td>\n",
       "      <td>15.070283</td>\n",
       "      <td>17.0</td>\n",
       "      <td>29.0</td>\n",
       "      <td>39.0</td>\n",
       "      <td>52.0</td>\n",
       "      <td>90.0</td>\n",
       "    </tr>\n",
       "    <tr>\n",
       "      <th>Handlers-cleaners</th>\n",
       "      <td>1370.0</td>\n",
       "      <td>32.165693</td>\n",
       "      <td>12.372635</td>\n",
       "      <td>17.0</td>\n",
       "      <td>23.0</td>\n",
       "      <td>29.0</td>\n",
       "      <td>39.0</td>\n",
       "      <td>90.0</td>\n",
       "    </tr>\n",
       "    <tr>\n",
       "      <th>Machine-op-inspct</th>\n",
       "      <td>2002.0</td>\n",
       "      <td>37.715285</td>\n",
       "      <td>12.068266</td>\n",
       "      <td>17.0</td>\n",
       "      <td>28.0</td>\n",
       "      <td>36.0</td>\n",
       "      <td>46.0</td>\n",
       "      <td>90.0</td>\n",
       "    </tr>\n",
       "    <tr>\n",
       "      <th>Other-service</th>\n",
       "      <td>3295.0</td>\n",
       "      <td>34.949621</td>\n",
       "      <td>14.521508</td>\n",
       "      <td>17.0</td>\n",
       "      <td>22.0</td>\n",
       "      <td>32.0</td>\n",
       "      <td>45.0</td>\n",
       "      <td>90.0</td>\n",
       "    </tr>\n",
       "    <tr>\n",
       "      <th>Priv-house-serv</th>\n",
       "      <td>149.0</td>\n",
       "      <td>41.724832</td>\n",
       "      <td>18.633688</td>\n",
       "      <td>17.0</td>\n",
       "      <td>24.0</td>\n",
       "      <td>40.0</td>\n",
       "      <td>57.0</td>\n",
       "      <td>81.0</td>\n",
       "    </tr>\n",
       "    <tr>\n",
       "      <th>Prof-specialty</th>\n",
       "      <td>4140.0</td>\n",
       "      <td>40.517633</td>\n",
       "      <td>12.016676</td>\n",
       "      <td>17.0</td>\n",
       "      <td>31.0</td>\n",
       "      <td>40.0</td>\n",
       "      <td>48.0</td>\n",
       "      <td>90.0</td>\n",
       "    </tr>\n",
       "    <tr>\n",
       "      <th>Protective-serv</th>\n",
       "      <td>649.0</td>\n",
       "      <td>38.953775</td>\n",
       "      <td>12.822062</td>\n",
       "      <td>17.0</td>\n",
       "      <td>29.0</td>\n",
       "      <td>36.0</td>\n",
       "      <td>47.0</td>\n",
       "      <td>90.0</td>\n",
       "    </tr>\n",
       "    <tr>\n",
       "      <th>Sales</th>\n",
       "      <td>3650.0</td>\n",
       "      <td>37.353973</td>\n",
       "      <td>14.186352</td>\n",
       "      <td>17.0</td>\n",
       "      <td>25.0</td>\n",
       "      <td>35.0</td>\n",
       "      <td>47.0</td>\n",
       "      <td>90.0</td>\n",
       "    </tr>\n",
       "    <tr>\n",
       "      <th>Tech-support</th>\n",
       "      <td>928.0</td>\n",
       "      <td>37.022629</td>\n",
       "      <td>11.316594</td>\n",
       "      <td>17.0</td>\n",
       "      <td>28.0</td>\n",
       "      <td>36.0</td>\n",
       "      <td>44.0</td>\n",
       "      <td>73.0</td>\n",
       "    </tr>\n",
       "    <tr>\n",
       "      <th>Transport-moving</th>\n",
       "      <td>1597.0</td>\n",
       "      <td>40.197871</td>\n",
       "      <td>12.450792</td>\n",
       "      <td>17.0</td>\n",
       "      <td>30.0</td>\n",
       "      <td>39.0</td>\n",
       "      <td>49.0</td>\n",
       "      <td>90.0</td>\n",
       "    </tr>\n",
       "  </tbody>\n",
       "</table>\n",
       "</div>"
      ],
      "text/plain": [
       "                    count       mean        std   min   25%   50%   75%   max\n",
       "occupation                                                                   \n",
       "Adm-clerical       3770.0  36.964456  13.362998  17.0  26.0  35.0  46.0  90.0\n",
       "Armed-Forces          9.0  30.222222   8.089774  23.0  24.0  29.0  34.0  46.0\n",
       "Craft-repair       4099.0  39.031471  11.606436  17.0  30.0  38.0  47.0  90.0\n",
       "Exec-managerial    4066.0  42.169208  11.974548  17.0  33.0  41.0  50.0  90.0\n",
       "Farming-fishing     994.0  41.211268  15.070283  17.0  29.0  39.0  52.0  90.0\n",
       "Handlers-cleaners  1370.0  32.165693  12.372635  17.0  23.0  29.0  39.0  90.0\n",
       "Machine-op-inspct  2002.0  37.715285  12.068266  17.0  28.0  36.0  46.0  90.0\n",
       "Other-service      3295.0  34.949621  14.521508  17.0  22.0  32.0  45.0  90.0\n",
       "Priv-house-serv     149.0  41.724832  18.633688  17.0  24.0  40.0  57.0  81.0\n",
       "Prof-specialty     4140.0  40.517633  12.016676  17.0  31.0  40.0  48.0  90.0\n",
       "Protective-serv     649.0  38.953775  12.822062  17.0  29.0  36.0  47.0  90.0\n",
       "Sales              3650.0  37.353973  14.186352  17.0  25.0  35.0  47.0  90.0\n",
       "Tech-support        928.0  37.022629  11.316594  17.0  28.0  36.0  44.0  73.0\n",
       "Transport-moving   1597.0  40.197871  12.450792  17.0  30.0  39.0  49.0  90.0"
      ]
     },
     "execution_count": 183,
     "metadata": {},
     "output_type": "execute_result"
    }
   ],
   "source": [
    "# Summary statistics of age\n",
    "\n",
    "occupation_summary_stats"
   ]
  },
  {
   "cell_type": "code",
   "execution_count": 184,
   "metadata": {
    "colab": {
     "base_uri": "https://localhost:8080/",
     "height": 787
    },
    "id": "L0wCl4NdmwZ6",
    "outputId": "812ac002-e9b1-4d4f-804c-15f7cb82b32e"
   },
   "outputs": [
    {
     "data": {
      "text/html": [
       "<div>\n",
       "<style scoped>\n",
       "    .dataframe tbody tr th:only-of-type {\n",
       "        vertical-align: middle;\n",
       "    }\n",
       "\n",
       "    .dataframe tbody tr th {\n",
       "        vertical-align: top;\n",
       "    }\n",
       "\n",
       "    .dataframe thead th {\n",
       "        text-align: right;\n",
       "    }\n",
       "</style>\n",
       "<table border=\"1\" class=\"dataframe\">\n",
       "  <thead>\n",
       "    <tr style=\"text-align: right;\">\n",
       "      <th></th>\n",
       "      <th></th>\n",
       "      <th>age</th>\n",
       "      <th>workclass</th>\n",
       "      <th>fnlwgt</th>\n",
       "      <th>education</th>\n",
       "      <th>education-num</th>\n",
       "      <th>marital-status</th>\n",
       "      <th>occupation</th>\n",
       "      <th>relationship</th>\n",
       "      <th>sex</th>\n",
       "      <th>capital-gain</th>\n",
       "      <th>capital-loss</th>\n",
       "      <th>hours-per-week</th>\n",
       "      <th>native-country</th>\n",
       "      <th>income</th>\n",
       "    </tr>\n",
       "    <tr>\n",
       "      <th>occupation</th>\n",
       "      <th></th>\n",
       "      <th></th>\n",
       "      <th></th>\n",
       "      <th></th>\n",
       "      <th></th>\n",
       "      <th></th>\n",
       "      <th></th>\n",
       "      <th></th>\n",
       "      <th></th>\n",
       "      <th></th>\n",
       "      <th></th>\n",
       "      <th></th>\n",
       "      <th></th>\n",
       "      <th></th>\n",
       "      <th></th>\n",
       "    </tr>\n",
       "  </thead>\n",
       "  <tbody>\n",
       "    <tr>\n",
       "      <th rowspan=\"5\" valign=\"top\">Adm-clerical</th>\n",
       "      <th>12</th>\n",
       "      <td>23</td>\n",
       "      <td>Private</td>\n",
       "      <td>122272</td>\n",
       "      <td>Bachelors</td>\n",
       "      <td>13</td>\n",
       "      <td>Never-married</td>\n",
       "      <td>Adm-clerical</td>\n",
       "      <td>Own-child</td>\n",
       "      <td>Female</td>\n",
       "      <td>0</td>\n",
       "      <td>0</td>\n",
       "      <td>30</td>\n",
       "      <td>United-States</td>\n",
       "      <td>&lt;=50K</td>\n",
       "    </tr>\n",
       "    <tr>\n",
       "      <th>37</th>\n",
       "      <td>19</td>\n",
       "      <td>Private</td>\n",
       "      <td>544091</td>\n",
       "      <td>HS-grad</td>\n",
       "      <td>9</td>\n",
       "      <td>Married-AF-spouse</td>\n",
       "      <td>Adm-clerical</td>\n",
       "      <td>Wife</td>\n",
       "      <td>Female</td>\n",
       "      <td>0</td>\n",
       "      <td>0</td>\n",
       "      <td>25</td>\n",
       "      <td>United-States</td>\n",
       "      <td>&lt;=50K</td>\n",
       "    </tr>\n",
       "    <tr>\n",
       "      <th>43</th>\n",
       "      <td>49</td>\n",
       "      <td>Private</td>\n",
       "      <td>94638</td>\n",
       "      <td>HS-grad</td>\n",
       "      <td>9</td>\n",
       "      <td>Separated</td>\n",
       "      <td>Adm-clerical</td>\n",
       "      <td>Unmarried</td>\n",
       "      <td>Female</td>\n",
       "      <td>0</td>\n",
       "      <td>0</td>\n",
       "      <td>40</td>\n",
       "      <td>United-States</td>\n",
       "      <td>&lt;=50K</td>\n",
       "    </tr>\n",
       "    <tr>\n",
       "      <th>67</th>\n",
       "      <td>53</td>\n",
       "      <td>Private</td>\n",
       "      <td>169846</td>\n",
       "      <td>HS-grad</td>\n",
       "      <td>9</td>\n",
       "      <td>Married-civ-spouse</td>\n",
       "      <td>Adm-clerical</td>\n",
       "      <td>Wife</td>\n",
       "      <td>Female</td>\n",
       "      <td>0</td>\n",
       "      <td>0</td>\n",
       "      <td>40</td>\n",
       "      <td>United-States</td>\n",
       "      <td>&gt;50K</td>\n",
       "    </tr>\n",
       "    <tr>\n",
       "      <th>126</th>\n",
       "      <td>20</td>\n",
       "      <td>Private</td>\n",
       "      <td>111697</td>\n",
       "      <td>Some-college</td>\n",
       "      <td>10</td>\n",
       "      <td>Never-married</td>\n",
       "      <td>Adm-clerical</td>\n",
       "      <td>Own-child</td>\n",
       "      <td>Female</td>\n",
       "      <td>0</td>\n",
       "      <td>1719</td>\n",
       "      <td>28</td>\n",
       "      <td>United-States</td>\n",
       "      <td>&lt;=50K</td>\n",
       "    </tr>\n",
       "    <tr>\n",
       "      <th>...</th>\n",
       "      <th>...</th>\n",
       "      <td>...</td>\n",
       "      <td>...</td>\n",
       "      <td>...</td>\n",
       "      <td>...</td>\n",
       "      <td>...</td>\n",
       "      <td>...</td>\n",
       "      <td>...</td>\n",
       "      <td>...</td>\n",
       "      <td>...</td>\n",
       "      <td>...</td>\n",
       "      <td>...</td>\n",
       "      <td>...</td>\n",
       "      <td>...</td>\n",
       "      <td>...</td>\n",
       "    </tr>\n",
       "    <tr>\n",
       "      <th rowspan=\"5\" valign=\"top\">Transport-moving</th>\n",
       "      <th>32289</th>\n",
       "      <td>24</td>\n",
       "      <td>Private</td>\n",
       "      <td>34568</td>\n",
       "      <td>Assoc-voc</td>\n",
       "      <td>11</td>\n",
       "      <td>Never-married</td>\n",
       "      <td>Transport-moving</td>\n",
       "      <td>Not-in-family</td>\n",
       "      <td>Male</td>\n",
       "      <td>0</td>\n",
       "      <td>0</td>\n",
       "      <td>40</td>\n",
       "      <td>United-States</td>\n",
       "      <td>&lt;=50K</td>\n",
       "    </tr>\n",
       "    <tr>\n",
       "      <th>32377</th>\n",
       "      <td>28</td>\n",
       "      <td>Private</td>\n",
       "      <td>180299</td>\n",
       "      <td>HS-grad</td>\n",
       "      <td>9</td>\n",
       "      <td>Married-civ-spouse</td>\n",
       "      <td>Transport-moving</td>\n",
       "      <td>Husband</td>\n",
       "      <td>Male</td>\n",
       "      <td>0</td>\n",
       "      <td>0</td>\n",
       "      <td>70</td>\n",
       "      <td>United-States</td>\n",
       "      <td>&lt;=50K</td>\n",
       "    </tr>\n",
       "    <tr>\n",
       "      <th>32435</th>\n",
       "      <td>25</td>\n",
       "      <td>Private</td>\n",
       "      <td>175128</td>\n",
       "      <td>HS-grad</td>\n",
       "      <td>9</td>\n",
       "      <td>Married-civ-spouse</td>\n",
       "      <td>Transport-moving</td>\n",
       "      <td>Husband</td>\n",
       "      <td>Male</td>\n",
       "      <td>0</td>\n",
       "      <td>0</td>\n",
       "      <td>40</td>\n",
       "      <td>United-States</td>\n",
       "      <td>&lt;=50K</td>\n",
       "    </tr>\n",
       "    <tr>\n",
       "      <th>32441</th>\n",
       "      <td>53</td>\n",
       "      <td>Private</td>\n",
       "      <td>304504</td>\n",
       "      <td>Some-college</td>\n",
       "      <td>10</td>\n",
       "      <td>Married-civ-spouse</td>\n",
       "      <td>Transport-moving</td>\n",
       "      <td>Husband</td>\n",
       "      <td>Male</td>\n",
       "      <td>0</td>\n",
       "      <td>1887</td>\n",
       "      <td>45</td>\n",
       "      <td>United-States</td>\n",
       "      <td>&gt;50K</td>\n",
       "    </tr>\n",
       "    <tr>\n",
       "      <th>32498</th>\n",
       "      <td>57</td>\n",
       "      <td>Private</td>\n",
       "      <td>153918</td>\n",
       "      <td>HS-grad</td>\n",
       "      <td>9</td>\n",
       "      <td>Married-civ-spouse</td>\n",
       "      <td>Transport-moving</td>\n",
       "      <td>Husband</td>\n",
       "      <td>Male</td>\n",
       "      <td>0</td>\n",
       "      <td>0</td>\n",
       "      <td>40</td>\n",
       "      <td>United-States</td>\n",
       "      <td>&lt;=50K</td>\n",
       "    </tr>\n",
       "  </tbody>\n",
       "</table>\n",
       "<p>14518 rows × 14 columns</p>\n",
       "</div>"
      ],
      "text/plain": [
       "                        age workclass  fnlwgt      education  education-num  \\\n",
       "occupation                                                                    \n",
       "Adm-clerical     12      23   Private  122272      Bachelors             13   \n",
       "                 37      19   Private  544091        HS-grad              9   \n",
       "                 43      49   Private   94638        HS-grad              9   \n",
       "                 67      53   Private  169846        HS-grad              9   \n",
       "                 126     20   Private  111697   Some-college             10   \n",
       "...                     ...       ...     ...            ...            ...   \n",
       "Transport-moving 32289   24   Private   34568      Assoc-voc             11   \n",
       "                 32377   28   Private  180299        HS-grad              9   \n",
       "                 32435   25   Private  175128        HS-grad              9   \n",
       "                 32441   53   Private  304504   Some-college             10   \n",
       "                 32498   57   Private  153918        HS-grad              9   \n",
       "\n",
       "                             marital-status        occupation    relationship  \\\n",
       "occupation                                                                      \n",
       "Adm-clerical     12           Never-married      Adm-clerical       Own-child   \n",
       "                 37       Married-AF-spouse      Adm-clerical            Wife   \n",
       "                 43               Separated      Adm-clerical       Unmarried   \n",
       "                 67      Married-civ-spouse      Adm-clerical            Wife   \n",
       "                 126          Never-married      Adm-clerical       Own-child   \n",
       "...                                     ...               ...             ...   \n",
       "Transport-moving 32289        Never-married  Transport-moving   Not-in-family   \n",
       "                 32377   Married-civ-spouse  Transport-moving         Husband   \n",
       "                 32435   Married-civ-spouse  Transport-moving         Husband   \n",
       "                 32441   Married-civ-spouse  Transport-moving         Husband   \n",
       "                 32498   Married-civ-spouse  Transport-moving         Husband   \n",
       "\n",
       "                            sex  capital-gain  capital-loss  hours-per-week  \\\n",
       "occupation                                                                    \n",
       "Adm-clerical     12      Female             0             0              30   \n",
       "                 37      Female             0             0              25   \n",
       "                 43      Female             0             0              40   \n",
       "                 67      Female             0             0              40   \n",
       "                 126     Female             0          1719              28   \n",
       "...                         ...           ...           ...             ...   \n",
       "Transport-moving 32289     Male             0             0              40   \n",
       "                 32377     Male             0             0              70   \n",
       "                 32435     Male             0             0              40   \n",
       "                 32441     Male             0          1887              45   \n",
       "                 32498     Male             0             0              40   \n",
       "\n",
       "                        native-country  income  \n",
       "occupation                                      \n",
       "Adm-clerical     12      United-States   <=50K  \n",
       "                 37      United-States   <=50K  \n",
       "                 43      United-States   <=50K  \n",
       "                 67      United-States    >50K  \n",
       "                 126     United-States   <=50K  \n",
       "...                                ...     ...  \n",
       "Transport-moving 32289   United-States   <=50K  \n",
       "                 32377   United-States   <=50K  \n",
       "                 32435   United-States   <=50K  \n",
       "                 32441   United-States    >50K  \n",
       "                 32498   United-States   <=50K  \n",
       "\n",
       "[14518 rows x 14 columns]"
      ]
     },
     "execution_count": 184,
     "metadata": {},
     "output_type": "execute_result"
    }
   ],
   "source": [
    "# Step 13: Use subset and groupby to find outliers\n",
    "outliers = income_data_cleaned.groupby('occupation').apply(lambda x: x[(x['age'] < x['age'].quantile(0.25)) | (x['age'] > x['age'].quantile(0.75))])\n",
    "outliers"
   ]
  },
  {
   "cell_type": "code",
   "execution_count": 185,
   "metadata": {
    "colab": {
     "base_uri": "https://localhost:8080/",
     "height": 585
    },
    "id": "unW-4YusmqC_",
    "outputId": "fe36a87e-645b-4b10-a153-d91ba552cf4d"
   },
   "outputs": [
    {
     "data": {
      "image/png": "[encoded data removed]",
      "text/plain": [
       "<Figure size 640x480 with 1 Axes>"
      ]
     },
     "metadata": {},
     "output_type": "display_data"
    }
   ],
   "source": [
    "# Step 14: Plot the values on a bar chart\n",
    "outliers_count = outliers['occupation'].value_counts()\n",
    "plt.bar(outliers_count.index, outliers_count.values)\n",
    "plt.title('Outliers Count by Occupation')\n",
    "plt.xlabel('Occupation')\n",
    "plt.ylabel('Count')\n",
    "plt.xticks(rotation=90)\n",
    "plt.show()"
   ]
  },
  {
   "cell_type": "code",
   "execution_count": 186,
   "metadata": {},
   "outputs": [
    {
     "name": "stdout",
     "output_type": "stream",
     "text": [
      "       age     workclass  fnlwgt      education  education-num  \\\n",
      "0       39     State-gov   77516      Bachelors             13   \n",
      "1       23       Private  122272      Bachelors             13   \n",
      "2       30   Federal-gov   59951   Some-college             10   \n",
      "3       19       Private  544091        HS-grad              9   \n",
      "4       49       Private   94638        HS-grad              9   \n",
      "...    ...           ...     ...            ...            ...   \n",
      "30713   17       Private   79682           10th              6   \n",
      "30714   27       Private  363053            9th              5   \n",
      "30715   24       Private  213902        7th-8th              4   \n",
      "30716   19       Private  188568   Some-college             10   \n",
      "30717   17       Private  141590           11th              7   \n",
      "\n",
      "            marital-status       occupation     relationship      sex  \\\n",
      "0            Never-married     Adm-clerical    Not-in-family     Male   \n",
      "1            Never-married     Adm-clerical        Own-child   Female   \n",
      "2       Married-civ-spouse     Adm-clerical        Own-child     Male   \n",
      "3        Married-AF-spouse     Adm-clerical             Wife   Female   \n",
      "4                Separated     Adm-clerical        Unmarried   Female   \n",
      "...                    ...              ...              ...      ...   \n",
      "30713        Never-married  Priv-house-serv   Other-relative     Male   \n",
      "30714        Never-married  Priv-house-serv        Unmarried   Female   \n",
      "30715        Never-married  Priv-house-serv        Own-child   Female   \n",
      "30716        Never-married  Priv-house-serv    Not-in-family   Female   \n",
      "30717        Never-married  Priv-house-serv        Own-child   Female   \n",
      "\n",
      "       capital-gain  ...  native-country  income   count       mean  \\\n",
      "0              2174  ...   United-States   <=50K  3770.0  36.964456   \n",
      "1                 0  ...   United-States   <=50K  3770.0  36.964456   \n",
      "2                 0  ...   United-States   <=50K  3770.0  36.964456   \n",
      "3                 0  ...   United-States   <=50K  3770.0  36.964456   \n",
      "4                 0  ...   United-States   <=50K  3770.0  36.964456   \n",
      "...             ...  ...             ...     ...     ...        ...   \n",
      "30713             0  ...   United-States   <=50K   149.0  41.724832   \n",
      "30714             0  ...          Mexico   <=50K   149.0  41.724832   \n",
      "30715             0  ...     El-Salvador   <=50K   149.0  41.724832   \n",
      "30716             0  ...   United-States   <=50K   149.0  41.724832   \n",
      "30717             0  ...   United-States   <=50K   149.0  41.724832   \n",
      "\n",
      "             std   min   25%   50%   75%   max  \n",
      "0      13.362998  17.0  26.0  35.0  46.0  90.0  \n",
      "1      13.362998  17.0  26.0  35.0  46.0  90.0  \n",
      "2      13.362998  17.0  26.0  35.0  46.0  90.0  \n",
      "3      13.362998  17.0  26.0  35.0  46.0  90.0  \n",
      "4      13.362998  17.0  26.0  35.0  46.0  90.0  \n",
      "...          ...   ...   ...   ...   ...   ...  \n",
      "30713  18.633688  17.0  24.0  40.0  57.0  81.0  \n",
      "30714  18.633688  17.0  24.0  40.0  57.0  81.0  \n",
      "30715  18.633688  17.0  24.0  40.0  57.0  81.0  \n",
      "30716  18.633688  17.0  24.0  40.0  57.0  81.0  \n",
      "30717  18.633688  17.0  24.0  40.0  57.0  81.0  \n",
      "\n",
      "[30718 rows x 22 columns]\n"
     ]
    }
   ],
   "source": [
    "# Step 15: Merge the data using common keys\n",
    "\n",
    "import pandas as pd\n",
    "\n",
    "# Summary statistics DataFrame\n",
    "occupation_summary_stats = income_data_cleaned.groupby('occupation')['age'].describe().reset_index()\n",
    "\n",
    "# Merge the data using common keys (occupation)\n",
    "merged_data = pd.merge(income_data_cleaned, occupation_summary_stats, on='occupation')\n",
    "\n",
    "# Print the merged DataFrame\n",
    "print(merged_data)\n"
   ]
  },
  {
   "cell_type": "markdown",
   "metadata": {},
   "source": [
    "N.B. The original dataset was merged with the summary statistics DataFrame based on the 'occupation' column, adding summary statistics for each occupation to each corresponding row in the original dataset.\n"
   ]
  },
  {
   "cell_type": "code",
   "execution_count": null,
   "metadata": {},
   "outputs": [],
   "source": []
  },
  {
   "cell_type": "markdown",
   "metadata": {},
   "source": [
    "# Discussion Activity 4.01"
   ]
  },
  {
   "cell_type": "markdown",
   "metadata": {
    "id": "94NGoWzTpBNo"
   },
   "source": [
    "\n",
    "The primary objective of this analysis is to investigate the factors that influence income levels among adults. \n",
    "\n",
    "Specifically,the aims are:\n",
    "\n",
    "Identify demographic attributes associated with higher income levels.\n",
    "Analyze the distribution of income across different occupations.\n",
    "Detect outliers in the dataset and assess their impact on the analysis.\n",
    "Provide insights into potential avenues for further research and exploration.\n",
    "\n",
    "\n",
    "The analysis begins with data preprocessing, including handling missing values, data cleaning, and feature selection. We then proceed to explore the dataset through descriptive statistics, visualizations, and advanced data wrangling techniques. \n",
    "\n",
    "Key steps in the analysis include:\n",
    "\n",
    "Data loading and preprocessing: Reading the dataset from a CSV file, handling missing values, and cleaning the data.\n",
    "Exploratory data analysis: Visualizing the distribution of demographic attributes such as age, education, and occupation.\n",
    "Statistical analysis: Calculating summary statistics, identifying outliers, and assessing their impact on the analysis.\n",
    "Comparative analysis: Comparing income levels across different demographic groups and occupations.\n",
    "Interpretation and discussion: Interpreting the findings, discussing insights gained from the analysis, and proposing future research directions.\n",
    "\n",
    "\n",
    "The analysis reveals several noteworthy insights into the factors influencing income levels among adults. Education emerges as a significant predictor of income, with higher education levels corresponding to higher median incomes. Additionally, certain occupations, particularly those in managerial and professional fields, tend to command higher salaries. However, the presence of outliers suggests the need for cautious interpretation, as extreme values may distort the overall analysis. Furthermore, age exhibits a complex relationship with income, indicating potential nonlinear effects that merit deeper exploration."
   ]
  },
  {
   "cell_type": "markdown",
   "metadata": {
    "id": "p34IaGFgCUQE"
   },
   "source": [
    "# Excercise 3"
   ]
  },
  {
   "cell_type": "code",
   "execution_count": 2,
   "metadata": {
    "id": "FYohzAxGnCsM"
   },
   "outputs": [],
   "source": [
    "# Import required library\n",
    "import pandas as pd"
   ]
  },
  {
   "cell_type": "code",
   "execution_count": 3,
   "metadata": {
    "id": "FR6V7_mfnCyE"
   },
   "outputs": [],
   "source": [
    "# Creating Series 1\n",
    "data1 = [7.3, -2.5, 3.4, 1.5]\n",
    "index1 = ['a', 'c', 'd', 'e']\n",
    "series1 = pd.Series(data1, index=index1)"
   ]
  },
  {
   "cell_type": "code",
   "execution_count": 7,
   "metadata": {
    "id": "fl_7_QNNnC36"
   },
   "outputs": [],
   "source": [
    "# Creating Series 2\n",
    "data2 = [-2.1, 3.6, -1.5, 4, 3.1]\n",
    "index2 = ['a', 'c', 'e', 'f', 'g']\n",
    "series2 = pd.Series(data2, index=index2)"
   ]
  },
  {
   "cell_type": "code",
   "execution_count": 8,
   "metadata": {
    "colab": {
     "base_uri": "https://localhost:8080/"
    },
    "id": "oZPgg5svnC7b",
    "outputId": "875971bf-d33c-460c-ab4b-6b91a0bb294a"
   },
   "outputs": [
    {
     "name": "stdout",
     "output_type": "stream",
     "text": [
      "Addition Result:\n",
      "a    5.2\n",
      "c    1.1\n",
      "d    3.4\n",
      "e    0.0\n",
      "f    4.0\n",
      "g    3.1\n",
      "dtype: float64\n"
     ]
    }
   ],
   "source": [
    "# Adding Series 1 and Series 2\n",
    "addition_result = series1.add(series2, fill_value=0)\n",
    "print(\"Addition Result:\")\n",
    "print(addition_result)"
   ]
  },
  {
   "cell_type": "code",
   "execution_count": 9,
   "metadata": {
    "colab": {
     "base_uri": "https://localhost:8080/"
    },
    "id": "dvZhsX-nnC-y",
    "outputId": "8f21a0c4-15cf-430e-fa71-0734c87ccf43"
   },
   "outputs": [
    {
     "name": "stdout",
     "output_type": "stream",
     "text": [
      "\n",
      "Subtraction Result:\n",
      "a   -9.4\n",
      "c    6.1\n",
      "d   -3.4\n",
      "e   -3.0\n",
      "f    4.0\n",
      "g    3.1\n",
      "dtype: float64\n"
     ]
    }
   ],
   "source": [
    "# Subtracting Series 1 from Series 2\n",
    "subtraction_result = series2.subtract(series1, fill_value=0)\n",
    "print(\"\\nSubtraction Result:\")\n",
    "print(subtraction_result)"
   ]
  },
  {
   "cell_type": "markdown",
   "metadata": {
    "id": "GoyMMnq4nDB2"
   },
   "source": [
    "# Discussion Excercise 3"
   ]
  },
  {
   "cell_type": "markdown",
   "metadata": {
    "id": "3C7yL2JPnZXv"
   },
   "source": [
    "\n",
    "The task at hand involves creating two pandas Series objects, each with specified data and index values, and performing addition and subtraction operations on them. Additionally, the aim was to investigate how the operations handle missing indices and data points, and discuss the implications of these behaviors.\n",
    "\n",
    "Data Preparation: Two pandas Series objects, Series 1 and Series 2, are created with specified data and index values.\n",
    "Arithmetic Operations: Addition and subtraction operations are performed on Series 1 and Series 2.\n",
    "Handling Missing Values: The operations are executed with the consideration of missing indices or data points using the fill_value=0 argument.\n",
    "\n",
    "The addition operation combines corresponding elements from both Series, resulting in a new Series with the union of indices from both input Series. Any missing index or data point is treated as zero during the operation. Similarly, the subtraction operation computes the difference between corresponding elements of the Series, also considering missing values as zero.\n"
   ]
  },
  {
   "cell_type": "markdown",
   "metadata": {
    "id": "_X080__HoCGL"
   },
   "source": [
    "# Short Report on Overall activities"
   ]
  },
  {
   "cell_type": "markdown",
   "metadata": {
    "id": "1pk3amBSoCh_"
   },
   "source": [
    "\n",
    "Title: Exploratory Analysis of Diverse Datasets: Insights and Methodologies\n",
    "\n",
    "Introduction: This comprehensive report integrates findings from three distinct analyses: an exploratory data analysis (EDA) of the Boston Housing Dataset, an analysis of the Adult Income Dataset, and an investigation into arithmetic operations on pandas Series in Python. The aim is to synthesize key insights and methodologies from these analyses to provide a comprehensive understanding of data exploration, analysis, and manipulation techniques.\n",
    "\n",
    "Statement of the Problem: The overarching objective of this report is to explore diverse datasets, ranging from housing attributes to demographic information and computational operations, to uncover patterns, relationships, and implications for further research and decision-making. Specifically, the analyses aim to:\n",
    "\n",
    "Explore factors influencing housing prices in the Boston area. Identify demographic and occupational determinants of income levels among adults. Investigate the implementation and implications of basic arithmetic operations on pandas Series.\n",
    "\n",
    "Methodology: The methodologies employed in each analysis vary based on the nature of the dataset and the objectives of the investigation.\n",
    "\n",
    "Boston Housing Dataset Analysis: The analysis begins with data loading and preprocessing using pandas. Descriptive statistics, visualizations (such as histograms and scatter plots), and correlation analyses are conducted to explore relationships between variables. The methodology emphasizes data wrangling, visualization, and statistical analysis.\n",
    "\n",
    "Adult Income Dataset Analysis: Data preprocessing involves handling missing values and feature selection. Descriptive statistics, visualizations, and statistical analysis are employed to identify patterns and relationships between demographic attributes, occupations, and income levels. Comparative analysis is used to compare income levels across different demographic groups and occupations.\n",
    "\n",
    "Arithmetic Operations on Pandas Series: Two pandas Series objects are created, and addition and subtraction operations are performed. The analysis investigates how these operations handle missing values using the fill_value=0 argument.\n",
    "\n",
    "Result and Discussion\n",
    "\n",
    "Boston Housing Dataset:\n",
    "Total number of records: 506\n",
    "Mean Rooms per Dwelling: 6.28\n",
    "Median Age: 77.5\n",
    "Mean Distance to Employment Centers: 3.80\n",
    "Percentage of Houses with Low Price (< $20,000): 41.50%\n",
    "Insights from the Boston Housing Dataset provide valuable information about the housing market in the area. The distribution of housing prices indicates a significant proportion of affordable housing options, with 41.50% of houses priced below $20,000. Additionally, variables such as the number of rooms per dwelling and distance to employment centers offer insights into factors influencing property prices. Correlations between variables, such as crime rate and property prices, further contribute to understanding housing dynamics in the area.\n",
    "\n",
    "Adult Income Dataset:\n",
    "Number of people aged between 30 and 50: 16,390\n",
    "Profession with the oldest workers on average: Exec-managerial\n",
    "Profession with the largest share of the workforce above the 75th percentile: Priv-house-serv\n",
    "Analysis of the Adult Income Dataset highlights the significance of demographic attributes such as age, education, and occupation in determining income levels among adults. With 16,390 people aged between 30 and 50, the dataset provides insights into the demographic composition of the workforce. The identification of professions with the oldest workers on average, such as Exec-managerial, and those with the largest share of the workforce above the 75th percentile, such as Priv-house-serv, offers valuable insights for workforce planning and labor market analysis.\n",
    "\n",
    "Arithmetic Operations on Pandas Series:\n",
    "The practical implementation of addition and subtraction operations on pandas Series provides a foundational understanding of data manipulation techniques. Considerations for handling missing values, as demonstrated in the arithmetic operations, are crucial for accurate data analysis. These operations serve as building blocks for more complex data manipulations and analyses in diverse domains.\n",
    "\n",
    "Conclusions:\n",
    "The comprehensive analysis of diverse datasets, including the Boston Housing Dataset and the Adult Income Dataset, offers valuable insights into housing dynamics, workforce demographics, and data manipulation techniques. Understanding factors influencing housing prices and income levels, as well as implementing basic arithmetic operations on pandas Series, contributes to informed decision-making and further research in related domains. The findings from these analyses lay the groundwork for exploring complex relationships within datasets and informing future research directions.\n",
    "\n",
    "\n",
    "Way Forward: Moving forward, future research could involve more advanced analyses, predictive modeling, and exploration of alternative methodologies. Additionally, continued investigation into the datasets and techniques discussed in this report could lead to deeper insights and practical applications in various fields, including urban planning, socioeconomic research, and data analysis."
   ]
  },
  {
   "cell_type": "code",
   "execution_count": null,
   "metadata": {},
   "outputs": [],
   "source": []
  }
 ],
 "metadata": {
  "colab": {
   "provenance": []
  },
  "kernelspec": {
   "display_name": "Python 3 (ipykernel)",
   "language": "python",
   "name": "python3"
  },
  "language_info": {
   "codemirror_mode": {
    "name": "ipython",
    "version": 3
   },
   "file_extension": ".py",
   "mimetype": "text/x-python",
   "name": "python",
   "nbconvert_exporter": "python",
   "pygments_lexer": "ipython3",
   "version": "3.9.18"
  }
 },
 "nbformat": 4,
 "nbformat_minor": 1
}
